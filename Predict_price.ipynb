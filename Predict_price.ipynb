{
  "cells": [
    {
      "cell_type": "markdown",
      "source": [
        "https://www.kaggle.com/c/cisc-873-dm-f22-a4/overview"
      ],
      "metadata": {
        "id": "mChZUZ2rYFfr"
      }
    },
    {
      "cell_type": "markdown",
      "metadata": {
        "id": "xtuxWrmAvyuK"
      },
      "source": [
        "# **Problem Formulation**"
      ]
    },
    {
      "cell_type": "markdown",
      "metadata": {
        "id": "KQBzJA9Uv-EJ"
      },
      "source": [
        "**Problem:** We want to predict apartment/house listing price if it is categorised into one of three categories according to listing characteristics, some features, the appropriate model.\n",
        "\n",
        "**Inputs:** Two columns(summary and image)\n",
        "\n",
        "**Output:** Classify an apartment or house into the beginner, plus, or premium category.\n",
        "\n",
        "**Function required:** Classification & Prediction\n",
        "\n",
        "**Challenges:** \\\n",
        "1. Remove stopwords, html tags, single letter, and multiple space.\n",
        "2. Image preprocessing\n",
        "3. Determine siutable Classifier.\n",
        "4. Use validation\n",
        "5. Select optimal hyperparameters.\n",
        "6. Find best accuracy.\n",
        "\n",
        "**What is the impact?**\n",
        "* If the model predicts the type of apartment correctly, this means they will not wait to know if the apartment is beginner, plus, or premium category, as the model will tell them the type of apartment, so they can save time waiting to know if the apartment  is beginner, plus, or premium category.\n",
        "\n",
        "**What is the ideal solution?**\n",
        "* The **Trial 5** is the best solution by using **Average, Dropout, and Conv2d**.\n",
        "* Accuracy **0.68614** (public) **0.69320** (private) in kaggle\n"
      ]
    },
    {
      "cell_type": "markdown",
      "metadata": {
        "id": "GXCqP67YXVls"
      },
      "source": [
        "# **Trials**"
      ]
    },
    {
      "cell_type": "markdown",
      "metadata": {
        "id": "7opYAnLnap5E"
      },
      "source": [
        "## **Common Commands** in all models"
      ]
    },
    {
      "cell_type": "markdown",
      "metadata": {
        "id": "mHYdmY69XkRt"
      },
      "source": [
        "**What is the experimental protocol used and how was it carried out?** \\\n",
        "1. Read Training and Testing Data \n",
        "2. Text Preprocessing \n",
        "3. Drop NaN values\n",
        "4. Image Preprocessing\n",
        "5. Text Tokenizer\n",
        "6. Tuning hyperparameters\n",
        "7. Built model\n",
        "8. Show plot\n",
        "* I used the hold out method.\n",
        "\n",
        "**How did we tune hyper-parameters in the template?**\n",
        "- I tried to change the number of epochs, batch_size, validation split, and early stopping. \n",
        "- I tried to change the layer that is used.\n",
        "- Try and error\n",
        "\n",
        "**What is the search space?**\n",
        " - Search space is specified by the parameter grid's range of values for each parameter.(Try and Error)\n",
        "\n",
        "**what is the criteria to determine good/bad hyper-parameters?**\n",
        "\n",
        " - I define if hyper parameters are good or bad by loss function and performance metric, if the performance improves, that means the hyperparameters are good. If the performance is poor, it means the hyperparameters are bad.\n",
        "\n",
        "\n",
        "**What preprocessing steps are used?**\n",
        "* Text preprocessing\n",
        "  1. Remove html tags.\n",
        "  2. Remove stopwords.\n",
        "  3. Remove single letter.\n",
        "  4. Remove multiple spaces.\n",
        "  5. Convert all letters to lower case.\n",
        "  6. Taking any text that's length is greater than 25\n",
        "  7. Drop NaN values\n",
        "  8. Text Tokenizer\n",
        "* Image preprocessing\n",
        "  1. Read the image as a grey scale.\n",
        "  2. Resize all images to the same size\n",
        "  3. Convert image to an array"
      ]
    },
    {
      "cell_type": "markdown",
      "metadata": {
        "id": "inwm5qPoGMGh"
      },
      "source": [
        "##### Import liberaries"
      ]
    },
    {
      "cell_type": "code",
      "execution_count": null,
      "metadata": {
        "id": "kH2rJWewcfbr"
      },
      "outputs": [],
      "source": [
        "#import liberaries that I will use in my code\n",
        "import os\n",
        "import math\n",
        "import pandas as pd\n",
        "from tqdm.notebook import tqdm\n",
        "from PIL import Image\n",
        "import numpy as np\n",
        "from ast import literal_eval\n",
        "import re\n",
        "import pickle\n",
        "import sklearn\n",
        "import holoviews as hv # HoloViews is an open-source Python library designed to make data analysis and visualization seamless and simple. \n",
        "import nltk # NLTK is a standard Python package with prebuilt functions and utilities for quick and easy use."
      ]
    },
    {
      "cell_type": "code",
      "source": [
        "from nltk.stem.snowball import SnowballStemmer\n",
        "from nltk.tokenize import word_tokenize\n",
        "from nltk.corpus import stopwords\n",
        "# preprocess text data\n",
        "from tensorflow.keras.preprocessing.text import Tokenizer\n",
        "from tensorflow.keras.preprocessing.sequence import pad_sequences\n",
        "from sklearn.model_selection import train_test_split\n",
        "from pprint import pprint"
      ],
      "metadata": {
        "id": "1sqpGkLM_PMq"
      },
      "execution_count": null,
      "outputs": []
    },
    {
      "cell_type": "code",
      "source": [
        "from __future__ import absolute_import, division, print_function, unicode_literals\n",
        "import collections\n",
        "import matplotlib.pyplot as plt\n",
        "import numpy as np\n",
        "import tensorflow as tf\n",
        "from tensorflow import keras\n",
        "from tensorflow.keras.layers import Conv2D, Flatten, Dense, MaxPool2D,Bidirectional,Dropout\n",
        "from tensorflow.keras.optimizers import Adam\n",
        "from tensorflow.keras.layers import GRU,LSTM\n",
        "from keras.regularizers import l2"
      ],
      "metadata": {
        "id": "MeIG4vVd_wYS"
      },
      "execution_count": null,
      "outputs": []
    },
    {
      "cell_type": "code",
      "execution_count": null,
      "metadata": {
        "id": "8NAQFMRUaPwt",
        "colab": {
          "base_uri": "https://localhost:8080/"
        },
        "outputId": "f57dffd8-10b0-44b7-ff08-d9053b3e3877"
      },
      "outputs": [
        {
          "output_type": "stream",
          "name": "stdout",
          "text": [
            "Mounted at /content/drive\n"
          ]
        }
      ],
      "source": [
        "#connect to my drive\n",
        "from google.colab import drive\n",
        "drive.mount('/content/drive')"
      ]
    },
    {
      "cell_type": "markdown",
      "metadata": {
        "id": "2ZDj6MYdbJE8"
      },
      "source": [
        "##### Read Training and Testing data"
      ]
    },
    {
      "cell_type": "code",
      "execution_count": null,
      "metadata": {
        "id": "haSjfQKGaTAE",
        "colab": {
          "base_uri": "https://localhost:8080/",
          "height": 206
        },
        "outputId": "ce956137-89be-4812-ec27-c2d09b09ce67"
      },
      "outputs": [
        {
          "output_type": "execute_result",
          "data": {
            "text/plain": [
              "                                             summary            image  \\\n",
              "0  Spacious, sunny and cozy modern apartment in t...  img_train/0.jpg   \n",
              "1  Located in one of the most vibrant and accessi...  img_train/1.jpg   \n",
              "2  Logement coquet et douillet à 10 minutes du ce...  img_train/2.jpg   \n",
              "3  Beautiful and spacious (1076 sc ft, / 100 mc) ...  img_train/3.jpg   \n",
              "4  Très grand appartement ''rustique'' et très ag...  img_train/4.jpg   \n",
              "\n",
              "        type  price  \n",
              "0  Apartment      1  \n",
              "1  Apartment      0  \n",
              "2  Apartment      1  \n",
              "3  Apartment      1  \n",
              "4  Apartment      0  "
            ],
            "text/html": [
              "\n",
              "  <div id=\"df-b0c9e0af-dd9f-46f0-8524-a1f4414204ab\">\n",
              "    <div class=\"colab-df-container\">\n",
              "      <div>\n",
              "<style scoped>\n",
              "    .dataframe tbody tr th:only-of-type {\n",
              "        vertical-align: middle;\n",
              "    }\n",
              "\n",
              "    .dataframe tbody tr th {\n",
              "        vertical-align: top;\n",
              "    }\n",
              "\n",
              "    .dataframe thead th {\n",
              "        text-align: right;\n",
              "    }\n",
              "</style>\n",
              "<table border=\"1\" class=\"dataframe\">\n",
              "  <thead>\n",
              "    <tr style=\"text-align: right;\">\n",
              "      <th></th>\n",
              "      <th>summary</th>\n",
              "      <th>image</th>\n",
              "      <th>type</th>\n",
              "      <th>price</th>\n",
              "    </tr>\n",
              "  </thead>\n",
              "  <tbody>\n",
              "    <tr>\n",
              "      <th>0</th>\n",
              "      <td>Spacious, sunny and cozy modern apartment in t...</td>\n",
              "      <td>img_train/0.jpg</td>\n",
              "      <td>Apartment</td>\n",
              "      <td>1</td>\n",
              "    </tr>\n",
              "    <tr>\n",
              "      <th>1</th>\n",
              "      <td>Located in one of the most vibrant and accessi...</td>\n",
              "      <td>img_train/1.jpg</td>\n",
              "      <td>Apartment</td>\n",
              "      <td>0</td>\n",
              "    </tr>\n",
              "    <tr>\n",
              "      <th>2</th>\n",
              "      <td>Logement coquet et douillet à 10 minutes du ce...</td>\n",
              "      <td>img_train/2.jpg</td>\n",
              "      <td>Apartment</td>\n",
              "      <td>1</td>\n",
              "    </tr>\n",
              "    <tr>\n",
              "      <th>3</th>\n",
              "      <td>Beautiful and spacious (1076 sc ft, / 100 mc) ...</td>\n",
              "      <td>img_train/3.jpg</td>\n",
              "      <td>Apartment</td>\n",
              "      <td>1</td>\n",
              "    </tr>\n",
              "    <tr>\n",
              "      <th>4</th>\n",
              "      <td>Très grand appartement ''rustique'' et très ag...</td>\n",
              "      <td>img_train/4.jpg</td>\n",
              "      <td>Apartment</td>\n",
              "      <td>0</td>\n",
              "    </tr>\n",
              "  </tbody>\n",
              "</table>\n",
              "</div>\n",
              "      <button class=\"colab-df-convert\" onclick=\"convertToInteractive('df-b0c9e0af-dd9f-46f0-8524-a1f4414204ab')\"\n",
              "              title=\"Convert this dataframe to an interactive table.\"\n",
              "              style=\"display:none;\">\n",
              "        \n",
              "  <svg xmlns=\"http://www.w3.org/2000/svg\" height=\"24px\"viewBox=\"0 0 24 24\"\n",
              "       width=\"24px\">\n",
              "    <path d=\"M0 0h24v24H0V0z\" fill=\"none\"/>\n",
              "    <path d=\"M18.56 5.44l.94 2.06.94-2.06 2.06-.94-2.06-.94-.94-2.06-.94 2.06-2.06.94zm-11 1L8.5 8.5l.94-2.06 2.06-.94-2.06-.94L8.5 2.5l-.94 2.06-2.06.94zm10 10l.94 2.06.94-2.06 2.06-.94-2.06-.94-.94-2.06-.94 2.06-2.06.94z\"/><path d=\"M17.41 7.96l-1.37-1.37c-.4-.4-.92-.59-1.43-.59-.52 0-1.04.2-1.43.59L10.3 9.45l-7.72 7.72c-.78.78-.78 2.05 0 2.83L4 21.41c.39.39.9.59 1.41.59.51 0 1.02-.2 1.41-.59l7.78-7.78 2.81-2.81c.8-.78.8-2.07 0-2.86zM5.41 20L4 18.59l7.72-7.72 1.47 1.35L5.41 20z\"/>\n",
              "  </svg>\n",
              "      </button>\n",
              "      \n",
              "  <style>\n",
              "    .colab-df-container {\n",
              "      display:flex;\n",
              "      flex-wrap:wrap;\n",
              "      gap: 12px;\n",
              "    }\n",
              "\n",
              "    .colab-df-convert {\n",
              "      background-color: #E8F0FE;\n",
              "      border: none;\n",
              "      border-radius: 50%;\n",
              "      cursor: pointer;\n",
              "      display: none;\n",
              "      fill: #1967D2;\n",
              "      height: 32px;\n",
              "      padding: 0 0 0 0;\n",
              "      width: 32px;\n",
              "    }\n",
              "\n",
              "    .colab-df-convert:hover {\n",
              "      background-color: #E2EBFA;\n",
              "      box-shadow: 0px 1px 2px rgba(60, 64, 67, 0.3), 0px 1px 3px 1px rgba(60, 64, 67, 0.15);\n",
              "      fill: #174EA6;\n",
              "    }\n",
              "\n",
              "    [theme=dark] .colab-df-convert {\n",
              "      background-color: #3B4455;\n",
              "      fill: #D2E3FC;\n",
              "    }\n",
              "\n",
              "    [theme=dark] .colab-df-convert:hover {\n",
              "      background-color: #434B5C;\n",
              "      box-shadow: 0px 1px 3px 1px rgba(0, 0, 0, 0.15);\n",
              "      filter: drop-shadow(0px 1px 2px rgba(0, 0, 0, 0.3));\n",
              "      fill: #FFFFFF;\n",
              "    }\n",
              "  </style>\n",
              "\n",
              "      <script>\n",
              "        const buttonEl =\n",
              "          document.querySelector('#df-b0c9e0af-dd9f-46f0-8524-a1f4414204ab button.colab-df-convert');\n",
              "        buttonEl.style.display =\n",
              "          google.colab.kernel.accessAllowed ? 'block' : 'none';\n",
              "\n",
              "        async function convertToInteractive(key) {\n",
              "          const element = document.querySelector('#df-b0c9e0af-dd9f-46f0-8524-a1f4414204ab');\n",
              "          const dataTable =\n",
              "            await google.colab.kernel.invokeFunction('convertToInteractive',\n",
              "                                                     [key], {});\n",
              "          if (!dataTable) return;\n",
              "\n",
              "          const docLinkHtml = 'Like what you see? Visit the ' +\n",
              "            '<a target=\"_blank\" href=https://colab.research.google.com/notebooks/data_table.ipynb>data table notebook</a>'\n",
              "            + ' to learn more about interactive tables.';\n",
              "          element.innerHTML = '';\n",
              "          dataTable['output_type'] = 'display_data';\n",
              "          await google.colab.output.renderOutput(dataTable, element);\n",
              "          const docLink = document.createElement('div');\n",
              "          docLink.innerHTML = docLinkHtml;\n",
              "          element.appendChild(docLink);\n",
              "        }\n",
              "      </script>\n",
              "    </div>\n",
              "  </div>\n",
              "  "
            ]
          },
          "metadata": {},
          "execution_count": 5
        }
      ],
      "source": [
        "# Read all our training data by using read_csv, which takes the path of the file with the extension that I want to read.\n",
        "data_tr = pd.read_csv('/content/drive/MyDrive/Queens_Practical/Data_Mining/compt4/train_xy.csv')\n",
        "# Based on position, this function returns the first 5 rows of the dataset. It's used to quickly see if our dataset contains the proper kind of data.\n",
        "data_tr.head(5)"
      ]
    },
    {
      "cell_type": "code",
      "execution_count": null,
      "metadata": {
        "id": "1uSmq39rabjY",
        "colab": {
          "base_uri": "https://localhost:8080/",
          "height": 206
        },
        "outputId": "9911a7aa-f655-4b7d-db1b-0b2c9934cd10"
      },
      "outputs": [
        {
          "output_type": "execute_result",
          "data": {
            "text/plain": [
              "   id                                            summary           image\n",
              "0   0  Charming warm house is ready to host you here ...  img_test/0.jpg\n",
              "1   1  La chambre est spacieuse et lumineuse, dans un...  img_test/1.jpg\n",
              "2   2  Grande chambre confortable située au sous-sol ...  img_test/2.jpg\n",
              "3   3  Près d’un Métro, ligne orange. 10 minutes à pi...  img_test/3.jpg\n",
              "4   4  Very bright appartment and very cosy. 2 separa...  img_test/4.jpg"
            ],
            "text/html": [
              "\n",
              "  <div id=\"df-230fd0fa-7c54-4dbf-8d56-142d693dc134\">\n",
              "    <div class=\"colab-df-container\">\n",
              "      <div>\n",
              "<style scoped>\n",
              "    .dataframe tbody tr th:only-of-type {\n",
              "        vertical-align: middle;\n",
              "    }\n",
              "\n",
              "    .dataframe tbody tr th {\n",
              "        vertical-align: top;\n",
              "    }\n",
              "\n",
              "    .dataframe thead th {\n",
              "        text-align: right;\n",
              "    }\n",
              "</style>\n",
              "<table border=\"1\" class=\"dataframe\">\n",
              "  <thead>\n",
              "    <tr style=\"text-align: right;\">\n",
              "      <th></th>\n",
              "      <th>id</th>\n",
              "      <th>summary</th>\n",
              "      <th>image</th>\n",
              "    </tr>\n",
              "  </thead>\n",
              "  <tbody>\n",
              "    <tr>\n",
              "      <th>0</th>\n",
              "      <td>0</td>\n",
              "      <td>Charming warm house is ready to host you here ...</td>\n",
              "      <td>img_test/0.jpg</td>\n",
              "    </tr>\n",
              "    <tr>\n",
              "      <th>1</th>\n",
              "      <td>1</td>\n",
              "      <td>La chambre est spacieuse et lumineuse, dans un...</td>\n",
              "      <td>img_test/1.jpg</td>\n",
              "    </tr>\n",
              "    <tr>\n",
              "      <th>2</th>\n",
              "      <td>2</td>\n",
              "      <td>Grande chambre confortable située au sous-sol ...</td>\n",
              "      <td>img_test/2.jpg</td>\n",
              "    </tr>\n",
              "    <tr>\n",
              "      <th>3</th>\n",
              "      <td>3</td>\n",
              "      <td>Près d’un Métro, ligne orange. 10 minutes à pi...</td>\n",
              "      <td>img_test/3.jpg</td>\n",
              "    </tr>\n",
              "    <tr>\n",
              "      <th>4</th>\n",
              "      <td>4</td>\n",
              "      <td>Very bright appartment and very cosy. 2 separa...</td>\n",
              "      <td>img_test/4.jpg</td>\n",
              "    </tr>\n",
              "  </tbody>\n",
              "</table>\n",
              "</div>\n",
              "      <button class=\"colab-df-convert\" onclick=\"convertToInteractive('df-230fd0fa-7c54-4dbf-8d56-142d693dc134')\"\n",
              "              title=\"Convert this dataframe to an interactive table.\"\n",
              "              style=\"display:none;\">\n",
              "        \n",
              "  <svg xmlns=\"http://www.w3.org/2000/svg\" height=\"24px\"viewBox=\"0 0 24 24\"\n",
              "       width=\"24px\">\n",
              "    <path d=\"M0 0h24v24H0V0z\" fill=\"none\"/>\n",
              "    <path d=\"M18.56 5.44l.94 2.06.94-2.06 2.06-.94-2.06-.94-.94-2.06-.94 2.06-2.06.94zm-11 1L8.5 8.5l.94-2.06 2.06-.94-2.06-.94L8.5 2.5l-.94 2.06-2.06.94zm10 10l.94 2.06.94-2.06 2.06-.94-2.06-.94-.94-2.06-.94 2.06-2.06.94z\"/><path d=\"M17.41 7.96l-1.37-1.37c-.4-.4-.92-.59-1.43-.59-.52 0-1.04.2-1.43.59L10.3 9.45l-7.72 7.72c-.78.78-.78 2.05 0 2.83L4 21.41c.39.39.9.59 1.41.59.51 0 1.02-.2 1.41-.59l7.78-7.78 2.81-2.81c.8-.78.8-2.07 0-2.86zM5.41 20L4 18.59l7.72-7.72 1.47 1.35L5.41 20z\"/>\n",
              "  </svg>\n",
              "      </button>\n",
              "      \n",
              "  <style>\n",
              "    .colab-df-container {\n",
              "      display:flex;\n",
              "      flex-wrap:wrap;\n",
              "      gap: 12px;\n",
              "    }\n",
              "\n",
              "    .colab-df-convert {\n",
              "      background-color: #E8F0FE;\n",
              "      border: none;\n",
              "      border-radius: 50%;\n",
              "      cursor: pointer;\n",
              "      display: none;\n",
              "      fill: #1967D2;\n",
              "      height: 32px;\n",
              "      padding: 0 0 0 0;\n",
              "      width: 32px;\n",
              "    }\n",
              "\n",
              "    .colab-df-convert:hover {\n",
              "      background-color: #E2EBFA;\n",
              "      box-shadow: 0px 1px 2px rgba(60, 64, 67, 0.3), 0px 1px 3px 1px rgba(60, 64, 67, 0.15);\n",
              "      fill: #174EA6;\n",
              "    }\n",
              "\n",
              "    [theme=dark] .colab-df-convert {\n",
              "      background-color: #3B4455;\n",
              "      fill: #D2E3FC;\n",
              "    }\n",
              "\n",
              "    [theme=dark] .colab-df-convert:hover {\n",
              "      background-color: #434B5C;\n",
              "      box-shadow: 0px 1px 3px 1px rgba(0, 0, 0, 0.15);\n",
              "      filter: drop-shadow(0px 1px 2px rgba(0, 0, 0, 0.3));\n",
              "      fill: #FFFFFF;\n",
              "    }\n",
              "  </style>\n",
              "\n",
              "      <script>\n",
              "        const buttonEl =\n",
              "          document.querySelector('#df-230fd0fa-7c54-4dbf-8d56-142d693dc134 button.colab-df-convert');\n",
              "        buttonEl.style.display =\n",
              "          google.colab.kernel.accessAllowed ? 'block' : 'none';\n",
              "\n",
              "        async function convertToInteractive(key) {\n",
              "          const element = document.querySelector('#df-230fd0fa-7c54-4dbf-8d56-142d693dc134');\n",
              "          const dataTable =\n",
              "            await google.colab.kernel.invokeFunction('convertToInteractive',\n",
              "                                                     [key], {});\n",
              "          if (!dataTable) return;\n",
              "\n",
              "          const docLinkHtml = 'Like what you see? Visit the ' +\n",
              "            '<a target=\"_blank\" href=https://colab.research.google.com/notebooks/data_table.ipynb>data table notebook</a>'\n",
              "            + ' to learn more about interactive tables.';\n",
              "          element.innerHTML = '';\n",
              "          dataTable['output_type'] = 'display_data';\n",
              "          await google.colab.output.renderOutput(dataTable, element);\n",
              "          const docLink = document.createElement('div');\n",
              "          docLink.innerHTML = docLinkHtml;\n",
              "          element.appendChild(docLink);\n",
              "        }\n",
              "      </script>\n",
              "    </div>\n",
              "  </div>\n",
              "  "
            ]
          },
          "metadata": {},
          "execution_count": 6
        }
      ],
      "source": [
        "# Read all our testing data by using read_csv, which takes the path of the file with the extension that I want to read.\n",
        "data_ts = pd.read_csv('/content/drive/MyDrive/Queens_Practical/Data_Mining/compt4/test_x.csv')\n",
        "# Based on position, this function returns the first 5 rows of the dataset. It's used to quickly see if our dataset contains the proper kind of data.\n",
        "data_ts.head(5)"
      ]
    },
    {
      "cell_type": "code",
      "execution_count": null,
      "metadata": {
        "id": "Xl_Iq1A48o7y",
        "colab": {
          "base_uri": "https://localhost:8080/"
        },
        "outputId": "41625ee2-874c-4e39-d991-78284ff075d3"
      },
      "outputs": [
        {
          "output_type": "stream",
          "name": "stdout",
          "text": [
            "Index(['summary', 'image', 'type', 'price'], dtype='object')\n",
            "Index(['id', 'summary', 'image'], dtype='object')\n"
          ]
        }
      ],
      "source": [
        "# Display the column's name in training and testing data\n",
        "print(data_tr.columns)\n",
        "print(data_ts.columns)"
      ]
    },
    {
      "cell_type": "markdown",
      "metadata": {
        "id": "FUNKxyseA-_E"
      },
      "source": [
        "##### Preprocessing"
      ]
    },
    {
      "cell_type": "code",
      "source": [
        "# Convert type into lable encoder\n",
        "data_tr['type'] = data_tr.type.astype('category').cat.codes\n",
        "len_type = len(data_tr.type.unique())\n",
        "len_price=len(data_tr.price.unique())\n",
        "data_tr"
      ],
      "metadata": {
        "colab": {
          "base_uri": "https://localhost:8080/",
          "height": 424
        },
        "id": "xsNyKphpoGoB",
        "outputId": "b59a1be5-8dc0-404a-f0b1-7ee2b1569cdc"
      },
      "execution_count": null,
      "outputs": [
        {
          "output_type": "execute_result",
          "data": {
            "text/plain": [
              "                                                summary               image  \\\n",
              "0     Spacious, sunny and cozy modern apartment in t...     img_train/0.jpg   \n",
              "1     Located in one of the most vibrant and accessi...     img_train/1.jpg   \n",
              "2     Logement coquet et douillet à 10 minutes du ce...     img_train/2.jpg   \n",
              "3     Beautiful and spacious (1076 sc ft, / 100 mc) ...     img_train/3.jpg   \n",
              "4     Très grand appartement ''rustique'' et très ag...     img_train/4.jpg   \n",
              "...                                                 ...                 ...   \n",
              "7622  Un grand logement 4 et 1/2, tout inclut, bien ...  img_train/7626.jpg   \n",
              "7623  Magnificent condo directly on the river. You w...  img_train/7627.jpg   \n",
              "7624  This apartment is perfect for anyone visiting ...  img_train/7628.jpg   \n",
              "7625  It is a cozy ,clean ,and comfortable apartment...  img_train/7629.jpg   \n",
              "7626  Modern country style (newly-renovated); open c...  img_train/7630.jpg   \n",
              "\n",
              "      type  price  \n",
              "0        1      1  \n",
              "1        1      0  \n",
              "2        1      1  \n",
              "3        1      1  \n",
              "4        1      0  \n",
              "...    ...    ...  \n",
              "7622     1      0  \n",
              "7623     1      2  \n",
              "7624     1      1  \n",
              "7625     1      0  \n",
              "7626    17      1  \n",
              "\n",
              "[7627 rows x 4 columns]"
            ],
            "text/html": [
              "\n",
              "  <div id=\"df-f1a52303-6e13-439a-a3f9-d4745d0d30cc\">\n",
              "    <div class=\"colab-df-container\">\n",
              "      <div>\n",
              "<style scoped>\n",
              "    .dataframe tbody tr th:only-of-type {\n",
              "        vertical-align: middle;\n",
              "    }\n",
              "\n",
              "    .dataframe tbody tr th {\n",
              "        vertical-align: top;\n",
              "    }\n",
              "\n",
              "    .dataframe thead th {\n",
              "        text-align: right;\n",
              "    }\n",
              "</style>\n",
              "<table border=\"1\" class=\"dataframe\">\n",
              "  <thead>\n",
              "    <tr style=\"text-align: right;\">\n",
              "      <th></th>\n",
              "      <th>summary</th>\n",
              "      <th>image</th>\n",
              "      <th>type</th>\n",
              "      <th>price</th>\n",
              "    </tr>\n",
              "  </thead>\n",
              "  <tbody>\n",
              "    <tr>\n",
              "      <th>0</th>\n",
              "      <td>Spacious, sunny and cozy modern apartment in t...</td>\n",
              "      <td>img_train/0.jpg</td>\n",
              "      <td>1</td>\n",
              "      <td>1</td>\n",
              "    </tr>\n",
              "    <tr>\n",
              "      <th>1</th>\n",
              "      <td>Located in one of the most vibrant and accessi...</td>\n",
              "      <td>img_train/1.jpg</td>\n",
              "      <td>1</td>\n",
              "      <td>0</td>\n",
              "    </tr>\n",
              "    <tr>\n",
              "      <th>2</th>\n",
              "      <td>Logement coquet et douillet à 10 minutes du ce...</td>\n",
              "      <td>img_train/2.jpg</td>\n",
              "      <td>1</td>\n",
              "      <td>1</td>\n",
              "    </tr>\n",
              "    <tr>\n",
              "      <th>3</th>\n",
              "      <td>Beautiful and spacious (1076 sc ft, / 100 mc) ...</td>\n",
              "      <td>img_train/3.jpg</td>\n",
              "      <td>1</td>\n",
              "      <td>1</td>\n",
              "    </tr>\n",
              "    <tr>\n",
              "      <th>4</th>\n",
              "      <td>Très grand appartement ''rustique'' et très ag...</td>\n",
              "      <td>img_train/4.jpg</td>\n",
              "      <td>1</td>\n",
              "      <td>0</td>\n",
              "    </tr>\n",
              "    <tr>\n",
              "      <th>...</th>\n",
              "      <td>...</td>\n",
              "      <td>...</td>\n",
              "      <td>...</td>\n",
              "      <td>...</td>\n",
              "    </tr>\n",
              "    <tr>\n",
              "      <th>7622</th>\n",
              "      <td>Un grand logement 4 et 1/2, tout inclut, bien ...</td>\n",
              "      <td>img_train/7626.jpg</td>\n",
              "      <td>1</td>\n",
              "      <td>0</td>\n",
              "    </tr>\n",
              "    <tr>\n",
              "      <th>7623</th>\n",
              "      <td>Magnificent condo directly on the river. You w...</td>\n",
              "      <td>img_train/7627.jpg</td>\n",
              "      <td>1</td>\n",
              "      <td>2</td>\n",
              "    </tr>\n",
              "    <tr>\n",
              "      <th>7624</th>\n",
              "      <td>This apartment is perfect for anyone visiting ...</td>\n",
              "      <td>img_train/7628.jpg</td>\n",
              "      <td>1</td>\n",
              "      <td>1</td>\n",
              "    </tr>\n",
              "    <tr>\n",
              "      <th>7625</th>\n",
              "      <td>It is a cozy ,clean ,and comfortable apartment...</td>\n",
              "      <td>img_train/7629.jpg</td>\n",
              "      <td>1</td>\n",
              "      <td>0</td>\n",
              "    </tr>\n",
              "    <tr>\n",
              "      <th>7626</th>\n",
              "      <td>Modern country style (newly-renovated); open c...</td>\n",
              "      <td>img_train/7630.jpg</td>\n",
              "      <td>17</td>\n",
              "      <td>1</td>\n",
              "    </tr>\n",
              "  </tbody>\n",
              "</table>\n",
              "<p>7627 rows × 4 columns</p>\n",
              "</div>\n",
              "      <button class=\"colab-df-convert\" onclick=\"convertToInteractive('df-f1a52303-6e13-439a-a3f9-d4745d0d30cc')\"\n",
              "              title=\"Convert this dataframe to an interactive table.\"\n",
              "              style=\"display:none;\">\n",
              "        \n",
              "  <svg xmlns=\"http://www.w3.org/2000/svg\" height=\"24px\"viewBox=\"0 0 24 24\"\n",
              "       width=\"24px\">\n",
              "    <path d=\"M0 0h24v24H0V0z\" fill=\"none\"/>\n",
              "    <path d=\"M18.56 5.44l.94 2.06.94-2.06 2.06-.94-2.06-.94-.94-2.06-.94 2.06-2.06.94zm-11 1L8.5 8.5l.94-2.06 2.06-.94-2.06-.94L8.5 2.5l-.94 2.06-2.06.94zm10 10l.94 2.06.94-2.06 2.06-.94-2.06-.94-.94-2.06-.94 2.06-2.06.94z\"/><path d=\"M17.41 7.96l-1.37-1.37c-.4-.4-.92-.59-1.43-.59-.52 0-1.04.2-1.43.59L10.3 9.45l-7.72 7.72c-.78.78-.78 2.05 0 2.83L4 21.41c.39.39.9.59 1.41.59.51 0 1.02-.2 1.41-.59l7.78-7.78 2.81-2.81c.8-.78.8-2.07 0-2.86zM5.41 20L4 18.59l7.72-7.72 1.47 1.35L5.41 20z\"/>\n",
              "  </svg>\n",
              "      </button>\n",
              "      \n",
              "  <style>\n",
              "    .colab-df-container {\n",
              "      display:flex;\n",
              "      flex-wrap:wrap;\n",
              "      gap: 12px;\n",
              "    }\n",
              "\n",
              "    .colab-df-convert {\n",
              "      background-color: #E8F0FE;\n",
              "      border: none;\n",
              "      border-radius: 50%;\n",
              "      cursor: pointer;\n",
              "      display: none;\n",
              "      fill: #1967D2;\n",
              "      height: 32px;\n",
              "      padding: 0 0 0 0;\n",
              "      width: 32px;\n",
              "    }\n",
              "\n",
              "    .colab-df-convert:hover {\n",
              "      background-color: #E2EBFA;\n",
              "      box-shadow: 0px 1px 2px rgba(60, 64, 67, 0.3), 0px 1px 3px 1px rgba(60, 64, 67, 0.15);\n",
              "      fill: #174EA6;\n",
              "    }\n",
              "\n",
              "    [theme=dark] .colab-df-convert {\n",
              "      background-color: #3B4455;\n",
              "      fill: #D2E3FC;\n",
              "    }\n",
              "\n",
              "    [theme=dark] .colab-df-convert:hover {\n",
              "      background-color: #434B5C;\n",
              "      box-shadow: 0px 1px 3px 1px rgba(0, 0, 0, 0.15);\n",
              "      filter: drop-shadow(0px 1px 2px rgba(0, 0, 0, 0.3));\n",
              "      fill: #FFFFFF;\n",
              "    }\n",
              "  </style>\n",
              "\n",
              "      <script>\n",
              "        const buttonEl =\n",
              "          document.querySelector('#df-f1a52303-6e13-439a-a3f9-d4745d0d30cc button.colab-df-convert');\n",
              "        buttonEl.style.display =\n",
              "          google.colab.kernel.accessAllowed ? 'block' : 'none';\n",
              "\n",
              "        async function convertToInteractive(key) {\n",
              "          const element = document.querySelector('#df-f1a52303-6e13-439a-a3f9-d4745d0d30cc');\n",
              "          const dataTable =\n",
              "            await google.colab.kernel.invokeFunction('convertToInteractive',\n",
              "                                                     [key], {});\n",
              "          if (!dataTable) return;\n",
              "\n",
              "          const docLinkHtml = 'Like what you see? Visit the ' +\n",
              "            '<a target=\"_blank\" href=https://colab.research.google.com/notebooks/data_table.ipynb>data table notebook</a>'\n",
              "            + ' to learn more about interactive tables.';\n",
              "          element.innerHTML = '';\n",
              "          dataTable['output_type'] = 'display_data';\n",
              "          await google.colab.output.renderOutput(dataTable, element);\n",
              "          const docLink = document.createElement('div');\n",
              "          docLink.innerHTML = docLinkHtml;\n",
              "          element.appendChild(docLink);\n",
              "        }\n",
              "      </script>\n",
              "    </div>\n",
              "  </div>\n",
              "  "
            ]
          },
          "metadata": {},
          "execution_count": 8
        }
      ]
    },
    {
      "cell_type": "markdown",
      "source": [
        "###### Text Preprocessing"
      ],
      "metadata": {
        "id": "LOCpTv-R7aL9"
      }
    },
    {
      "cell_type": "code",
      "execution_count": null,
      "metadata": {
        "id": "ug1LefLKqfL7",
        "colab": {
          "base_uri": "https://localhost:8080/"
        },
        "outputId": "d674949f-2260-4070-98d4-5978c391fdd3"
      },
      "outputs": [
        {
          "output_type": "stream",
          "name": "stdout",
          "text": [
            "[nltk_data] Downloading package punkt to /root/nltk_data...\n",
            "[nltk_data]   Unzipping tokenizers/punkt.zip.\n",
            "[nltk_data] Downloading package stopwords to /root/nltk_data...\n",
            "[nltk_data]   Unzipping corpora/stopwords.zip.\n"
          ]
        }
      ],
      "source": [
        "nltk.download('punkt') # punkt is a tokenizer uses an unsupervised algorithm to divide a text into a list of sentences.\n",
        "nltk.download('stopwords') # download english stopwords\n",
        "\n",
        "stemmer = SnowballStemmer(\"english\")   # It is the method used to return the word to its original form\n",
        "stop_words = set(stopwords.words(\"english\")) # It is the method of producing a stop words\n",
        "\n",
        "def clean_text(text):\n",
        "    \"\"\" steps:\n",
        "        - remove any html tags (< /br> often found)\n",
        "        - Keep only ASCII + European Chars and whitespace, no digits\n",
        "        - remove single letter chars\n",
        "        - convert all whitespaces (tabs etc.) to single wspace\n",
        "        if not for embedding (but e.g. tdf-idf):\n",
        "        - all lowercase\n",
        "        - remove stopwords, punctuation and stemm\n",
        "    \"\"\"\n",
        "    # IGNORECASE : is a flag allows for case-insensitive matching of the Regular Expression with the given string\n",
        "    RE_WSPACE = re.compile(r\"\\s+\", re.IGNORECASE) # Remove any more than one space\n",
        "    RE_TAGS = re.compile(r\"<[^>]+>\") # Remove web tags\n",
        "    RE_ASCII = re.compile(r\"[^A-Za-zÀ-ž ]\", re.IGNORECASE) # Remove any leter does not english charachter\n",
        "    RE_SINGLECHAR = re.compile(r\"\\b[A-Za-zÀ-ž]\\b\", re.IGNORECASE) # Remove any single character\n",
        "\n",
        "    text = re.sub(RE_TAGS, \" \", text)# Replace any tag with a single space.\n",
        "    text = re.sub(RE_ASCII, \" \", text) # Replace any non english character with a single space.\n",
        "    text = re.sub(RE_SINGLECHAR, \" \", text) # Replace any single character with a single space.\n",
        "    text = re.sub(RE_WSPACE, \" \", text)  # Replace any more than one space with a single space.\n",
        "\n",
        "    word_tokens = word_tokenize(text) # split the sentence into words\n",
        "    words_tokens_lower = [word.lower() for word in word_tokens] # Convert all letters to small letters\n",
        "\n",
        "    # words_filtered (Words can be filtered based on how many times they appear)\n",
        "    # stemmer used to return the word to its original form.\n",
        "    words_filtered = [\n",
        "        stemmer.stem(word) for word in words_tokens_lower if word not in stop_words\n",
        "    ]\n",
        "\n",
        "    # Join all words in text_clean and separate them by space.\n",
        "    text_clean = \" \".join(words_filtered)\n",
        "    return text_clean"
      ]
    },
    {
      "cell_type": "code",
      "execution_count": null,
      "metadata": {
        "id": "kgp6f477r_5Y"
      },
      "outputs": [],
      "source": [
        "# Clean texts by taking any text that's length is greater than 25\n",
        "data_tr['summary']=data_tr.loc[data_tr['summary'].str.len()>25,\"summary\"]\n",
        "data_ts['summary']=data_ts.loc[data_ts['summary'].str.len()>0,\"summary\"]\n",
        "\n",
        "# map is an iterator function that returns a result after applying a clean_summary function to each item in an iterable \n",
        "# lambda is a function used to apply certain functions to all rows of a data set.\n",
        "# lambda take one argument (x) then put x in clean_summary function\n",
        "# if statement means ( if input x is string enter x to clean_summary function then the result put in data['clean_com'] if not return x in data['clean_com'] as it is  )\n",
        "data_tr['summary']=data_tr['summary'].map(\n",
        "    lambda x: clean_text(x) if isinstance(x, str) else x   \n",
        ")\n",
        "data_ts['summary']=data_ts['summary'].map(\n",
        "    lambda x: clean_text(x) if isinstance(x, str) else x   \n",
        ")"
      ]
    },
    {
      "cell_type": "code",
      "execution_count": null,
      "metadata": {
        "id": "GVm5gux3r_6H",
        "colab": {
          "base_uri": "https://localhost:8080/"
        },
        "outputId": "1d35546f-3cd5-4cb7-b141-e983468c48fa"
      },
      "outputs": [
        {
          "output_type": "execute_result",
          "data": {
            "text/plain": [
              "                                                summary               image  \\\n",
              "0     spacious sunni cozi modern apart heart montrea...     img_train/0.jpg   \n",
              "1     locat one vibrant access locat downtown montre...     img_train/1.jpg   \n",
              "2     logement coquet et douillet minut du centr vil...     img_train/2.jpg   \n",
              "3     beauti spacious sc ft mc condo th floor west i...     img_train/3.jpg   \n",
              "4     très grand appart rustiqu et très agréabl vivr...     img_train/4.jpg   \n",
              "...                                                 ...                 ...   \n",
              "7622  un grand logement et tout inclut bien éclairé ...  img_train/7626.jpg   \n",
              "7623  magnific condo direct river sleep song wild bi...  img_train/7627.jpg   \n",
              "7624  apart perfect anyon visit citi locat eclect ne...  img_train/7628.jpg   \n",
              "7625  cozi clean comfort apart heart downtown websit...  img_train/7629.jpg   \n",
              "7626  modern countri style newli renov open concept ...  img_train/7630.jpg   \n",
              "\n",
              "      type  price  \n",
              "0        1      1  \n",
              "1        1      0  \n",
              "2        1      1  \n",
              "3        1      1  \n",
              "4        1      0  \n",
              "...    ...    ...  \n",
              "7622     1      0  \n",
              "7623     1      2  \n",
              "7624     1      1  \n",
              "7625     1      0  \n",
              "7626    17      1  \n",
              "\n",
              "[7627 rows x 4 columns]"
            ],
            "text/html": [
              "\n",
              "  <div id=\"df-263b700e-14a1-4c1f-a35b-d34ea6576e0f\">\n",
              "    <div class=\"colab-df-container\">\n",
              "      <div>\n",
              "<style scoped>\n",
              "    .dataframe tbody tr th:only-of-type {\n",
              "        vertical-align: middle;\n",
              "    }\n",
              "\n",
              "    .dataframe tbody tr th {\n",
              "        vertical-align: top;\n",
              "    }\n",
              "\n",
              "    .dataframe thead th {\n",
              "        text-align: right;\n",
              "    }\n",
              "</style>\n",
              "<table border=\"1\" class=\"dataframe\">\n",
              "  <thead>\n",
              "    <tr style=\"text-align: right;\">\n",
              "      <th></th>\n",
              "      <th>summary</th>\n",
              "      <th>image</th>\n",
              "      <th>type</th>\n",
              "      <th>price</th>\n",
              "    </tr>\n",
              "  </thead>\n",
              "  <tbody>\n",
              "    <tr>\n",
              "      <th>0</th>\n",
              "      <td>spacious sunni cozi modern apart heart montrea...</td>\n",
              "      <td>img_train/0.jpg</td>\n",
              "      <td>1</td>\n",
              "      <td>1</td>\n",
              "    </tr>\n",
              "    <tr>\n",
              "      <th>1</th>\n",
              "      <td>locat one vibrant access locat downtown montre...</td>\n",
              "      <td>img_train/1.jpg</td>\n",
              "      <td>1</td>\n",
              "      <td>0</td>\n",
              "    </tr>\n",
              "    <tr>\n",
              "      <th>2</th>\n",
              "      <td>logement coquet et douillet minut du centr vil...</td>\n",
              "      <td>img_train/2.jpg</td>\n",
              "      <td>1</td>\n",
              "      <td>1</td>\n",
              "    </tr>\n",
              "    <tr>\n",
              "      <th>3</th>\n",
              "      <td>beauti spacious sc ft mc condo th floor west i...</td>\n",
              "      <td>img_train/3.jpg</td>\n",
              "      <td>1</td>\n",
              "      <td>1</td>\n",
              "    </tr>\n",
              "    <tr>\n",
              "      <th>4</th>\n",
              "      <td>très grand appart rustiqu et très agréabl vivr...</td>\n",
              "      <td>img_train/4.jpg</td>\n",
              "      <td>1</td>\n",
              "      <td>0</td>\n",
              "    </tr>\n",
              "    <tr>\n",
              "      <th>...</th>\n",
              "      <td>...</td>\n",
              "      <td>...</td>\n",
              "      <td>...</td>\n",
              "      <td>...</td>\n",
              "    </tr>\n",
              "    <tr>\n",
              "      <th>7622</th>\n",
              "      <td>un grand logement et tout inclut bien éclairé ...</td>\n",
              "      <td>img_train/7626.jpg</td>\n",
              "      <td>1</td>\n",
              "      <td>0</td>\n",
              "    </tr>\n",
              "    <tr>\n",
              "      <th>7623</th>\n",
              "      <td>magnific condo direct river sleep song wild bi...</td>\n",
              "      <td>img_train/7627.jpg</td>\n",
              "      <td>1</td>\n",
              "      <td>2</td>\n",
              "    </tr>\n",
              "    <tr>\n",
              "      <th>7624</th>\n",
              "      <td>apart perfect anyon visit citi locat eclect ne...</td>\n",
              "      <td>img_train/7628.jpg</td>\n",
              "      <td>1</td>\n",
              "      <td>1</td>\n",
              "    </tr>\n",
              "    <tr>\n",
              "      <th>7625</th>\n",
              "      <td>cozi clean comfort apart heart downtown websit...</td>\n",
              "      <td>img_train/7629.jpg</td>\n",
              "      <td>1</td>\n",
              "      <td>0</td>\n",
              "    </tr>\n",
              "    <tr>\n",
              "      <th>7626</th>\n",
              "      <td>modern countri style newli renov open concept ...</td>\n",
              "      <td>img_train/7630.jpg</td>\n",
              "      <td>17</td>\n",
              "      <td>1</td>\n",
              "    </tr>\n",
              "  </tbody>\n",
              "</table>\n",
              "<p>7627 rows × 4 columns</p>\n",
              "</div>\n",
              "      <button class=\"colab-df-convert\" onclick=\"convertToInteractive('df-263b700e-14a1-4c1f-a35b-d34ea6576e0f')\"\n",
              "              title=\"Convert this dataframe to an interactive table.\"\n",
              "              style=\"display:none;\">\n",
              "        \n",
              "  <svg xmlns=\"http://www.w3.org/2000/svg\" height=\"24px\"viewBox=\"0 0 24 24\"\n",
              "       width=\"24px\">\n",
              "    <path d=\"M0 0h24v24H0V0z\" fill=\"none\"/>\n",
              "    <path d=\"M18.56 5.44l.94 2.06.94-2.06 2.06-.94-2.06-.94-.94-2.06-.94 2.06-2.06.94zm-11 1L8.5 8.5l.94-2.06 2.06-.94-2.06-.94L8.5 2.5l-.94 2.06-2.06.94zm10 10l.94 2.06.94-2.06 2.06-.94-2.06-.94-.94-2.06-.94 2.06-2.06.94z\"/><path d=\"M17.41 7.96l-1.37-1.37c-.4-.4-.92-.59-1.43-.59-.52 0-1.04.2-1.43.59L10.3 9.45l-7.72 7.72c-.78.78-.78 2.05 0 2.83L4 21.41c.39.39.9.59 1.41.59.51 0 1.02-.2 1.41-.59l7.78-7.78 2.81-2.81c.8-.78.8-2.07 0-2.86zM5.41 20L4 18.59l7.72-7.72 1.47 1.35L5.41 20z\"/>\n",
              "  </svg>\n",
              "      </button>\n",
              "      \n",
              "  <style>\n",
              "    .colab-df-container {\n",
              "      display:flex;\n",
              "      flex-wrap:wrap;\n",
              "      gap: 12px;\n",
              "    }\n",
              "\n",
              "    .colab-df-convert {\n",
              "      background-color: #E8F0FE;\n",
              "      border: none;\n",
              "      border-radius: 50%;\n",
              "      cursor: pointer;\n",
              "      display: none;\n",
              "      fill: #1967D2;\n",
              "      height: 32px;\n",
              "      padding: 0 0 0 0;\n",
              "      width: 32px;\n",
              "    }\n",
              "\n",
              "    .colab-df-convert:hover {\n",
              "      background-color: #E2EBFA;\n",
              "      box-shadow: 0px 1px 2px rgba(60, 64, 67, 0.3), 0px 1px 3px 1px rgba(60, 64, 67, 0.15);\n",
              "      fill: #174EA6;\n",
              "    }\n",
              "\n",
              "    [theme=dark] .colab-df-convert {\n",
              "      background-color: #3B4455;\n",
              "      fill: #D2E3FC;\n",
              "    }\n",
              "\n",
              "    [theme=dark] .colab-df-convert:hover {\n",
              "      background-color: #434B5C;\n",
              "      box-shadow: 0px 1px 3px 1px rgba(0, 0, 0, 0.15);\n",
              "      filter: drop-shadow(0px 1px 2px rgba(0, 0, 0, 0.3));\n",
              "      fill: #FFFFFF;\n",
              "    }\n",
              "  </style>\n",
              "\n",
              "      <script>\n",
              "        const buttonEl =\n",
              "          document.querySelector('#df-263b700e-14a1-4c1f-a35b-d34ea6576e0f button.colab-df-convert');\n",
              "        buttonEl.style.display =\n",
              "          google.colab.kernel.accessAllowed ? 'block' : 'none';\n",
              "\n",
              "        async function convertToInteractive(key) {\n",
              "          const element = document.querySelector('#df-263b700e-14a1-4c1f-a35b-d34ea6576e0f');\n",
              "          const dataTable =\n",
              "            await google.colab.kernel.invokeFunction('convertToInteractive',\n",
              "                                                     [key], {});\n",
              "          if (!dataTable) return;\n",
              "\n",
              "          const docLinkHtml = 'Like what you see? Visit the ' +\n",
              "            '<a target=\"_blank\" href=https://colab.research.google.com/notebooks/data_table.ipynb>data table notebook</a>'\n",
              "            + ' to learn more about interactive tables.';\n",
              "          element.innerHTML = '';\n",
              "          dataTable['output_type'] = 'display_data';\n",
              "          await google.colab.output.renderOutput(dataTable, element);\n",
              "          const docLink = document.createElement('div');\n",
              "          docLink.innerHTML = docLinkHtml;\n",
              "          element.appendChild(docLink);\n",
              "        }\n",
              "      </script>\n",
              "    </div>\n",
              "  </div>\n",
              "  "
            ]
          },
          "metadata": {},
          "execution_count": 11
        }
      ],
      "source": [
        "data_tr"
      ]
    },
    {
      "cell_type": "markdown",
      "source": [
        "###### Check NaN values"
      ],
      "metadata": {
        "id": "ZfkVdo-O7pSl"
      }
    },
    {
      "cell_type": "code",
      "execution_count": null,
      "metadata": {
        "id": "umamQkkEr_66",
        "colab": {
          "base_uri": "https://localhost:8080/"
        },
        "outputId": "aa428945-0e8a-4905-ad72-46e75f4cce0a"
      },
      "outputs": [
        {
          "output_type": "execute_result",
          "data": {
            "text/plain": [
              "315"
            ]
          },
          "metadata": {},
          "execution_count": 12
        }
      ],
      "source": [
        "# Examine the number of NaN values in the training dataset's summary\n",
        "data_tr['summary'].isnull().sum()"
      ]
    },
    {
      "cell_type": "code",
      "source": [
        "# Examine the number of NaN values in the testing dataset's summary\n",
        "data_ts['summary'].isnull().sum()"
      ],
      "metadata": {
        "id": "GjsLUUwZ7HKY",
        "colab": {
          "base_uri": "https://localhost:8080/"
        },
        "outputId": "164dbe1f-780d-4701-8c4e-aa1ab6e2e164"
      },
      "execution_count": null,
      "outputs": [
        {
          "output_type": "execute_result",
          "data": {
            "text/plain": [
              "0"
            ]
          },
          "metadata": {},
          "execution_count": 13
        }
      ]
    },
    {
      "cell_type": "code",
      "source": [
        "# Drop NaN values from the training dataset's summary\n",
        "data_tr.dropna(inplace=True)\n",
        "data_tr"
      ],
      "metadata": {
        "id": "GqPy9nBM7HNP",
        "colab": {
          "base_uri": "https://localhost:8080/"
        },
        "outputId": "d39597cf-c0e0-455c-8761-6704ff3f44cc"
      },
      "execution_count": null,
      "outputs": [
        {
          "output_type": "execute_result",
          "data": {
            "text/plain": [
              "                                                summary               image  \\\n",
              "0     spacious sunni cozi modern apart heart montrea...     img_train/0.jpg   \n",
              "1     locat one vibrant access locat downtown montre...     img_train/1.jpg   \n",
              "2     logement coquet et douillet minut du centr vil...     img_train/2.jpg   \n",
              "3     beauti spacious sc ft mc condo th floor west i...     img_train/3.jpg   \n",
              "4     très grand appart rustiqu et très agréabl vivr...     img_train/4.jpg   \n",
              "...                                                 ...                 ...   \n",
              "7622  un grand logement et tout inclut bien éclairé ...  img_train/7626.jpg   \n",
              "7623  magnific condo direct river sleep song wild bi...  img_train/7627.jpg   \n",
              "7624  apart perfect anyon visit citi locat eclect ne...  img_train/7628.jpg   \n",
              "7625  cozi clean comfort apart heart downtown websit...  img_train/7629.jpg   \n",
              "7626  modern countri style newli renov open concept ...  img_train/7630.jpg   \n",
              "\n",
              "      type  price  \n",
              "0        1      1  \n",
              "1        1      0  \n",
              "2        1      1  \n",
              "3        1      1  \n",
              "4        1      0  \n",
              "...    ...    ...  \n",
              "7622     1      0  \n",
              "7623     1      2  \n",
              "7624     1      1  \n",
              "7625     1      0  \n",
              "7626    17      1  \n",
              "\n",
              "[7312 rows x 4 columns]"
            ],
            "text/html": [
              "\n",
              "  <div id=\"df-62931147-d511-47fe-9ba4-ed77afe197c9\">\n",
              "    <div class=\"colab-df-container\">\n",
              "      <div>\n",
              "<style scoped>\n",
              "    .dataframe tbody tr th:only-of-type {\n",
              "        vertical-align: middle;\n",
              "    }\n",
              "\n",
              "    .dataframe tbody tr th {\n",
              "        vertical-align: top;\n",
              "    }\n",
              "\n",
              "    .dataframe thead th {\n",
              "        text-align: right;\n",
              "    }\n",
              "</style>\n",
              "<table border=\"1\" class=\"dataframe\">\n",
              "  <thead>\n",
              "    <tr style=\"text-align: right;\">\n",
              "      <th></th>\n",
              "      <th>summary</th>\n",
              "      <th>image</th>\n",
              "      <th>type</th>\n",
              "      <th>price</th>\n",
              "    </tr>\n",
              "  </thead>\n",
              "  <tbody>\n",
              "    <tr>\n",
              "      <th>0</th>\n",
              "      <td>spacious sunni cozi modern apart heart montrea...</td>\n",
              "      <td>img_train/0.jpg</td>\n",
              "      <td>1</td>\n",
              "      <td>1</td>\n",
              "    </tr>\n",
              "    <tr>\n",
              "      <th>1</th>\n",
              "      <td>locat one vibrant access locat downtown montre...</td>\n",
              "      <td>img_train/1.jpg</td>\n",
              "      <td>1</td>\n",
              "      <td>0</td>\n",
              "    </tr>\n",
              "    <tr>\n",
              "      <th>2</th>\n",
              "      <td>logement coquet et douillet minut du centr vil...</td>\n",
              "      <td>img_train/2.jpg</td>\n",
              "      <td>1</td>\n",
              "      <td>1</td>\n",
              "    </tr>\n",
              "    <tr>\n",
              "      <th>3</th>\n",
              "      <td>beauti spacious sc ft mc condo th floor west i...</td>\n",
              "      <td>img_train/3.jpg</td>\n",
              "      <td>1</td>\n",
              "      <td>1</td>\n",
              "    </tr>\n",
              "    <tr>\n",
              "      <th>4</th>\n",
              "      <td>très grand appart rustiqu et très agréabl vivr...</td>\n",
              "      <td>img_train/4.jpg</td>\n",
              "      <td>1</td>\n",
              "      <td>0</td>\n",
              "    </tr>\n",
              "    <tr>\n",
              "      <th>...</th>\n",
              "      <td>...</td>\n",
              "      <td>...</td>\n",
              "      <td>...</td>\n",
              "      <td>...</td>\n",
              "    </tr>\n",
              "    <tr>\n",
              "      <th>7622</th>\n",
              "      <td>un grand logement et tout inclut bien éclairé ...</td>\n",
              "      <td>img_train/7626.jpg</td>\n",
              "      <td>1</td>\n",
              "      <td>0</td>\n",
              "    </tr>\n",
              "    <tr>\n",
              "      <th>7623</th>\n",
              "      <td>magnific condo direct river sleep song wild bi...</td>\n",
              "      <td>img_train/7627.jpg</td>\n",
              "      <td>1</td>\n",
              "      <td>2</td>\n",
              "    </tr>\n",
              "    <tr>\n",
              "      <th>7624</th>\n",
              "      <td>apart perfect anyon visit citi locat eclect ne...</td>\n",
              "      <td>img_train/7628.jpg</td>\n",
              "      <td>1</td>\n",
              "      <td>1</td>\n",
              "    </tr>\n",
              "    <tr>\n",
              "      <th>7625</th>\n",
              "      <td>cozi clean comfort apart heart downtown websit...</td>\n",
              "      <td>img_train/7629.jpg</td>\n",
              "      <td>1</td>\n",
              "      <td>0</td>\n",
              "    </tr>\n",
              "    <tr>\n",
              "      <th>7626</th>\n",
              "      <td>modern countri style newli renov open concept ...</td>\n",
              "      <td>img_train/7630.jpg</td>\n",
              "      <td>17</td>\n",
              "      <td>1</td>\n",
              "    </tr>\n",
              "  </tbody>\n",
              "</table>\n",
              "<p>7312 rows × 4 columns</p>\n",
              "</div>\n",
              "      <button class=\"colab-df-convert\" onclick=\"convertToInteractive('df-62931147-d511-47fe-9ba4-ed77afe197c9')\"\n",
              "              title=\"Convert this dataframe to an interactive table.\"\n",
              "              style=\"display:none;\">\n",
              "        \n",
              "  <svg xmlns=\"http://www.w3.org/2000/svg\" height=\"24px\"viewBox=\"0 0 24 24\"\n",
              "       width=\"24px\">\n",
              "    <path d=\"M0 0h24v24H0V0z\" fill=\"none\"/>\n",
              "    <path d=\"M18.56 5.44l.94 2.06.94-2.06 2.06-.94-2.06-.94-.94-2.06-.94 2.06-2.06.94zm-11 1L8.5 8.5l.94-2.06 2.06-.94-2.06-.94L8.5 2.5l-.94 2.06-2.06.94zm10 10l.94 2.06.94-2.06 2.06-.94-2.06-.94-.94-2.06-.94 2.06-2.06.94z\"/><path d=\"M17.41 7.96l-1.37-1.37c-.4-.4-.92-.59-1.43-.59-.52 0-1.04.2-1.43.59L10.3 9.45l-7.72 7.72c-.78.78-.78 2.05 0 2.83L4 21.41c.39.39.9.59 1.41.59.51 0 1.02-.2 1.41-.59l7.78-7.78 2.81-2.81c.8-.78.8-2.07 0-2.86zM5.41 20L4 18.59l7.72-7.72 1.47 1.35L5.41 20z\"/>\n",
              "  </svg>\n",
              "      </button>\n",
              "      \n",
              "  <style>\n",
              "    .colab-df-container {\n",
              "      display:flex;\n",
              "      flex-wrap:wrap;\n",
              "      gap: 12px;\n",
              "    }\n",
              "\n",
              "    .colab-df-convert {\n",
              "      background-color: #E8F0FE;\n",
              "      border: none;\n",
              "      border-radius: 50%;\n",
              "      cursor: pointer;\n",
              "      display: none;\n",
              "      fill: #1967D2;\n",
              "      height: 32px;\n",
              "      padding: 0 0 0 0;\n",
              "      width: 32px;\n",
              "    }\n",
              "\n",
              "    .colab-df-convert:hover {\n",
              "      background-color: #E2EBFA;\n",
              "      box-shadow: 0px 1px 2px rgba(60, 64, 67, 0.3), 0px 1px 3px 1px rgba(60, 64, 67, 0.15);\n",
              "      fill: #174EA6;\n",
              "    }\n",
              "\n",
              "    [theme=dark] .colab-df-convert {\n",
              "      background-color: #3B4455;\n",
              "      fill: #D2E3FC;\n",
              "    }\n",
              "\n",
              "    [theme=dark] .colab-df-convert:hover {\n",
              "      background-color: #434B5C;\n",
              "      box-shadow: 0px 1px 3px 1px rgba(0, 0, 0, 0.15);\n",
              "      filter: drop-shadow(0px 1px 2px rgba(0, 0, 0, 0.3));\n",
              "      fill: #FFFFFF;\n",
              "    }\n",
              "  </style>\n",
              "\n",
              "      <script>\n",
              "        const buttonEl =\n",
              "          document.querySelector('#df-62931147-d511-47fe-9ba4-ed77afe197c9 button.colab-df-convert');\n",
              "        buttonEl.style.display =\n",
              "          google.colab.kernel.accessAllowed ? 'block' : 'none';\n",
              "\n",
              "        async function convertToInteractive(key) {\n",
              "          const element = document.querySelector('#df-62931147-d511-47fe-9ba4-ed77afe197c9');\n",
              "          const dataTable =\n",
              "            await google.colab.kernel.invokeFunction('convertToInteractive',\n",
              "                                                     [key], {});\n",
              "          if (!dataTable) return;\n",
              "\n",
              "          const docLinkHtml = 'Like what you see? Visit the ' +\n",
              "            '<a target=\"_blank\" href=https://colab.research.google.com/notebooks/data_table.ipynb>data table notebook</a>'\n",
              "            + ' to learn more about interactive tables.';\n",
              "          element.innerHTML = '';\n",
              "          dataTable['output_type'] = 'display_data';\n",
              "          await google.colab.output.renderOutput(dataTable, element);\n",
              "          const docLink = document.createElement('div');\n",
              "          docLink.innerHTML = docLinkHtml;\n",
              "          element.appendChild(docLink);\n",
              "        }\n",
              "      </script>\n",
              "    </div>\n",
              "  </div>\n",
              "  "
            ]
          },
          "metadata": {},
          "execution_count": 14
        }
      ]
    },
    {
      "cell_type": "code",
      "source": [
        "# Examine the number of NaN values in the training dataset's summary after drop NaN\n",
        "data_tr['summary'].isnull().sum()"
      ],
      "metadata": {
        "id": "rK-ExJSa7HQN",
        "colab": {
          "base_uri": "https://localhost:8080/"
        },
        "outputId": "d4204b5b-6f94-4a24-a2fe-066457447db6"
      },
      "execution_count": null,
      "outputs": [
        {
          "output_type": "execute_result",
          "data": {
            "text/plain": [
              "0"
            ]
          },
          "metadata": {},
          "execution_count": 15
        }
      ]
    },
    {
      "cell_type": "code",
      "source": [
        "# Examine the price column for unique values and the number of times they appear.\n",
        "data_tr['price'].value_counts()"
      ],
      "metadata": {
        "id": "1vrrP8817OL-",
        "colab": {
          "base_uri": "https://localhost:8080/"
        },
        "outputId": "c5b5b4ae-a829-4c12-8929-973be17bc7c4"
      },
      "execution_count": null,
      "outputs": [
        {
          "output_type": "execute_result",
          "data": {
            "text/plain": [
              "0    4540\n",
              "1    2304\n",
              "2     468\n",
              "Name: price, dtype: int64"
            ]
          },
          "metadata": {},
          "execution_count": 16
        }
      ]
    },
    {
      "cell_type": "markdown",
      "source": [
        "###### Image Preprocessing"
      ],
      "metadata": {
        "id": "QVLLYiAX8zHU"
      }
    },
    {
      "cell_type": "code",
      "source": [
        "# preprocess image data\n",
        "import os\n",
        "\"\"\" steps:\n",
        "    - open image using image path\n",
        "    - Use convert to read the image as a grey scale.\n",
        "    - Resize all images to the same size.\n",
        "    - Convert image to an array\n",
        "    - If there is no image, it will create an array of zeros with a size of 64*62*2\n",
        "\"\"\"\n",
        "\n",
        "def load_image(file):\n",
        "    try:\n",
        "        image = Image.open(\n",
        "            file\n",
        "        ).convert('LA').resize((64, 64))\n",
        "        arr = np.array(image)\n",
        "    except:\n",
        "        arr = np.zeros((64, 64, 2))\n",
        "    return arr\n",
        "\n",
        "\n",
        "# loading training images:\n",
        "x_train_image = np.array([load_image(i) for i in tqdm(data_tr.image)]) #tqdm display a visual of an image of progress.\n",
        "\n",
        "# loading testing images:\n",
        "x_test_image = np.array([load_image(i) for i in tqdm(data_ts.image)])\n"
      ],
      "metadata": {
        "id": "zSw6xf197OPA",
        "colab": {
          "base_uri": "https://localhost:8080/",
          "referenced_widgets": [
            "1844de075d8341cfb3fc6934f5fadd52",
            "65a882ae4438407b8a2fbe094b9f92ac",
            "9fdbaa1e1dff445f896db26818cefce1",
            "f543b3e3449d4b68bba2aac0d66224ba",
            "3715fafa11374259a55591f710e9b51f",
            "923b5780ebd54a86a98dd519e2a96826",
            "2cb7755af6ba47dc8ab2883d14552515",
            "b5fd3dee14a947ddb5936a0ea2a84cde",
            "b7ee8768de194c57bae5d43ae49cc61f",
            "26d56982cd5c4125bd348350be65db0d",
            "d1ea3109c78547aba3ddb274b75ccd28",
            "572e91c5bc9145069c5bc51942c93cdb",
            "ba0c86f1151943fe89ad9e19b0a87026",
            "179663db44534f309de10684e0a9ed49",
            "a99cbbab2f9a4964bc2bf719d24f400b",
            "bd2858be1b0545d481d788ced29a2d73",
            "f920faa5de3149fc8892787aa7553053",
            "55b87f067e024bb3a844337b069b8a27",
            "747ffe35135340af81fafa434bf8398d",
            "4b627c041bf040a4904c9d1dbe38f58a",
            "e39e931ff67f4a5fac93b598a66f6fe4",
            "6e8a316d464c4d1689da825cc6f64fe1"
          ]
        },
        "outputId": "4276ccc7-244a-4267-ebcf-d3ec32dd11da"
      },
      "execution_count": null,
      "outputs": [
        {
          "output_type": "display_data",
          "data": {
            "text/plain": [
              "  0%|          | 0/7312 [00:00<?, ?it/s]"
            ],
            "application/vnd.jupyter.widget-view+json": {
              "version_major": 2,
              "version_minor": 0,
              "model_id": "1844de075d8341cfb3fc6934f5fadd52"
            }
          },
          "metadata": {}
        },
        {
          "output_type": "display_data",
          "data": {
            "text/plain": [
              "  0%|          | 0/7360 [00:00<?, ?it/s]"
            ],
            "application/vnd.jupyter.widget-view+json": {
              "version_major": 2,
              "version_minor": 0,
              "model_id": "572e91c5bc9145069c5bc51942c93cdb"
            }
          },
          "metadata": {}
        }
      ]
    },
    {
      "cell_type": "code",
      "source": [
        "# check iamge shape\n",
        "x_train_image.shape "
      ],
      "metadata": {
        "id": "s0wJ9pG7-eGb",
        "colab": {
          "base_uri": "https://localhost:8080/"
        },
        "outputId": "c77a67b9-50d1-4571-cf51-0d952cc2668e"
      },
      "execution_count": null,
      "outputs": [
        {
          "output_type": "execute_result",
          "data": {
            "text/plain": [
              "(7312, 64, 64, 2)"
            ]
          },
          "metadata": {},
          "execution_count": 18
        }
      ]
    },
    {
      "cell_type": "markdown",
      "source": [
        "###### Text Tokenizer"
      ],
      "metadata": {
        "id": "F44sa2Qx_CIE"
      }
    },
    {
      "cell_type": "code",
      "source": [
        "# loading summary: (converts some of the non-string cells to string)\n",
        "x_train_text = data_tr.summary.astype('str')\n",
        "\n",
        "# get type from training dataset and put it in y_train_type\n",
        "y_train_type = data_tr.type\n",
        "\n",
        "# get price from training datase and put it in y_train_price\n",
        "y_train_price= data_tr.price"
      ],
      "metadata": {
        "id": "m3uNbakK7OSt"
      },
      "execution_count": null,
      "outputs": []
    },
    {
      "cell_type": "code",
      "source": [
        "# preprocessing text by using embedding \n",
        "\n",
        "vocab_size = 40000 # The number of unique words that I need from the dictionary (words that have higher frequency)\n",
        "max_len = 100 # The maximum length of tokenizers is all the same size\n",
        "\n",
        "\n",
        "# build vocabulary from training set\n",
        "tokenizer = Tokenizer(num_words=vocab_size)\n",
        "tokenizer.fit_on_texts(x_train_text)\n",
        "\n",
        "\n",
        "def _preprocess(list_of_text):\n",
        "         # pad_sequences is a function that ensures that every sequence in a list is the same length.\n",
        "    return pad_sequences(\n",
        "        tokenizer.texts_to_sequences(list_of_text),  # texts_to_sequences converts text corpus tokens into an integer sequence.\n",
        "        maxlen=max_len,\n",
        "        padding='post', # Add padding with zeros at the end of an array if have size small than max_len\n",
        "    )\n",
        "    \n",
        "\n",
        "# padding is done inside: \n",
        "x_train_text_id = _preprocess(x_train_text)\n",
        "\n",
        "\n",
        "# loading summary: (force convert some of the non-string cell to string)\n",
        "x_test_text = _preprocess(data_ts.summary.astype('str'))\n",
        "\n",
        "\n",
        "print(x_train_text_id.shape)"
      ],
      "metadata": {
        "id": "6_iAWjY57OW1",
        "colab": {
          "base_uri": "https://localhost:8080/"
        },
        "outputId": "3d043c90-e7e5-4cdf-a601-5ddaead418ee"
      },
      "execution_count": null,
      "outputs": [
        {
          "output_type": "stream",
          "name": "stdout",
          "text": [
            "(7312, 100)\n"
          ]
        }
      ]
    },
    {
      "cell_type": "code",
      "source": [
        "x_train_text_id"
      ],
      "metadata": {
        "id": "pPygrdKz-GdE",
        "colab": {
          "base_uri": "https://localhost:8080/"
        },
        "outputId": "7df781f7-9700-461a-e460-adb7e115d2c0"
      },
      "execution_count": null,
      "outputs": [
        {
          "output_type": "execute_result",
          "data": {
            "text/plain": [
              "array([[  92,  264,   77, ...,    0,    0,    0],\n",
              "       [   5,   50,  296, ...,    0,    0,    0],\n",
              "       [ 101, 1836,    2, ...,    0,    0,    0],\n",
              "       ...,\n",
              "       [   4,   61,  958, ...,    0,    0,    0],\n",
              "       [  77,   94,   66, ...,    0,    0,    0],\n",
              "       [  89, 1922,  278, ...,    0,    0,    0]], dtype=int32)"
            ]
          },
          "metadata": {},
          "execution_count": 21
        }
      ]
    },
    {
      "cell_type": "code",
      "source": [
        "# show the index for each word\n",
        "tokenizer.word_index"
      ],
      "metadata": {
        "id": "lYNicwJt-GiG",
        "colab": {
          "base_uri": "https://localhost:8080/"
        },
        "outputId": "68c7a2b8-1c89-4219-b2a4-69736f2a13d2"
      },
      "execution_count": null,
      "outputs": [
        {
          "output_type": "execute_result",
          "data": {
            "text/plain": [
              "{'de': 1,\n",
              " 'et': 2,\n",
              " 'montreal': 3,\n",
              " 'apart': 4,\n",
              " 'locat': 5,\n",
              " 'minut': 6,\n",
              " 'walk': 7,\n",
              " 'metro': 8,\n",
              " 'restaur': 9,\n",
              " 'min': 10,\n",
              " 'du': 11,\n",
              " 'downtown': 12,\n",
              " 'la': 13,\n",
              " 'park': 14,\n",
              " 'room': 15,\n",
              " 'un': 16,\n",
              " 'place': 17,\n",
              " 'station': 18,\n",
              " 'appart': 19,\n",
              " 'street': 20,\n",
              " 'le': 21,\n",
              " 'bedroom': 22,\n",
              " 'royal': 23,\n",
              " 'close': 24,\n",
              " 'des': 25,\n",
              " 'est': 26,\n",
              " 'away': 27,\n",
              " 'bed': 28,\n",
              " 'pour': 29,\n",
              " 'mont': 30,\n",
              " 'heart': 31,\n",
              " 'une': 32,\n",
              " 'plateau': 33,\n",
              " 'bar': 34,\n",
              " 'les': 35,\n",
              " 'en': 36,\n",
              " 'avec': 37,\n",
              " 'dan': 38,\n",
              " 'shop': 39,\n",
              " 'vous': 40,\n",
              " 'kitchen': 41,\n",
              " 'chambr': 42,\n",
              " 'au': 43,\n",
              " 'métro': 44,\n",
              " 'bus': 45,\n",
              " 'quartier': 46,\n",
              " 'live': 47,\n",
              " 'beauti': 48,\n",
              " 'parc': 49,\n",
              " 'one': 50,\n",
              " 'st': 51,\n",
              " 'old': 52,\n",
              " 'tout': 53,\n",
              " 'montréal': 54,\n",
              " 'distanc': 55,\n",
              " 'situé': 56,\n",
              " 'quiet': 57,\n",
              " 'coupl': 58,\n",
              " 'citi': 59,\n",
              " 'stay': 60,\n",
              " 'perfect': 61,\n",
              " 'space': 62,\n",
              " 'fulli': 63,\n",
              " 'floor': 64,\n",
              " 'privat': 65,\n",
              " 'comfort': 66,\n",
              " 'area': 67,\n",
              " 'centr': 68,\n",
              " 'store': 69,\n",
              " 'home': 70,\n",
              " 'access': 71,\n",
              " 'vill': 72,\n",
              " 'grand': 73,\n",
              " 'enjoy': 74,\n",
              " 'near': 75,\n",
              " 'bathroom': 76,\n",
              " 'cozi': 77,\n",
              " 'equip': 78,\n",
              " 'groceri': 79,\n",
              " 'best': 80,\n",
              " 'condo': 81,\n",
              " 'larg': 82,\n",
              " 'rue': 83,\n",
              " 'includ': 84,\n",
              " 'great': 85,\n",
              " 'très': 86,\n",
              " 'build': 87,\n",
              " 'two': 88,\n",
              " 'modern': 89,\n",
              " 'travel': 90,\n",
              " 'free': 91,\n",
              " 'spacious': 92,\n",
              " 'new': 93,\n",
              " 'clean': 94,\n",
              " 'saint': 95,\n",
              " 'furnish': 96,\n",
              " 'subway': 97,\n",
              " 'wifi': 98,\n",
              " 'everyth': 99,\n",
              " 'queen': 100,\n",
              " 'logement': 101,\n",
              " 'renov': 102,\n",
              " 'sur': 103,\n",
              " 'jean': 104,\n",
              " 'famili': 105,\n",
              " 'neighborhood': 106,\n",
              " 'well': 107,\n",
              " 'café': 108,\n",
              " 'port': 109,\n",
              " 'bright': 110,\n",
              " 'end': 111,\n",
              " 'pie': 112,\n",
              " 'petit': 113,\n",
              " 'studio': 114,\n",
              " 'love': 115,\n",
              " 'mile': 116,\n",
              " 'transport': 117,\n",
              " 'avail': 118,\n",
              " 'doubl': 119,\n",
              " 'nice': 120,\n",
              " 'step': 121,\n",
              " 'talon': 122,\n",
              " 'balconi': 123,\n",
              " 'neighbourhood': 124,\n",
              " 'coffe': 125,\n",
              " 'also': 126,\n",
              " 'need': 127,\n",
              " 'charm': 128,\n",
              " 'calm': 129,\n",
              " 'ideal': 130,\n",
              " 'right': 131,\n",
              " 'lit': 132,\n",
              " 'guest': 133,\n",
              " 'offer': 134,\n",
              " 'welcom': 135,\n",
              " 'deux': 136,\n",
              " 'tv': 137,\n",
              " 'market': 138,\n",
              " 'etc': 139,\n",
              " 'cuisin': 140,\n",
              " 'center': 141,\n",
              " 'art': 142,\n",
              " 'univers': 143,\n",
              " 'line': 144,\n",
              " 'lot': 145,\n",
              " 'friend': 146,\n",
              " 'proximité': 147,\n",
              " 'view': 148,\n",
              " 'high': 149,\n",
              " 'laurent': 150,\n",
              " 'servic': 151,\n",
              " 'concordia': 152,\n",
              " 'busi': 153,\n",
              " 'catherin': 154,\n",
              " 'public': 155,\n",
              " 'sall': 156,\n",
              " 'peopl': 157,\n",
              " 'size': 158,\n",
              " 'il': 159,\n",
              " 'cafe': 160,\n",
              " 'within': 161,\n",
              " 'hous': 162,\n",
              " 'proch': 163,\n",
              " 'pas': 164,\n",
              " 'big': 165,\n",
              " 'loft': 166,\n",
              " 'mani': 167,\n",
              " 'pharmaci': 168,\n",
              " 'mon': 169,\n",
              " 'villag': 170,\n",
              " 'solo': 171,\n",
              " 'laurier': 172,\n",
              " 'ou': 173,\n",
              " 'idéal': 174,\n",
              " 'conveni': 175,\n",
              " 'provid': 176,\n",
              " 'easi': 177,\n",
              " 'épiceri': 178,\n",
              " 'open': 179,\n",
              " 'près': 180,\n",
              " 'bell': 181,\n",
              " 'confort': 182,\n",
              " 'full': 183,\n",
              " 'mcgill': 184,\n",
              " 'next': 185,\n",
              " 'share': 186,\n",
              " 'équipé': 187,\n",
              " 'hotel': 188,\n",
              " 'central': 189,\n",
              " 'march': 190,\n",
              " 'check': 191,\n",
              " 'air': 192,\n",
              " 'notr': 193,\n",
              " 'amen': 194,\n",
              " 'good': 195,\n",
              " 'terrass': 196,\n",
              " 'salon': 197,\n",
              " 'internet': 198,\n",
              " 'bike': 199,\n",
              " 'terrac': 200,\n",
              " 'festiv': 201,\n",
              " 'bien': 202,\n",
              " 'lafontain': 203,\n",
              " 'luxuri': 204,\n",
              " 'time': 205,\n",
              " 'sofa': 206,\n",
              " 'amaz': 207,\n",
              " 'day': 208,\n",
              " 'littl': 209,\n",
              " 'dryer': 210,\n",
              " 'light': 211,\n",
              " 'like': 212,\n",
              " 'marché': 213,\n",
              " 'small': 214,\n",
              " 'qui': 215,\n",
              " 'towel': 216,\n",
              " 'plus': 217,\n",
              " 'boutiqu': 218,\n",
              " 'design': 219,\n",
              " 'feel': 220,\n",
              " 'block': 221,\n",
              " 'voyageur': 222,\n",
              " 'corner': 223,\n",
              " 'netflix': 224,\n",
              " 'bixi': 225,\n",
              " 'pleas': 226,\n",
              " 'look': 227,\n",
              " 'parfait': 228,\n",
              " 'front': 229,\n",
              " 'experi': 230,\n",
              " 'attract': 231,\n",
              " 'around': 232,\n",
              " 'bain': 233,\n",
              " 'nous': 234,\n",
              " 'washer': 235,\n",
              " 'stop': 236,\n",
              " 'visit': 237,\n",
              " 'come': 238,\n",
              " 'make': 239,\n",
              " 'car': 240,\n",
              " 'tous': 241,\n",
              " 'find': 242,\n",
              " 'coeur': 243,\n",
              " 'local': 244,\n",
              " 'maison': 245,\n",
              " 'town': 246,\n",
              " 'accommod': 247,\n",
              " 'famous': 248,\n",
              " 'host': 249,\n",
              " 'personn': 250,\n",
              " 'privé': 251,\n",
              " 'rosemont': 252,\n",
              " 'uqam': 253,\n",
              " 'decor': 254,\n",
              " 'accè': 255,\n",
              " 'newli': 256,\n",
              " 'relax': 257,\n",
              " 'pool': 258,\n",
              " 'lumineux': 259,\n",
              " 'nearbi': 260,\n",
              " 'take': 261,\n",
              " 'itali': 262,\n",
              " 'guy': 263,\n",
              " 'sunni': 264,\n",
              " 'night': 265,\n",
              " 'garden': 266,\n",
              " 'window': 267,\n",
              " 'spot': 268,\n",
              " 'unit': 269,\n",
              " 'plein': 270,\n",
              " 'ce': 271,\n",
              " 'commerc': 272,\n",
              " 'brand': 273,\n",
              " 'situat': 274,\n",
              " 'atwat': 275,\n",
              " 'se': 276,\n",
              " 'trendi': 277,\n",
              " 'style': 278,\n",
              " 'avenu': 279,\n",
              " 'berri': 280,\n",
              " 'dine': 281,\n",
              " 'canal': 282,\n",
              " 'wall': 283,\n",
              " 'spectacl': 284,\n",
              " 'airport': 285,\n",
              " 'votr': 286,\n",
              " 'short': 287,\n",
              " 'uniqu': 288,\n",
              " 'fresh': 289,\n",
              " 'get': 290,\n",
              " 'district': 291,\n",
              " 'want': 292,\n",
              " 'sherbrook': 293,\n",
              " 'orang': 294,\n",
              " 'jarri': 295,\n",
              " 'vibrant': 296,\n",
              " 'tranquill': 297,\n",
              " 'featur': 298,\n",
              " 'second': 299,\n",
              " 'ceil': 300,\n",
              " 'us': 301,\n",
              " 'person': 302,\n",
              " 'étage': 303,\n",
              " 'balcon': 304,\n",
              " 'green': 305,\n",
              " 'mount': 306,\n",
              " 'bbq': 307,\n",
              " 'nightlif': 308,\n",
              " 'airbnb': 309,\n",
              " 'lachin': 310,\n",
              " 'que': 311,\n",
              " 'quelqu': 312,\n",
              " 'commodité': 313,\n",
              " 'main': 314,\n",
              " 'super': 315,\n",
              " 'supermarket': 316,\n",
              " 'group': 317,\n",
              " 'explor': 318,\n",
              " 'facil': 319,\n",
              " 'life': 320,\n",
              " 'speed': 321,\n",
              " 'indoor': 322,\n",
              " 'complet': 323,\n",
              " 'furnitur': 324,\n",
              " 'book': 325,\n",
              " 'cosi': 326,\n",
              " 'summer': 327,\n",
              " 'jardin': 328,\n",
              " 'resto': 329,\n",
              " 'je': 330,\n",
              " 'tabl': 331,\n",
              " 'famill': 332,\n",
              " 'club': 333,\n",
              " 'séjour': 334,\n",
              " 'lign': 335,\n",
              " 'fast': 336,\n",
              " 'deni': 337,\n",
              " 'commun': 338,\n",
              " 'less': 339,\n",
              " 'sleep': 340,\n",
              " 'drive': 341,\n",
              " 'cœur': 342,\n",
              " 'long': 343,\n",
              " 'chaleureux': 344,\n",
              " 'histor': 345,\n",
              " 'machin': 346,\n",
              " 'sont': 347,\n",
              " 'back': 348,\n",
              " 'rent': 349,\n",
              " 'backyard': 350,\n",
              " 'mall': 351,\n",
              " 'direct': 352,\n",
              " 'ride': 353,\n",
              " 'plenti': 354,\n",
              " 'gym': 355,\n",
              " 'duplex': 356,\n",
              " 'go': 357,\n",
              " 'work': 358,\n",
              " 'singl': 359,\n",
              " 'face': 360,\n",
              " 'coin': 361,\n",
              " 'safe': 362,\n",
              " 'part': 363,\n",
              " 'essenti': 364,\n",
              " 'espac': 365,\n",
              " 'adventur': 366,\n",
              " 'phone': 367,\n",
              " 'suit': 368,\n",
              " 'alway': 369,\n",
              " 'tourist': 370,\n",
              " 'rénové': 371,\n",
              " 'pi': 372,\n",
              " 'flat': 373,\n",
              " 'cour': 374,\n",
              " 'charmant': 375,\n",
              " 'bakeri': 376,\n",
              " 'stationn': 377,\n",
              " 'tast': 378,\n",
              " 'crescent': 379,\n",
              " 'basement': 380,\n",
              " 'natur': 381,\n",
              " 'arriv': 382,\n",
              " 'across': 383,\n",
              " 'beaubien': 384,\n",
              " 'vieux': 385,\n",
              " 'ambianc': 386,\n",
              " 'door': 387,\n",
              " 'condit': 388,\n",
              " 'know': 389,\n",
              " 'villeray': 390,\n",
              " 'residenti': 391,\n",
              " 'agréabl': 392,\n",
              " 'propr': 393,\n",
              " 'museum': 394,\n",
              " 'heat': 395,\n",
              " 'hospit': 396,\n",
              " 'peac': 397,\n",
              " 'foot': 398,\n",
              " 'self': 399,\n",
              " 'plusieur': 400,\n",
              " 'use': 401,\n",
              " 'top': 402,\n",
              " 'par': 403,\n",
              " 'outdoor': 404,\n",
              " 'mn': 405,\n",
              " 'autobus': 406,\n",
              " 'enfant': 407,\n",
              " 'olymp': 408,\n",
              " 'laundri': 409,\n",
              " 'warm': 410,\n",
              " 'much': 411,\n",
              " 'aux': 412,\n",
              " 'comfi': 413,\n",
              " 'surround': 414,\n",
              " 'rental': 415,\n",
              " 'food': 416,\n",
              " 'dame': 417,\n",
              " 'mtl': 418,\n",
              " 'major': 419,\n",
              " 'entranc': 420,\n",
              " 'boulangeri': 421,\n",
              " 'magnifiqu': 422,\n",
              " 'dispon': 423,\n",
              " 'stadium': 424,\n",
              " 'run': 425,\n",
              " 'three': 426,\n",
              " 'student': 427,\n",
              " 'th': 428,\n",
              " 'applianc': 429,\n",
              " 'ses': 430,\n",
              " 'superb': 431,\n",
              " 'star': 432,\n",
              " 'moin': 433,\n",
              " 'squar': 434,\n",
              " 'path': 435,\n",
              " 'spacieux': 436,\n",
              " 'note': 437,\n",
              " 'vie': 438,\n",
              " 'rooftop': 439,\n",
              " 'accueillir': 440,\n",
              " 'huge': 441,\n",
              " 'arrièr': 442,\n",
              " 'henri': 443,\n",
              " 'side': 444,\n",
              " 'mattress': 445,\n",
              " 'water': 446,\n",
              " 'mountain': 447,\n",
              " 'standard': 448,\n",
              " 'king': 449,\n",
              " 'outsid': 450,\n",
              " 'profit': 451,\n",
              " 'fermé': 452,\n",
              " 'profession': 453,\n",
              " 'via': 454,\n",
              " 'ouvert': 455,\n",
              " 'smart': 456,\n",
              " 'meublé': 457,\n",
              " 'shower': 458,\n",
              " 'highway': 459,\n",
              " 'rest': 460,\n",
              " 'even': 461,\n",
              " 'chez': 462,\n",
              " 'kid': 463,\n",
              " 'expect': 464,\n",
              " 'fi': 465,\n",
              " 'see': 466,\n",
              " 'cook': 467,\n",
              " 'wi': 468,\n",
              " 'cool': 469,\n",
              " 'promenad': 470,\n",
              " 'sever': 471,\n",
              " 'hidden': 472,\n",
              " 'transit': 473,\n",
              " 'cabl': 474,\n",
              " 'train': 475,\n",
              " 'cute': 476,\n",
              " 'joli': 477,\n",
              " 'moi': 478,\n",
              " 'rate': 479,\n",
              " 'trip': 480,\n",
              " 'concept': 481,\n",
              " 'patio': 482,\n",
              " 'mai': 483,\n",
              " 'secur': 484,\n",
              " 'neig': 485,\n",
              " 'possibl': 486,\n",
              " 'manger': 487,\n",
              " 'wonder': 488,\n",
              " 'entièr': 489,\n",
              " 'extra': 490,\n",
              " 'river': 491,\n",
              " 'activ': 492,\n",
              " 'buse': 493,\n",
              " 'combin': 494,\n",
              " 'qualiti': 495,\n",
              " 'chinatown': 496,\n",
              " 'action': 497,\n",
              " 'realli': 498,\n",
              " 'month': 499,\n",
              " 'entr': 500,\n",
              " 'ground': 501,\n",
              " 'ainsi': 502,\n",
              " 'give': 503,\n",
              " 'affair': 504,\n",
              " 'où': 505,\n",
              " 'artist': 506,\n",
              " 'beau': 507,\n",
              " 'apt': 508,\n",
              " 'maisonneuv': 509,\n",
              " 'endroit': 510,\n",
              " 'laveus': 511,\n",
              " 'entir': 512,\n",
              " 'fridg': 513,\n",
              " 'immeubl': 514,\n",
              " 'term': 515,\n",
              " 'origin': 516,\n",
              " 'gay': 517,\n",
              " 'nombreux': 518,\n",
              " 'sécheus': 519,\n",
              " 'stade': 520,\n",
              " 'apprécierez': 521,\n",
              " 'discov': 522,\n",
              " 'inclus': 523,\n",
              " 'simpl': 524,\n",
              " 'papineau': 525,\n",
              " 'cultur': 526,\n",
              " 'université': 527,\n",
              " 'support': 528,\n",
              " 'entertain': 529,\n",
              " 'son': 530,\n",
              " 'first': 531,\n",
              " 'vue': 532,\n",
              " 'aussi': 533,\n",
              " 'text': 534,\n",
              " 'desk': 535,\n",
              " 'fill': 536,\n",
              " 'allow': 537,\n",
              " 'email': 538,\n",
              " 'cat': 539,\n",
              " 'fit': 540,\n",
              " 'york': 541,\n",
              " 'parti': 542,\n",
              " 'cet': 543,\n",
              " 'ft': 544,\n",
              " 'compani': 545,\n",
              " 'olympiqu': 546,\n",
              " 'qu': 547,\n",
              " 'saq': 548,\n",
              " 'bel': 549,\n",
              " 'bon': 550,\n",
              " 'averag': 551,\n",
              " 'closet': 552,\n",
              " 'world': 553,\n",
              " 'vert': 554,\n",
              " 'cote': 555,\n",
              " 'emplac': 556,\n",
              " 'piscin': 557,\n",
              " 'sheet': 558,\n",
              " 'separ': 559,\n",
              " 'bring': 560,\n",
              " 'brick': 561,\n",
              " 'fontain': 562,\n",
              " 'question': 563,\n",
              " 'été': 564,\n",
              " 'sous': 565,\n",
              " 'pièc': 566,\n",
              " 'journal': 567,\n",
              " 'sonder': 568,\n",
              " 'stove': 569,\n",
              " 'contact': 570,\n",
              " 'gratuit': 571,\n",
              " 'everi': 572,\n",
              " 'ensoleillé': 573,\n",
              " 'autr': 574,\n",
              " 'bureau': 575,\n",
              " 'patri': 576,\n",
              " 'boulevard': 577,\n",
              " 'bienvenu': 578,\n",
              " 'middl': 579,\n",
              " 'pub': 580,\n",
              " 'easili': 581,\n",
              " 'linen': 582,\n",
              " 'couch': 583,\n",
              " 'plaisir': 584,\n",
              " 'supermarché': 585,\n",
              " 'proxim': 586,\n",
              " 'would': 587,\n",
              " 'quick': 588,\n",
              " 'price': 589,\n",
              " 'ste': 590,\n",
              " 'french': 591,\n",
              " 'hour': 592,\n",
              " 'year': 593,\n",
              " 'underground': 594,\n",
              " 'just': 595,\n",
              " 'wash': 596,\n",
              " 'pist': 597,\n",
              " 'yet': 598,\n",
              " 'unlimit': 599,\n",
              " 'peut': 600,\n",
              " 'paisibl': 601,\n",
              " 'excel': 602,\n",
              " 'cyclabl': 603,\n",
              " 'bath': 604,\n",
              " 'latin': 605,\n",
              " 'hot': 606,\n",
              " 'également': 607,\n",
              " 'verdun': 608,\n",
              " 'english': 609,\n",
              " 'triplex': 610,\n",
              " 'rd': 611,\n",
              " 'typiqu': 612,\n",
              " 'typic': 613,\n",
              " 'children': 614,\n",
              " 'avez': 615,\n",
              " 'breakfast': 616,\n",
              " 'pm': 617,\n",
              " 'pet': 618,\n",
              " 'sq': 619,\n",
              " 'vos': 620,\n",
              " 'cartier': 621,\n",
              " 'vivr': 622,\n",
              " 'botaniqu': 623,\n",
              " 'hi': 624,\n",
              " 'hec': 625,\n",
              " 'detail': 626,\n",
              " 'trouv': 627,\n",
              " 'botan': 628,\n",
              " 'palai': 629,\n",
              " 'read': 630,\n",
              " 'sun': 631,\n",
              " 'côté': 632,\n",
              " 'level': 633,\n",
              " 'environ': 634,\n",
              " 'sol': 635,\n",
              " 'bicycl': 636,\n",
              " 'disposit': 637,\n",
              " 'comm': 638,\n",
              " 'may': 639,\n",
              " 'serez': 640,\n",
              " 'eleg': 641,\n",
              " 'overlook': 642,\n",
              " 'happi': 643,\n",
              " 'bank': 644,\n",
              " 'chic': 645,\n",
              " 'authent': 646,\n",
              " 'offic': 647,\n",
              " 'sa': 648,\n",
              " 'request': 649,\n",
              " 'list': 650,\n",
              " 'basic': 651,\n",
              " 'respect': 652,\n",
              " 'feet': 653,\n",
              " 'swim': 654,\n",
              " 'dishwash': 655,\n",
              " 'recent': 656,\n",
              " 'smoke': 657,\n",
              " 'frontenac': 658,\n",
              " 'découvrir': 659,\n",
              " 'thing': 660,\n",
              " 'coloc': 661,\n",
              " 'chat': 662,\n",
              " 'bagel': 663,\n",
              " 'stylish': 664,\n",
              " 'connect': 665,\n",
              " 'km': 666,\n",
              " 'si': 667,\n",
              " 'prime': 668,\n",
              " 'arm': 669,\n",
              " 'dispos': 670,\n",
              " 'addit': 671,\n",
              " 'neuf': 672,\n",
              " 'fun': 673,\n",
              " 'cinema': 674,\n",
              " 'lumineus': 675,\n",
              " 'fair': 676,\n",
              " 'masson': 677,\n",
              " 'score': 678,\n",
              " 'campus': 679,\n",
              " 'event': 680,\n",
              " 'sauna': 681,\n",
              " 'hip': 682,\n",
              " 'five': 683,\n",
              " 'ultra': 684,\n",
              " 'beaudri': 685,\n",
              " 'microwav': 686,\n",
              " 'seul': 687,\n",
              " 'meter': 688,\n",
              " 'young': 689,\n",
              " 'rez': 690,\n",
              " 'dépanneur': 691,\n",
              " 'arrêt': 692,\n",
              " 'necessari': 693,\n",
              " 'ontario': 694,\n",
              " 'nd': 695,\n",
              " 'gorgeous': 696,\n",
              " 'fait': 697,\n",
              " 'san': 698,\n",
              " 'vivant': 699,\n",
              " 'atmospher': 700,\n",
              " 'griffintown': 701,\n",
              " 'contemporari': 702,\n",
              " 'site': 703,\n",
              " 'inform': 704,\n",
              " 'seulement': 705,\n",
              " 'popular': 706,\n",
              " 'louer': 707,\n",
              " 'vibe': 708,\n",
              " 'canapé': 709,\n",
              " 'non': 710,\n",
              " 'intern': 711,\n",
              " 'trouverez': 712,\n",
              " 'joseph': 713,\n",
              " 'liquor': 714,\n",
              " 'number': 715,\n",
              " 'demi': 716,\n",
              " 'system': 717,\n",
              " 'semi': 718,\n",
              " 'quit': 719,\n",
              " 'ac': 720,\n",
              " 'urban': 721,\n",
              " 'beaucoup': 722,\n",
              " 'island': 723,\n",
              " 'vélo': 724,\n",
              " 'help': 725,\n",
              " 'insid': 726,\n",
              " 'properti': 727,\n",
              " 'blue': 728,\n",
              " 'jour': 729,\n",
              " 'possibilité': 730,\n",
              " 'cachet': 731,\n",
              " 'chair': 732,\n",
              " 'chaussé': 733,\n",
              " 'music': 734,\n",
              " 'minimum': 735,\n",
              " 'vintag': 736,\n",
              " 'ndg': 737,\n",
              " 'vacat': 738,\n",
              " 'point': 739,\n",
              " 'week': 740,\n",
              " 'adult': 741,\n",
              " 'set': 742,\n",
              " 'east': 743,\n",
              " 'hardwood': 744,\n",
              " 'commerci': 745,\n",
              " 'ask': 746,\n",
              " 'besoin': 747,\n",
              " 'outremont': 748,\n",
              " 'electr': 749,\n",
              " 'coucher': 750,\n",
              " 'four': 751,\n",
              " 'per': 752,\n",
              " 'built': 753,\n",
              " 'upon': 754,\n",
              " 'stone': 755,\n",
              " 'extérieur': 756,\n",
              " 'getaway': 757,\n",
              " 'hochelaga': 758,\n",
              " 'tree': 759,\n",
              " 'cett': 760,\n",
              " 'magasin': 761,\n",
              " 'hubert': 762,\n",
              " 'bonjour': 763,\n",
              " 'wood': 764,\n",
              " 'sympathiqu': 765,\n",
              " 'dont': 766,\n",
              " 'manc': 767,\n",
              " 'better': 768,\n",
              " 'voitur': 769,\n",
              " 'aurez': 770,\n",
              " 'kind': 771,\n",
              " 'real': 772,\n",
              " 'jeann': 773,\n",
              " 'demand': 774,\n",
              " 'vaissell': 775,\n",
              " 'mari': 776,\n",
              " 'ne': 777,\n",
              " 'somm': 778,\n",
              " 'readi': 779,\n",
              " 'monkland': 780,\n",
              " 'hearth': 781,\n",
              " 'sure': 782,\n",
              " 'sécuritair': 783,\n",
              " 'offr': 784,\n",
              " 'charact': 785,\n",
              " 'privaci': 786,\n",
              " 'expos': 787,\n",
              " 'mt': 788,\n",
              " 'joliett': 789,\n",
              " 'fine': 790,\n",
              " 'montréalai': 791,\n",
              " 'partag': 792,\n",
              " 'lave': 793,\n",
              " 'function': 794,\n",
              " 'meilleur': 795,\n",
              " 'renown': 796,\n",
              " 'pedestrian': 797,\n",
              " 'plant': 798,\n",
              " 'court': 799,\n",
              " 'convent': 800,\n",
              " 'sport': 801,\n",
              " 'colleg': 802,\n",
              " 'plaza': 803,\n",
              " 'multin': 804,\n",
              " 'paradis': 805,\n",
              " 'west': 806,\n",
              " 'tea': 807,\n",
              " 'spend': 808,\n",
              " 'master': 809,\n",
              " 'haut': 810,\n",
              " 'cinéma': 811,\n",
              " 'jazz': 812,\n",
              " 'lumin': 813,\n",
              " 'pleasant': 814,\n",
              " 'soap': 815,\n",
              " 'jeun': 816,\n",
              " 'donn': 817,\n",
              " 'ami': 818,\n",
              " 'yard': 819,\n",
              " 'jacqu': 820,\n",
              " 'meet': 821,\n",
              " 'barbecu': 822,\n",
              " 'bustl': 823,\n",
              " 'roommat': 824,\n",
              " 'must': 825,\n",
              " 'icon': 826,\n",
              " 'fabr': 827,\n",
              " 'partagé': 828,\n",
              " 'screen': 829,\n",
              " 'architectur': 830,\n",
              " 'ton': 831,\n",
              " 'centuri': 832,\n",
              " 'garag': 833,\n",
              " 'semain': 834,\n",
              " 'décoré': 835,\n",
              " 'morn': 836,\n",
              " 'movi': 837,\n",
              " 'animé': 838,\n",
              " 'industri': 839,\n",
              " 'victoria': 840,\n",
              " 'pourrez': 841,\n",
              " 'websit': 842,\n",
              " 'nécessair': 843,\n",
              " 'prix': 844,\n",
              " 'common': 845,\n",
              " 'base': 846,\n",
              " 'pretti': 847,\n",
              " 'exclus': 848,\n",
              " 'lawrenc': 849,\n",
              " 'iga': 850,\n",
              " 'côte': 851,\n",
              " 'key': 852,\n",
              " 'avon': 853,\n",
              " 'without': 854,\n",
              " 'situ': 855,\n",
              " 'micro': 856,\n",
              " 'mind': 857,\n",
              " 'tranquil': 858,\n",
              " 'françai': 859,\n",
              " 'accueil': 860,\n",
              " 'anyth': 861,\n",
              " 'let': 862,\n",
              " 'core': 863,\n",
              " 'elev': 864,\n",
              " 'spa': 865,\n",
              " 'true': 866,\n",
              " 'loung': 867,\n",
              " 'absolut': 868,\n",
              " 'montréalais': 869,\n",
              " 'along': 870,\n",
              " 'galleri': 871,\n",
              " 'avant': 872,\n",
              " 'colocatair': 873,\n",
              " 'call': 874,\n",
              " 'basilica': 875,\n",
              " 'wine': 876,\n",
              " 'last': 877,\n",
              " 'townhous': 878,\n",
              " 'adjac': 879,\n",
              " 'entré': 880,\n",
              " 'except': 881,\n",
              " 'fenêtr': 882,\n",
              " 'hesit': 883,\n",
              " 'known': 884,\n",
              " 'fruiteri': 885,\n",
              " 'intérieur': 886,\n",
              " 'game': 887,\n",
              " 'keep': 888,\n",
              " 'taxi': 889,\n",
              " 'classic': 890,\n",
              " 'communiti': 891,\n",
              " 'oratori': 892,\n",
              " 'magnific': 893,\n",
              " 'serviett': 894,\n",
              " 'donc': 895,\n",
              " 'speak': 896,\n",
              " 'groulx': 897,\n",
              " 'librari': 898,\n",
              " 'descript': 899,\n",
              " 'interest': 900,\n",
              " 'bathtub': 901,\n",
              " 'wellington': 902,\n",
              " 'vendom': 903,\n",
              " 'matela': 904,\n",
              " 'meal': 905,\n",
              " 'an': 906,\n",
              " 'refriger': 907,\n",
              " 'ex': 908,\n",
              " 'show': 909,\n",
              " 'être': 910,\n",
              " 'penthous': 911,\n",
              " 'hello': 912,\n",
              " 'bistro': 913,\n",
              " 'ix': 914,\n",
              " 'could': 915,\n",
              " 'lionel': 916,\n",
              " 'resid': 917,\n",
              " 'winter': 918,\n",
              " 'étudiant': 919,\n",
              " 'dog': 920,\n",
              " 'troi': 921,\n",
              " 'forward': 922,\n",
              " 'storag': 923,\n",
              " 'fee': 924,\n",
              " 'commod': 925,\n",
              " 'ruell': 926,\n",
              " 'reach': 927,\n",
              " 'hope': 928,\n",
              " 'way': 929,\n",
              " 'fleuv': 930,\n",
              " 'eau': 931,\n",
              " 'photo': 932,\n",
              " 'whole': 933,\n",
              " 'far': 934,\n",
              " 'biodom': 935,\n",
              " 'eat': 936,\n",
              " 'everywher': 937,\n",
              " 'tub': 938,\n",
              " 'total': 939,\n",
              " 'profitez': 940,\n",
              " 'weekend': 941,\n",
              " 'might': 942,\n",
              " 'arthur': 943,\n",
              " 'stori': 944,\n",
              " 'type': 945,\n",
              " 'journé': 946,\n",
              " 'babi': 947,\n",
              " 'activité': 948,\n",
              " 'donnant': 949,\n",
              " 'courtyard': 950,\n",
              " 'lock': 951,\n",
              " 'osheaga': 952,\n",
              " 'differ': 953,\n",
              " 'westmount': 954,\n",
              " 'ador': 955,\n",
              " 'mètres': 956,\n",
              " 'visitor': 957,\n",
              " 'anyon': 958,\n",
              " 'touch': 959,\n",
              " 'lasall': 960,\n",
              " 'half': 961,\n",
              " 'tour': 962,\n",
              " 'rapid': 963,\n",
              " 'pleasur': 964,\n",
              " 'futon': 965,\n",
              " 'thank': 966,\n",
              " 'third': 967,\n",
              " 'travail': 968,\n",
              " 'tenni': 969,\n",
              " 'complètement': 970,\n",
              " 'sought': 971,\n",
              " 'branché': 972,\n",
              " 'toaster': 973,\n",
              " 'fourni': 974,\n",
              " 'princ': 975,\n",
              " 'theater': 976,\n",
              " 'abl': 977,\n",
              " 'washroom': 978,\n",
              " 'nois': 979,\n",
              " 'chaleureus': 980,\n",
              " 'éclairé': 981,\n",
              " 'possèd': 982,\n",
              " 'anim': 983,\n",
              " 'nightclub': 984,\n",
              " 'wide': 985,\n",
              " 'congrè': 986,\n",
              " 'besid': 987,\n",
              " 'finish': 988,\n",
              " 'multipl': 989,\n",
              " 'color': 990,\n",
              " 'care': 991,\n",
              " 'spacieus': 992,\n",
              " 'hd': 993,\n",
              " 'guarante': 994,\n",
              " 'sunlight': 995,\n",
              " 'daili': 996,\n",
              " 'liter': 997,\n",
              " 'principal': 998,\n",
              " 'luminosité': 999,\n",
              " 'fleuri': 1000,\n",
              " ...}"
            ]
          },
          "metadata": {},
          "execution_count": 22
        }
      ]
    },
    {
      "cell_type": "code",
      "source": [
        "# we can use the tokenizer to convert IDs to words.\n",
        "# pprint is a pretty print that makes display data better than the print function.\n",
        "pprint(tokenizer.sequences_to_texts(x_train_text_id[:5]))"
      ],
      "metadata": {
        "id": "JUTrD57l_hDq",
        "colab": {
          "base_uri": "https://localhost:8080/"
        },
        "outputId": "f1d7dc96-d239-4290-f2d8-7df907db75b2"
      },
      "execution_count": null,
      "outputs": [
        {
          "output_type": "stream",
          "name": "stdout",
          "text": [
            "['spacious sunni cozi modern apart heart montreal bedroom central locat '\n",
            " 'popular plateau mont royal neighborhood middl princ arthur pedestrian street '\n",
            " 'close amen restaur coffe hous bar club shop univers subway station experi '\n",
            " 'montreal like real local resid heart action grand prix week grill saint '\n",
            " 'laurent festiv mural much',\n",
            " 'locat one vibrant access locat downtown montreal one bedroom condo impress '\n",
            " 'leav one memor experi walk distanc popular saint catherin street bell center '\n",
            " 'old port lachin canal bonaventur metro much much',\n",
            " 'logement coquet et douillet minut du centr vill de montréal épiceri pharmaci '\n",
            " 'saq restaur et transport en commun proximité deux chambr fermé pouvant '\n",
            " 'accueillir adult',\n",
            " 'beauti spacious sc ft mc condo th floor west island montreal locat quiet '\n",
            " 'residenti area near number superb green space min car highway min le marché '\n",
            " 'de ouest min airport min walk sunnybrook train station goe downtown mtl min '\n",
            " 'close beauti natur park boi de liess walk bike path summer snowsho cross '\n",
            " 'countri ski path winter',\n",
            " 'très grand appart rustiqu et très agréabl vivr louer dan un quartier sympa '\n",
            " 'de montréal une grand chambr au sous sol et au rez de chaussé il une chambr '\n",
            " 'une grand cuisin sall manger et un grand salon doubl la cuisin offr de '\n",
            " 'nombreus machin comm un mixeur un robot ménager une cafetièr une machin '\n",
            " 'panini une machin gaufr très proch du du bord du fleuv et du centr vill de '\n",
            " 'verdun et de montréal pie en métro vélo ou autobus']\n"
          ]
        }
      ]
    },
    {
      "cell_type": "code",
      "source": [
        "# Display the total number of words in the dictionary.\n",
        "print('total words in the dictionary:', tokenizer.num_words)"
      ],
      "metadata": {
        "id": "GFDyhPPO_hGS",
        "colab": {
          "base_uri": "https://localhost:8080/"
        },
        "outputId": "1dd27e3a-3640-43f3-f8eb-2d757f0eddd1"
      },
      "execution_count": null,
      "outputs": [
        {
          "output_type": "stream",
          "name": "stdout",
          "text": [
            "total words in the dictionary: 40000\n"
          ]
        }
      ]
    },
    {
      "cell_type": "markdown",
      "metadata": {
        "id": "gBKM7B8LDl4R"
      },
      "source": [
        "## **Trials**"
      ]
    },
    {
      "cell_type": "markdown",
      "source": [
        "### **Brief** description of the trials"
      ],
      "metadata": {
        "id": "nYISzRG-w0o9"
      }
    },
    {
      "cell_type": "markdown",
      "source": [
        "* **Common commands in all trials**\n",
        " * Text part\n",
        "    * **Embedding** layer that allows us to convert each word into a fixed-length vector\n",
        "  * Image part\n",
        "    * **Conv2d** layer This layer weaves a convolution kernel with the inputs of the layers, resulting in a tensor of outputs.\n",
        "    * **MaxPool2D** that is used to reduce the dimensionality of images.\n",
        "    * **Flatten** layer flatten the layer by turning the data to a one-dimensional array and passing it on to the next.\n",
        "  * Adam optimizer\n",
        " * Early Stopping\n",
        " * **Multi-task** learning is a machine learning learning paradigm whose goal is to use beneficial knowledge contained in several related tasks to improve the generalisation performance of all tasks\n",
        " * **Multi-modality** learning is a predictive model that uses data from a variety of sources to create accurate predictions\n",
        "---\n",
        "\n",
        "* In the next part, I will describe the different parts of each trial:\n",
        "   * From **trial 0** to **trial 3**, I tried to improve the model accuracy.\n",
        "   * From **trial 4** to **trial 7**, I tried to reduce and avoid overfitting by using dropout, regularization, and add new layers.\n",
        "---\n",
        "\n",
        "* **Trial 0**\n",
        " * Text part\n",
        "   * **Averaging** embedding layer\n",
        "\n",
        "* **Trial 1**\n",
        " * Text part\n",
        "   * **GRU** layer\n",
        "\n",
        "* **Trial 2**\n",
        " * Text part\n",
        "   * **LSTM** layer\n",
        "\n",
        "* **Trial 3**\n",
        " * Text part\n",
        "   * **BiDirectional** with **GRU** layer\n",
        "   * Dropout\n",
        "---\n",
        "\n",
        "* **Trial 4**\n",
        " * Text part\n",
        "   * **Averaging** embedding layer\n",
        " * Image part\n",
        "   * Dropout\n",
        "\n",
        "* **Trial 5**\n",
        " * Text part\n",
        "   * **Averaging** embedding layer\n",
        "   * Dropout\n",
        "\n",
        "* **Trial 6**\n",
        " * Text part\n",
        "   * **BiDirectional** with **GRU** layer\n",
        "   * L2 Regularizer\n",
        "   * Dropout\n",
        "\n",
        "\n",
        "* **Trial 7**\n",
        " * Text part\n",
        "   * **BiDirectional** with **GRU** layer\n",
        "   * L2 Regularizer\n",
        "   * Dropout\n",
        "  * Image part\n",
        "   * Add new layers (Conv,Max,Conv,Max,Flatten)"
      ],
      "metadata": {
        "id": "0MYGb15ESdBu"
      }
    },
    {
      "cell_type": "markdown",
      "metadata": {
        "id": "WfzDqPRcDtty"
      },
      "source": [
        "### **Trial 0**"
      ]
    },
    {
      "cell_type": "markdown",
      "metadata": {
        "id": "3Y0oQAieGUrA"
      },
      "source": [
        "* In this trial I will use:\n",
        "\n",
        " * Text part    \n",
        "   * Embedding layer that allows us to convert each word into a fixed-length vector\n",
        "   * **Averaging** embedding layer in text part\n",
        " * Image part\n",
        "    * **Convolutional** layer with **32** filters, and a **16*16** mask, no padding\n",
        "    * **Max pooling** with a **16*16** mask\n",
        "    * **Flatten** layer\n",
        " * Multi-task learning\n",
        " * Multi-modality learning\n",
        "\n",
        "**My thoughts and observations :** The accuracy would be between 0.70 and 0.73"
      ]
    },
    {
      "cell_type": "markdown",
      "metadata": {
        "id": "mw3_7Ecz5tYd"
      },
      "source": [
        "#### Model"
      ]
    },
    {
      "cell_type": "code",
      "execution_count": null,
      "metadata": {
        "id": "keAY9lmG5ux7",
        "colab": {
          "base_uri": "https://localhost:8080/"
        },
        "outputId": "dd540dba-aff6-4f31-e0c3-4ff8632b5229"
      },
      "outputs": [
        {
          "output_type": "stream",
          "name": "stdout",
          "text": [
            "Model: \"model\"\n",
            "__________________________________________________________________________________________________\n",
            " Layer (type)                   Output Shape         Param #     Connected to                     \n",
            "==================================================================================================\n",
            " input_2 (InputLayer)           [(None, 64, 64, 2)]  0           []                               \n",
            "                                                                                                  \n",
            " input_1 (InputLayer)           [(None, 100)]        0           []                               \n",
            "                                                                                                  \n",
            " conv2d (Conv2D)                (None, 49, 49, 32)   16416       ['input_2[0][0]']                \n",
            "                                                                                                  \n",
            " embedding (Embedding)          (None, 100, 100)     4000000     ['input_1[0][0]']                \n",
            "                                                                                                  \n",
            " max_pooling2d (MaxPooling2D)   (None, 3, 3, 32)     0           ['conv2d[0][0]']                 \n",
            "                                                                                                  \n",
            " tf.math.reduce_mean (TFOpLambd  (None, 100)         0           ['embedding[0][0]']              \n",
            " a)                                                                                               \n",
            "                                                                                                  \n",
            " flatten (Flatten)              (None, 288)          0           ['max_pooling2d[0][0]']          \n",
            "                                                                                                  \n",
            " tf.concat (TFOpLambda)         (None, 388)          0           ['tf.math.reduce_mean[0][0]',    \n",
            "                                                                  'flatten[0][0]']                \n",
            "                                                                                                  \n",
            " price (Dense)                  (None, 3)            1167        ['tf.concat[0][0]']              \n",
            "                                                                                                  \n",
            " type (Dense)                   (None, 24)           9336        ['tf.concat[0][0]']              \n",
            "                                                                                                  \n",
            "==================================================================================================\n",
            "Total params: 4,026,919\n",
            "Trainable params: 4,026,919\n",
            "Non-trainable params: 0\n",
            "__________________________________________________________________________________________________\n"
          ]
        }
      ],
      "source": [
        "# Two inputs, one for image and the other for text.\n",
        "in_text = keras.Input(batch_shape=(None, max_len))\n",
        "in_image = keras.Input(batch_shape=(None, 64, 64, 2))\n",
        "\n",
        "# text part\n",
        "embedded = keras.layers.Embedding(tokenizer.num_words, 100)(in_text) # embedding requires to encoded input data to integer encoded, so that each word is represented by a unique integer\n",
        "averaged = tf.reduce_mean(embedded, axis=1)  # reduce_mean that compute the mean value of embeddded\n",
        "\n",
        "\n",
        "# image part \n",
        "# Conv2D is a two-dimensional convolution layer that generates a tensor of outputs by winding a convolution kernel with the layers input\n",
        "# MaxPool2D used to reduces the dimensionality of images that is  by reducing the number of pixels in the output from the previous convolutional layer.\n",
        "cov = Conv2D(32, (16, 16))(in_image)# convolutional layer with 32 filters, and a 16*16 mask, no padding\n",
        "pl = MaxPool2D((16, 16))(cov)# max pooling with a 16*16 mask\n",
        "flattened = Flatten()(pl) # flatten the shape to (288,)\n",
        "\n",
        "# fusion - combinig both the text and the image\n",
        "fused = tf.concat([averaged, flattened], axis=-1)\n",
        "\n",
        "# multi-task learning (each is a multi-class classification)\n",
        "# one dense layer for each task(type and price)\n",
        "p_type = Dense(len_type, activation='softmax', name='type')(fused)\n",
        "p_price = Dense(len_price, activation='softmax', name='price')(fused)\n",
        "\n",
        "\n",
        "# define model input/output using keys.\n",
        "model = keras.Model(\n",
        "    inputs={\n",
        "        'summary': in_text,\n",
        "        'image': in_image\n",
        "    },\n",
        "    outputs={\n",
        "        'type': p_type,\n",
        "        'price': p_price,\n",
        "    },\n",
        ")\n",
        "\n",
        "\n",
        "# compile model with optimizer, loss values for each task, loss \n",
        "# weights for each task.\n",
        "model.compile(\n",
        "    optimizer=Adam(),\n",
        "    loss={\n",
        "        'type': 'sparse_categorical_crossentropy',\n",
        "        'price': 'sparse_categorical_crossentropy',\n",
        "    },\n",
        "    loss_weights={\n",
        "        'type': 0.5,\n",
        "        'price': 0.5,       \n",
        "    },\n",
        "    metrics={\n",
        "        'type': ['SparseCategoricalAccuracy'],\n",
        "        'price': ['SparseCategoricalAccuracy'],\n",
        "    },\n",
        ")\n",
        "\n",
        "\n",
        "model.summary()"
      ]
    },
    {
      "cell_type": "code",
      "execution_count": null,
      "metadata": {
        "id": "YjDHpkzI5u0z",
        "colab": {
          "base_uri": "https://localhost:8080/"
        },
        "outputId": "be304bde-0139-4337-e725-5f05a96f0033"
      },
      "outputs": [
        {
          "output_type": "stream",
          "name": "stdout",
          "text": [
            "Epoch 1/20\n",
            "366/366 [==============================] - 14s 9ms/step - loss: 1.0451 - price_loss: 0.8555 - type_loss: 1.2347 - price_sparse_categorical_accuracy: 0.6145 - type_sparse_categorical_accuracy: 0.7519 - val_loss: 0.8812 - val_price_loss: 0.8132 - val_type_loss: 0.9493 - val_price_sparse_categorical_accuracy: 0.6234 - val_type_sparse_categorical_accuracy: 0.7690\n",
            "Epoch 2/20\n",
            "366/366 [==============================] - 3s 8ms/step - loss: 0.8923 - price_loss: 0.8033 - type_loss: 0.9813 - price_sparse_categorical_accuracy: 0.6275 - type_sparse_categorical_accuracy: 0.7560 - val_loss: 0.8474 - val_price_loss: 0.7745 - val_type_loss: 0.9204 - val_price_sparse_categorical_accuracy: 0.6541 - val_type_sparse_categorical_accuracy: 0.7690\n",
            "Epoch 3/20\n",
            "366/366 [==============================] - 3s 8ms/step - loss: 0.8475 - price_loss: 0.7530 - type_loss: 0.9419 - price_sparse_categorical_accuracy: 0.6644 - type_sparse_categorical_accuracy: 0.7560 - val_loss: 0.8110 - val_price_loss: 0.7371 - val_type_loss: 0.8850 - val_price_sparse_categorical_accuracy: 0.6671 - val_type_sparse_categorical_accuracy: 0.7690\n",
            "Epoch 4/20\n",
            "366/366 [==============================] - 3s 7ms/step - loss: 0.7983 - price_loss: 0.7064 - type_loss: 0.8902 - price_sparse_categorical_accuracy: 0.6950 - type_sparse_categorical_accuracy: 0.7582 - val_loss: 0.7910 - val_price_loss: 0.7304 - val_type_loss: 0.8515 - val_price_sparse_categorical_accuracy: 0.6582 - val_type_sparse_categorical_accuracy: 0.7703\n",
            "Epoch 5/20\n",
            "366/366 [==============================] - 3s 8ms/step - loss: 0.7558 - price_loss: 0.6705 - type_loss: 0.8411 - price_sparse_categorical_accuracy: 0.7109 - type_sparse_categorical_accuracy: 0.7612 - val_loss: 0.7664 - val_price_loss: 0.7050 - val_type_loss: 0.8278 - val_price_sparse_categorical_accuracy: 0.6787 - val_type_sparse_categorical_accuracy: 0.7751\n",
            "Epoch 6/20\n",
            "366/366 [==============================] - 3s 8ms/step - loss: 0.7197 - price_loss: 0.6422 - type_loss: 0.7972 - price_sparse_categorical_accuracy: 0.7266 - type_sparse_categorical_accuracy: 0.7682 - val_loss: 0.7546 - val_price_loss: 0.7071 - val_type_loss: 0.8021 - val_price_sparse_categorical_accuracy: 0.6760 - val_type_sparse_categorical_accuracy: 0.7772\n",
            "Epoch 7/20\n",
            "366/366 [==============================] - 3s 7ms/step - loss: 0.6869 - price_loss: 0.6170 - type_loss: 0.7568 - price_sparse_categorical_accuracy: 0.7418 - type_sparse_categorical_accuracy: 0.7800 - val_loss: 0.7431 - val_price_loss: 0.7001 - val_type_loss: 0.7861 - val_price_sparse_categorical_accuracy: 0.6774 - val_type_sparse_categorical_accuracy: 0.7833\n",
            "Epoch 8/20\n",
            "366/366 [==============================] - 3s 7ms/step - loss: 0.6556 - price_loss: 0.5919 - type_loss: 0.7193 - price_sparse_categorical_accuracy: 0.7584 - type_sparse_categorical_accuracy: 0.7916 - val_loss: 0.7346 - val_price_loss: 0.6971 - val_type_loss: 0.7722 - val_price_sparse_categorical_accuracy: 0.6774 - val_type_sparse_categorical_accuracy: 0.7806\n",
            "Epoch 9/20\n",
            "366/366 [==============================] - 3s 7ms/step - loss: 0.6282 - price_loss: 0.5720 - type_loss: 0.6843 - price_sparse_categorical_accuracy: 0.7673 - type_sparse_categorical_accuracy: 0.8008 - val_loss: 0.7292 - val_price_loss: 0.6985 - val_type_loss: 0.7598 - val_price_sparse_categorical_accuracy: 0.6746 - val_type_sparse_categorical_accuracy: 0.7867\n",
            "Epoch 10/20\n",
            "366/366 [==============================] - 4s 11ms/step - loss: 0.6015 - price_loss: 0.5513 - type_loss: 0.6518 - price_sparse_categorical_accuracy: 0.7757 - type_sparse_categorical_accuracy: 0.8104 - val_loss: 0.7315 - val_price_loss: 0.7055 - val_type_loss: 0.7575 - val_price_sparse_categorical_accuracy: 0.6760 - val_type_sparse_categorical_accuracy: 0.7915\n",
            "Epoch 11/20\n",
            "366/366 [==============================] - 3s 9ms/step - loss: 0.5756 - price_loss: 0.5314 - type_loss: 0.6198 - price_sparse_categorical_accuracy: 0.7868 - type_sparse_categorical_accuracy: 0.8205 - val_loss: 0.7257 - val_price_loss: 0.7078 - val_type_loss: 0.7436 - val_price_sparse_categorical_accuracy: 0.6746 - val_type_sparse_categorical_accuracy: 0.7915\n",
            "Epoch 12/20\n",
            "366/366 [==============================] - 3s 8ms/step - loss: 0.5508 - price_loss: 0.5124 - type_loss: 0.5891 - price_sparse_categorical_accuracy: 0.7950 - type_sparse_categorical_accuracy: 0.8299 - val_loss: 0.7275 - val_price_loss: 0.7186 - val_type_loss: 0.7365 - val_price_sparse_categorical_accuracy: 0.6726 - val_type_sparse_categorical_accuracy: 0.7956\n",
            "Epoch 13/20\n",
            "366/366 [==============================] - 3s 7ms/step - loss: 0.5281 - price_loss: 0.4952 - type_loss: 0.5609 - price_sparse_categorical_accuracy: 0.8061 - type_sparse_categorical_accuracy: 0.8393 - val_loss: 0.7267 - val_price_loss: 0.7228 - val_type_loss: 0.7305 - val_price_sparse_categorical_accuracy: 0.6726 - val_type_sparse_categorical_accuracy: 0.7970\n"
          ]
        }
      ],
      "source": [
        "# fit the model it takes\n",
        "# inputs: summary, and image\n",
        "# outputs: type, and price\n",
        "history = model.fit(\n",
        "    x={\n",
        "        'summary': x_train_text_id,\n",
        "        'image': x_train_image\n",
        "    },\n",
        "    y={\n",
        "        'type': y_train_type,\n",
        "        'price': y_train_price,\n",
        "    },\n",
        "    epochs=20,\n",
        "    batch_size=16,\n",
        "    validation_split=0.2,\n",
        "    callbacks=[\n",
        "        tf.keras.callbacks.EarlyStopping(monitor='val_price_loss', patience=5, ) # If val_price_loss is raised 5 times, the fit will be stopped.\n",
        "    ],\n",
        "    verbose=1\n",
        ")"
      ]
    },
    {
      "cell_type": "code",
      "source": [
        "# we can do prediction on testing set\n",
        "y_predict = model.predict(\n",
        "    {\n",
        "        'summary': x_test_text,\n",
        "        'image': x_test_image\n",
        "    }\n",
        ")\n",
        "\n",
        "\n",
        "# probabilities\n",
        "price_predicted = y_predict['price']\n",
        "print(price_predicted)\n",
        "\n",
        "# categories\n",
        "price_category_predicted = np.argmax(price_predicted, axis=1) # argmax used to convert prob. predict to predict\n",
        "print(price_category_predicted)\n"
      ],
      "metadata": {
        "id": "7nN_0YOAAQD1",
        "colab": {
          "base_uri": "https://localhost:8080/"
        },
        "outputId": "0266f6ba-ec47-4709-8960-b8025978b10b"
      },
      "execution_count": null,
      "outputs": [
        {
          "output_type": "stream",
          "name": "stdout",
          "text": [
            "[[0.5222905  0.35541505 0.12229443]\n",
            " [0.9778106  0.01734983 0.00483955]\n",
            " [0.88597023 0.07235796 0.04167176]\n",
            " ...\n",
            " [0.716463   0.24006853 0.04346838]\n",
            " [0.98037934 0.01299251 0.00662823]\n",
            " [0.7406428  0.22535275 0.03400447]]\n",
            "[0 0 0 ... 0 0 0]\n"
          ]
        }
      ]
    },
    {
      "cell_type": "markdown",
      "source": [
        "#### Display model"
      ],
      "metadata": {
        "id": "edV88wMVsGJ1"
      }
    },
    {
      "cell_type": "code",
      "source": [
        "# figure is used to create a new figure.\n",
        "plt.figure(figsize=(15, 8))\n",
        "plt.subplot(1, 2, 1)\n",
        "plt.plot(history.history['price_sparse_categorical_accuracy'])\n",
        "plt.plot(history.history['val_price_sparse_categorical_accuracy'])\n",
        "plt.title('Price accuracy') # graph title\n",
        "plt.ylabel('accuracy') # y axis lable\n",
        "plt.xlabel('epoch') # x axis lable\n",
        "plt.legend(['train', 'validation'], loc='upper left') # legend is an area describing the elements of the graph\n",
        "plt.show()\n",
        "plt.grid(True) # grid is the axis object's method toggles the visibility of the grid inside the figure.\n",
        "plt.subplot(1, 2, 1)\n",
        "plt.plot(history.history['price_loss'])\n",
        "plt.plot(history.history['val_price_loss'])\n",
        "plt.title('model loss')  # graph title\n",
        "plt.ylabel('loss') # y axis lable\n",
        "plt.xlabel('epoch')# x axis lable\n",
        "plt.legend(['train', 'validation'], loc='upper left')\n",
        "plt.show()"
      ],
      "metadata": {
        "id": "n11LPMqjAbGy",
        "colab": {
          "base_uri": "https://localhost:8080/",
          "height": 791
        },
        "outputId": "71e457f0-a578-4562-cdab-c7fb7b79de3d"
      },
      "execution_count": null,
      "outputs": [
        {
          "output_type": "display_data",
          "data": {
            "text/plain": [
              "<Figure size 1080x576 with 1 Axes>"
            ],
            "image/png": "[encoded data removed]"
          },
          "metadata": {
            "needs_background": "light"
          }
        },
        {
          "output_type": "display_data",
          "data": {
            "text/plain": [
              "<Figure size 432x288 with 1 Axes>"
            ],
            "image/png": "[encoded data removed]"
          },
          "metadata": {
            "needs_background": "light"
          }
        }
      ]
    },
    {
      "cell_type": "code",
      "execution_count": null,
      "metadata": {
        "id": "oWjAUlFu5u-T"
      },
      "outputs": [],
      "source": [
        "#  (if for kaggle competition and it is about genre prediction)\n",
        "pd.DataFrame(\n",
        "    {'id': data_ts.id,\n",
        "     'price': price_category_predicted}\n",
        ").to_csv('/content/drive/MyDrive/Queens_Practical/Data_Mining/compt4/submission.csv', index=False)"
      ]
    },
    {
      "cell_type": "markdown",
      "metadata": {
        "id": "csmlO-3Q-lX0"
      },
      "source": [
        "#### Result"
      ]
    },
    {
      "cell_type": "markdown",
      "metadata": {
        "id": "z3SW0a0W-lX1"
      },
      "source": [
        "Accuracy in **kaggle** =0.68369 \\\n",
        "From the diagram, there is a big over-fitting, so I will try  in the next trials to reduce the over-fitting by using droupout and regularization.\\\n",
        "I tried different values in loss_weights and max_len (the maximum length of tokenizers) but they gave me less accuracy, so I used these values."
      ]
    },
    {
      "cell_type": "markdown",
      "metadata": {
        "id": "GAEAJn-CunZi"
      },
      "source": [
        "### **Trial 1**"
      ]
    },
    {
      "cell_type": "markdown",
      "metadata": {
        "id": "Tyz0vUSRunZo"
      },
      "source": [
        "* In this trial I will use:\n",
        " * Text part    \n",
        "   * Embedding layer that allows us to convert each word into a fixed-length vector\n",
        "   * **GRU layer** (Gated Recurrent Unit) is a mechanism in recurrent neural and it learns dependencies between time steps in time series and sequence data. It is used **100 units** and activation **tanh activation** function.\n",
        "\n",
        " * Image part\n",
        "    * **Convolutional** layer with **32** filters, and a **16*16** mask, no padding\n",
        "    * **Max pooling** with a **16*16** mask\n",
        "    * **Flatten** layer\n",
        " * Multi-task learning\n",
        " * Multi-modality learning\n",
        "\n",
        "**My thoughts and observations :** The accuracy would be between 0.68369 and 0.68555"
      ]
    },
    {
      "cell_type": "markdown",
      "metadata": {
        "id": "fXdc_gEXunZo"
      },
      "source": [
        "#### Model"
      ]
    },
    {
      "cell_type": "code",
      "execution_count": null,
      "metadata": {
        "colab": {
          "base_uri": "https://localhost:8080/"
        },
        "outputId": "b24a26e9-486d-4a9a-fd20-412c72714242",
        "id": "9H5m-8rwunZo"
      },
      "outputs": [
        {
          "output_type": "stream",
          "name": "stdout",
          "text": [
            "Model: \"model\"\n",
            "__________________________________________________________________________________________________\n",
            " Layer (type)                   Output Shape         Param #     Connected to                     \n",
            "==================================================================================================\n",
            " input_2 (InputLayer)           [(None, 64, 64, 2)]  0           []                               \n",
            "                                                                                                  \n",
            " input_1 (InputLayer)           [(None, 100)]        0           []                               \n",
            "                                                                                                  \n",
            " conv2d (Conv2D)                (None, 49, 49, 32)   16416       ['input_2[0][0]']                \n",
            "                                                                                                  \n",
            " embedding (Embedding)          (None, 100, 100)     4000000     ['input_1[0][0]']                \n",
            "                                                                                                  \n",
            " max_pooling2d (MaxPooling2D)   (None, 3, 3, 32)     0           ['conv2d[0][0]']                 \n",
            "                                                                                                  \n",
            " gru (GRU)                      (None, 100)          60600       ['embedding[0][0]']              \n",
            "                                                                                                  \n",
            " flatten (Flatten)              (None, 288)          0           ['max_pooling2d[0][0]']          \n",
            "                                                                                                  \n",
            " tf.concat (TFOpLambda)         (None, 388)          0           ['gru[0][0]',                    \n",
            "                                                                  'flatten[0][0]']                \n",
            "                                                                                                  \n",
            " price (Dense)                  (None, 3)            1167        ['tf.concat[0][0]']              \n",
            "                                                                                                  \n",
            " type (Dense)                   (None, 24)           9336        ['tf.concat[0][0]']              \n",
            "                                                                                                  \n",
            "==================================================================================================\n",
            "Total params: 4,087,519\n",
            "Trainable params: 4,087,519\n",
            "Non-trainable params: 0\n",
            "__________________________________________________________________________________________________\n"
          ]
        }
      ],
      "source": [
        "# Two inputs, one for image and the other for text.\n",
        "in_text = keras.Input(batch_shape=(None, max_len))\n",
        "in_image = keras.Input(batch_shape=(None, 64, 64, 2))\n",
        "\n",
        "# text part\n",
        "embedded = keras.layers.Embedding(tokenizer.num_words, 100)(in_text)# embedding requires to encoded input data to integer encoded, so that each word is represented by a unique integer\n",
        "gru= GRU(100, activation='tanh')(embedded)\n",
        "\n",
        "\n",
        "# image part \n",
        "# Conv2D is a two-dimensional convolution layer that generates a tensor of outputs by winding a convolution kernel with the layers input\n",
        "# MaxPool2D used to reduces the dimensionality of images that is  by reducing the number of pixels in the output from the previous convolutional layer.\n",
        "cov = Conv2D(32, (16, 16))(in_image)# convolutional layer with 32 filters, and a 16*16 mask, no padding\n",
        "pl = MaxPool2D((16, 16))(cov)# max pooling with a 16*16 mask\n",
        "flattened = Flatten()(pl) # flatten the shape to (288,)\n",
        "\n",
        "# fusion - combinig both the text and the image\n",
        "fused = tf.concat([gru, flattened], axis=-1)\n",
        "\n",
        "# multi-task learning (each is a multi-class classification)\n",
        "# one dense layer for each task(type and price)\n",
        "p_type = Dense(len_type, activation='softmax', name='type')(fused)\n",
        "p_price = Dense(len_price, activation='softmax', name='price')(fused)\n",
        "\n",
        "\n",
        "# define model input/output using keys.\n",
        "model = keras.Model(\n",
        "    inputs={\n",
        "        'summary': in_text,\n",
        "        'image': in_image\n",
        "    },\n",
        "    outputs={\n",
        "        'type': p_type,\n",
        "        'price': p_price,\n",
        "    },\n",
        ")\n",
        "\n",
        "\n",
        "# compile model with optimizer, loss values for each task, loss \n",
        "# weights for each task.\n",
        "model.compile(\n",
        "    optimizer=Adam(),\n",
        "    loss={\n",
        "        'type': 'sparse_categorical_crossentropy',\n",
        "        'price': 'sparse_categorical_crossentropy',\n",
        "    },\n",
        "    loss_weights={\n",
        "        'type': 0.5,\n",
        "        'price': 0.5,       \n",
        "    },\n",
        "    metrics={\n",
        "        'type': ['SparseCategoricalAccuracy'],\n",
        "        'price': ['SparseCategoricalAccuracy'],\n",
        "    },\n",
        ")\n",
        "\n",
        "\n",
        "model.summary()"
      ]
    },
    {
      "cell_type": "code",
      "execution_count": null,
      "metadata": {
        "colab": {
          "base_uri": "https://localhost:8080/"
        },
        "outputId": "a50c08d3-2578-4de5-aca0-e1baee32b256",
        "id": "Y2ogfLFqunZp"
      },
      "outputs": [
        {
          "output_type": "stream",
          "name": "stdout",
          "text": [
            "Epoch 1/20\n",
            "366/366 [==============================] - 18s 14ms/step - loss: 0.9816 - price_loss: 0.8555 - type_loss: 1.1077 - price_sparse_categorical_accuracy: 0.6136 - type_sparse_categorical_accuracy: 0.7524 - val_loss: 0.8993 - val_price_loss: 0.8310 - val_type_loss: 0.9676 - val_price_sparse_categorical_accuracy: 0.6234 - val_type_sparse_categorical_accuracy: 0.7690\n",
            "Epoch 2/20\n",
            "366/366 [==============================] - 4s 12ms/step - loss: 0.9086 - price_loss: 0.8382 - type_loss: 0.9790 - price_sparse_categorical_accuracy: 0.6194 - type_sparse_categorical_accuracy: 0.7560 - val_loss: 0.8469 - val_price_loss: 0.8103 - val_type_loss: 0.8836 - val_price_sparse_categorical_accuracy: 0.6234 - val_type_sparse_categorical_accuracy: 0.7690\n",
            "Epoch 3/20\n",
            "366/366 [==============================] - 4s 12ms/step - loss: 0.8423 - price_loss: 0.8053 - type_loss: 0.8792 - price_sparse_categorical_accuracy: 0.6280 - type_sparse_categorical_accuracy: 0.7603 - val_loss: 0.8037 - val_price_loss: 0.7631 - val_type_loss: 0.8443 - val_price_sparse_categorical_accuracy: 0.6329 - val_type_sparse_categorical_accuracy: 0.7676\n",
            "Epoch 4/20\n",
            "366/366 [==============================] - 4s 12ms/step - loss: 0.7693 - price_loss: 0.7489 - type_loss: 0.7898 - price_sparse_categorical_accuracy: 0.6504 - type_sparse_categorical_accuracy: 0.7863 - val_loss: 0.7749 - val_price_loss: 0.7404 - val_type_loss: 0.8093 - val_price_sparse_categorical_accuracy: 0.6535 - val_type_sparse_categorical_accuracy: 0.7874\n",
            "Epoch 5/20\n",
            "366/366 [==============================] - 4s 12ms/step - loss: 0.6988 - price_loss: 0.6908 - type_loss: 0.7068 - price_sparse_categorical_accuracy: 0.6882 - type_sparse_categorical_accuracy: 0.8089 - val_loss: 0.7494 - val_price_loss: 0.7124 - val_type_loss: 0.7864 - val_price_sparse_categorical_accuracy: 0.6671 - val_type_sparse_categorical_accuracy: 0.7888\n",
            "Epoch 6/20\n",
            "366/366 [==============================] - 4s 12ms/step - loss: 0.6353 - price_loss: 0.6293 - type_loss: 0.6413 - price_sparse_categorical_accuracy: 0.7201 - type_sparse_categorical_accuracy: 0.8217 - val_loss: 0.7620 - val_price_loss: 0.7208 - val_type_loss: 0.8032 - val_price_sparse_categorical_accuracy: 0.6705 - val_type_sparse_categorical_accuracy: 0.7785\n",
            "Epoch 7/20\n",
            "366/366 [==============================] - 4s 12ms/step - loss: 0.5686 - price_loss: 0.5592 - type_loss: 0.5779 - price_sparse_categorical_accuracy: 0.7642 - type_sparse_categorical_accuracy: 0.8413 - val_loss: 0.7864 - val_price_loss: 0.7555 - val_type_loss: 0.8173 - val_price_sparse_categorical_accuracy: 0.6712 - val_type_sparse_categorical_accuracy: 0.7792\n",
            "Epoch 8/20\n",
            "366/366 [==============================] - 4s 12ms/step - loss: 0.5024 - price_loss: 0.4837 - type_loss: 0.5210 - price_sparse_categorical_accuracy: 0.8066 - type_sparse_categorical_accuracy: 0.8600 - val_loss: 0.8181 - val_price_loss: 0.7928 - val_type_loss: 0.8434 - val_price_sparse_categorical_accuracy: 0.6610 - val_type_sparse_categorical_accuracy: 0.7833\n",
            "Epoch 9/20\n",
            "366/366 [==============================] - 5s 12ms/step - loss: 0.4404 - price_loss: 0.4218 - type_loss: 0.4590 - price_sparse_categorical_accuracy: 0.8381 - type_sparse_categorical_accuracy: 0.8764 - val_loss: 0.8922 - val_price_loss: 0.8980 - val_type_loss: 0.8863 - val_price_sparse_categorical_accuracy: 0.6808 - val_type_sparse_categorical_accuracy: 0.7765\n",
            "Epoch 10/20\n",
            "366/366 [==============================] - 5s 12ms/step - loss: 0.3840 - price_loss: 0.3696 - type_loss: 0.3984 - price_sparse_categorical_accuracy: 0.8572 - type_sparse_categorical_accuracy: 0.8928 - val_loss: 0.9411 - val_price_loss: 0.9573 - val_type_loss: 0.9249 - val_price_sparse_categorical_accuracy: 0.6712 - val_type_sparse_categorical_accuracy: 0.7703\n"
          ]
        }
      ],
      "source": [
        "# fit the model it takes\n",
        "# inputs: summary, and image\n",
        "# outputs: type, and price\n",
        "history = model.fit(\n",
        "    x={\n",
        "        'summary': x_train_text_id,\n",
        "        'image': x_train_image\n",
        "    },\n",
        "    y={\n",
        "        'type': y_train_type,\n",
        "        'price': y_train_price,\n",
        "    },\n",
        "    epochs=20,\n",
        "    batch_size=16,\n",
        "    validation_split=0.2,\n",
        "    callbacks=[\n",
        "        tf.keras.callbacks.EarlyStopping(monitor='val_price_loss', patience=5, ) # If val_price_loss is raised 5 times, the fit will be stopped.\n",
        "    ],\n",
        "    verbose=1\n",
        ")"
      ]
    },
    {
      "cell_type": "code",
      "source": [
        "# we can do prediction on testing set\n",
        "y_predict = model.predict(\n",
        "    {\n",
        "        'summary': x_test_text,\n",
        "        'image': x_test_image\n",
        "    }\n",
        ")\n",
        "\n",
        "\n",
        "# probabilities\n",
        "price_predicted = y_predict['price']\n",
        "print(price_predicted)\n",
        "\n",
        "# categories\n",
        "price_category_predicted = np.argmax(price_predicted, axis=1) # argmax used to convert prob. predict to predict\n",
        "print(price_category_predicted)\n"
      ],
      "metadata": {
        "colab": {
          "base_uri": "https://localhost:8080/"
        },
        "outputId": "a4ee677c-ab1d-4a68-c810-85f119575cb3",
        "id": "yj1-uWl7unZp"
      },
      "execution_count": null,
      "outputs": [
        {
          "output_type": "stream",
          "name": "stdout",
          "text": [
            "[[1.6504358e-01 6.4358675e-01 1.9136968e-01]\n",
            " [9.9905390e-01 9.2380145e-04 2.2291477e-05]\n",
            " [9.8986048e-01 9.6072992e-03 5.3227949e-04]\n",
            " ...\n",
            " [2.0212144e-01 6.4887899e-01 1.4899962e-01]\n",
            " [9.9692947e-01 2.8889545e-03 1.8158556e-04]\n",
            " [9.4335413e-01 5.3264953e-02 3.3808430e-03]]\n",
            "[1 0 0 ... 1 0 0]\n"
          ]
        }
      ]
    },
    {
      "cell_type": "markdown",
      "source": [
        "#### Display model"
      ],
      "metadata": {
        "id": "gg2r6s60unZp"
      }
    },
    {
      "cell_type": "code",
      "source": [
        "# figure is used to create a new figure.\n",
        "plt.figure(figsize=(15, 8))\n",
        "plt.subplot(1, 2, 1)\n",
        "plt.plot(history.history['price_sparse_categorical_accuracy'])\n",
        "plt.plot(history.history['val_price_sparse_categorical_accuracy'])\n",
        "plt.title('Price accuracy') # graph title\n",
        "plt.ylabel('accuracy') # y axis lable\n",
        "plt.xlabel('epoch') # x axis lable\n",
        "plt.legend(['train', 'validation'], loc='upper left') # legend is an area describing the elements of the graph\n",
        "plt.show()\n",
        "plt.grid(True) # grid is the axis object's method toggles the visibility of the grid inside the figure.\n",
        "plt.subplot(1, 2, 1)\n",
        "plt.plot(history.history['price_loss'])\n",
        "plt.plot(history.history['val_price_loss'])\n",
        "plt.title('model loss')  # graph title\n",
        "plt.ylabel('loss') # y axis lable\n",
        "plt.xlabel('epoch')# x axis lable\n",
        "plt.legend(['train', 'validation'], loc='upper left')\n",
        "plt.show()"
      ],
      "metadata": {
        "colab": {
          "base_uri": "https://localhost:8080/",
          "height": 791
        },
        "outputId": "036dd97d-0f48-4ee8-ef4b-a154f02e9f9f",
        "id": "d7AiqwDBunZp"
      },
      "execution_count": null,
      "outputs": [
        {
          "output_type": "display_data",
          "data": {
            "text/plain": [
              "<Figure size 1080x576 with 1 Axes>"
            ],
            "image/png": "[encoded data removed]"
          },
          "metadata": {
            "needs_background": "light"
          }
        },
        {
          "output_type": "display_data",
          "data": {
            "text/plain": [
              "<Figure size 432x288 with 1 Axes>"
            ],
            "image/png": "[encoded data removed]"
          },
          "metadata": {
            "needs_background": "light"
          }
        }
      ]
    },
    {
      "cell_type": "code",
      "execution_count": null,
      "metadata": {
        "id": "TJSjxaxTunZp"
      },
      "outputs": [],
      "source": [
        "#  (if for kaggle competition and it is about genre prediction)\n",
        "pd.DataFrame(\n",
        "    {'id': data_ts.id,\n",
        "     'price': price_category_predicted}\n",
        ").to_csv('/content/drive/MyDrive/Queens_Practical/Data_Mining/compt4/submission.csv', index=False)"
      ]
    },
    {
      "cell_type": "markdown",
      "metadata": {
        "id": "RNIutMfkunZp"
      },
      "source": [
        "#### Result"
      ]
    },
    {
      "cell_type": "markdown",
      "metadata": {
        "id": "NRgKqtHnunZq"
      },
      "source": [
        "Accuracy in **kaggle** =0.64375 This GRU layer made my model's accuracy less and this is the opposite of what I expected\\\n",
        "From the diagram, there is a big over-fitting, so I will try  in the next trials to reduce the over-fitting by using droupout and regularization.\\\n",
        "I tried different values in units but they gave me less accuracy, so I used 100 units."
      ]
    },
    {
      "cell_type": "markdown",
      "metadata": {
        "id": "3haISJWmJ9Mb"
      },
      "source": [
        "### **Trial 2**"
      ]
    },
    {
      "cell_type": "markdown",
      "metadata": {
        "id": "fHstcDo-J9Mg"
      },
      "source": [
        "* In this trial I will use:\n",
        " * Text part    \n",
        "   * Embedding layer that allows us to convert each word into a fixed-length vector\n",
        "   * **LSTM layer** is a kind of recurrent neural network that can learn sequence prediction issues' order dependence and it learns long-term dependencies between time steps in time series and sequence data. It is used **80 units** and activation **tanh activation** function.\n",
        "\n",
        " * Image part\n",
        "    * **Convolutional** layer with **32** filters, and a **16*16** mask, no padding\n",
        "    * **Max pooling** with a **16*16** mask\n",
        "    * **Flatten** layer\n",
        " * Multi-task learning\n",
        " * Multi-modality learning\n",
        "\n",
        "**My thoughts and observations :** The accuracy would be less than 0.64375 as GRU is better than LSTM as GRU uses fewer training parameters, which means it consumes less memory and runs faster than LSTM."
      ]
    },
    {
      "cell_type": "markdown",
      "metadata": {
        "id": "gs0ySHUiJ9Mg"
      },
      "source": [
        "#### Model"
      ]
    },
    {
      "cell_type": "code",
      "execution_count": null,
      "metadata": {
        "colab": {
          "base_uri": "https://localhost:8080/"
        },
        "outputId": "5ebab605-76b3-4c20-8c2b-d61196af811b",
        "id": "_9840dWFJ9Mh"
      },
      "outputs": [
        {
          "output_type": "stream",
          "name": "stdout",
          "text": [
            "Model: \"model_2\"\n",
            "__________________________________________________________________________________________________\n",
            " Layer (type)                   Output Shape         Param #     Connected to                     \n",
            "==================================================================================================\n",
            " input_6 (InputLayer)           [(None, 64, 64, 2)]  0           []                               \n",
            "                                                                                                  \n",
            " input_5 (InputLayer)           [(None, 100)]        0           []                               \n",
            "                                                                                                  \n",
            " conv2d_2 (Conv2D)              (None, 49, 49, 32)   16416       ['input_6[0][0]']                \n",
            "                                                                                                  \n",
            " embedding_2 (Embedding)        (None, 100, 100)     4000000     ['input_5[0][0]']                \n",
            "                                                                                                  \n",
            " max_pooling2d_2 (MaxPooling2D)  (None, 3, 3, 32)    0           ['conv2d_2[0][0]']               \n",
            "                                                                                                  \n",
            " lstm_1 (LSTM)                  (None, 80)           57920       ['embedding_2[0][0]']            \n",
            "                                                                                                  \n",
            " flatten_2 (Flatten)            (None, 288)          0           ['max_pooling2d_2[0][0]']        \n",
            "                                                                                                  \n",
            " tf.concat_2 (TFOpLambda)       (None, 368)          0           ['lstm_1[0][0]',                 \n",
            "                                                                  'flatten_2[0][0]']              \n",
            "                                                                                                  \n",
            " price (Dense)                  (None, 3)            1107        ['tf.concat_2[0][0]']            \n",
            "                                                                                                  \n",
            " type (Dense)                   (None, 24)           8856        ['tf.concat_2[0][0]']            \n",
            "                                                                                                  \n",
            "==================================================================================================\n",
            "Total params: 4,084,299\n",
            "Trainable params: 4,084,299\n",
            "Non-trainable params: 0\n",
            "__________________________________________________________________________________________________\n"
          ]
        }
      ],
      "source": [
        "# Two inputs, one for image and the other for text.\n",
        "in_text = keras.Input(batch_shape=(None, max_len))\n",
        "in_image = keras.Input(batch_shape=(None, 64, 64, 2))\n",
        "\n",
        "# text part\n",
        "embedded = keras.layers.Embedding(tokenizer.num_words, 100)(in_text)# embedding requires to encoded input data to integer encoded, so that each word is represented by a unique integer\n",
        "lstm= LSTM(80, activation='tanh')(embedded)\n",
        "\n",
        "\n",
        "# image part \n",
        "# Conv2D is a two-dimensional convolution layer that generates a tensor of outputs by winding a convolution kernel with the layers input\n",
        "# MaxPool2D used to reduces the dimensionality of images that is  by reducing the number of pixels in the output from the previous convolutional layer.\n",
        "cov = Conv2D(32, (16, 16))(in_image)# convolutional layer with 32 filters, and a 16*16 mask, no padding\n",
        "pl = MaxPool2D((16, 16))(cov)# max pooling with a 16*16 mask\n",
        "flattened = Flatten()(pl) # flatten the shape to (288,)\n",
        "\n",
        "# fusion - combinig both the text and the image\n",
        "fused = tf.concat([lstm, flattened], axis=-1)\n",
        "\n",
        "# multi-task learning (each is a multi-class classification)\n",
        "# one dense layer for each task(type and price)\n",
        "p_type = Dense(len_type, activation='softmax', name='type')(fused)\n",
        "p_price = Dense(len_price, activation='softmax', name='price')(fused)\n",
        "\n",
        "\n",
        "# define model input/output using keys.\n",
        "model = keras.Model(\n",
        "    inputs={\n",
        "        'summary': in_text,\n",
        "        'image': in_image\n",
        "    },\n",
        "    outputs={\n",
        "        'type': p_type,\n",
        "        'price': p_price,\n",
        "    },\n",
        ")\n",
        "\n",
        "\n",
        "# compile model with optimizer, loss values for each task, loss \n",
        "# weights for each task.\n",
        "model.compile(\n",
        "    optimizer=Adam(),\n",
        "    loss={\n",
        "        'type': 'sparse_categorical_crossentropy',\n",
        "        'price': 'sparse_categorical_crossentropy',\n",
        "    },\n",
        "    loss_weights={\n",
        "        'type': 0.5,\n",
        "        'price': 0.5,       \n",
        "    },\n",
        "    metrics={\n",
        "        'type': ['SparseCategoricalAccuracy'],\n",
        "        'price': ['SparseCategoricalAccuracy'],\n",
        "    },\n",
        ")\n",
        "\n",
        "\n",
        "model.summary()"
      ]
    },
    {
      "cell_type": "code",
      "execution_count": null,
      "metadata": {
        "colab": {
          "base_uri": "https://localhost:8080/"
        },
        "outputId": "2437ac4f-0728-452e-a0d1-450589fe55bc",
        "id": "RB8YK4_MJ9Mh"
      },
      "outputs": [
        {
          "output_type": "stream",
          "name": "stdout",
          "text": [
            "Epoch 1/20\n",
            "366/366 [==============================] - 7s 14ms/step - loss: 0.9747 - price_loss: 0.8469 - type_loss: 1.1025 - price_sparse_categorical_accuracy: 0.6191 - type_sparse_categorical_accuracy: 0.7541 - val_loss: 0.8962 - val_price_loss: 0.8326 - val_type_loss: 0.9598 - val_price_sparse_categorical_accuracy: 0.6234 - val_type_sparse_categorical_accuracy: 0.7690\n",
            "Epoch 2/20\n",
            "366/366 [==============================] - 4s 12ms/step - loss: 0.9302 - price_loss: 0.8438 - type_loss: 1.0166 - price_sparse_categorical_accuracy: 0.6203 - type_sparse_categorical_accuracy: 0.7560 - val_loss: 0.8973 - val_price_loss: 0.8327 - val_type_loss: 0.9618 - val_price_sparse_categorical_accuracy: 0.6234 - val_type_sparse_categorical_accuracy: 0.7690\n",
            "Epoch 3/20\n",
            "366/366 [==============================] - 4s 12ms/step - loss: 0.9279 - price_loss: 0.8418 - type_loss: 1.0139 - price_sparse_categorical_accuracy: 0.6203 - type_sparse_categorical_accuracy: 0.7560 - val_loss: 0.8979 - val_price_loss: 0.8345 - val_type_loss: 0.9612 - val_price_sparse_categorical_accuracy: 0.6234 - val_type_sparse_categorical_accuracy: 0.7690\n",
            "Epoch 4/20\n",
            "366/366 [==============================] - 4s 12ms/step - loss: 0.9275 - price_loss: 0.8411 - type_loss: 1.0138 - price_sparse_categorical_accuracy: 0.6203 - type_sparse_categorical_accuracy: 0.7560 - val_loss: 0.8995 - val_price_loss: 0.8352 - val_type_loss: 0.9638 - val_price_sparse_categorical_accuracy: 0.6234 - val_type_sparse_categorical_accuracy: 0.7690\n",
            "Epoch 5/20\n",
            "366/366 [==============================] - 4s 12ms/step - loss: 0.9278 - price_loss: 0.8415 - type_loss: 1.0142 - price_sparse_categorical_accuracy: 0.6203 - type_sparse_categorical_accuracy: 0.7560 - val_loss: 0.8955 - val_price_loss: 0.8302 - val_type_loss: 0.9608 - val_price_sparse_categorical_accuracy: 0.6234 - val_type_sparse_categorical_accuracy: 0.7690\n",
            "Epoch 6/20\n",
            "366/366 [==============================] - 4s 12ms/step - loss: 0.9277 - price_loss: 0.8422 - type_loss: 1.0131 - price_sparse_categorical_accuracy: 0.6203 - type_sparse_categorical_accuracy: 0.7560 - val_loss: 0.8984 - val_price_loss: 0.8330 - val_type_loss: 0.9639 - val_price_sparse_categorical_accuracy: 0.6234 - val_type_sparse_categorical_accuracy: 0.7690\n",
            "Epoch 7/20\n",
            "366/366 [==============================] - 5s 14ms/step - loss: 0.9279 - price_loss: 0.8416 - type_loss: 1.0141 - price_sparse_categorical_accuracy: 0.6203 - type_sparse_categorical_accuracy: 0.7559 - val_loss: 0.8956 - val_price_loss: 0.8304 - val_type_loss: 0.9609 - val_price_sparse_categorical_accuracy: 0.6234 - val_type_sparse_categorical_accuracy: 0.7690\n",
            "Epoch 8/20\n",
            "366/366 [==============================] - 8s 21ms/step - loss: 0.9260 - price_loss: 0.8395 - type_loss: 1.0124 - price_sparse_categorical_accuracy: 0.6203 - type_sparse_categorical_accuracy: 0.7560 - val_loss: 0.8962 - val_price_loss: 0.8301 - val_type_loss: 0.9622 - val_price_sparse_categorical_accuracy: 0.6234 - val_type_sparse_categorical_accuracy: 0.7690\n",
            "Epoch 9/20\n",
            "366/366 [==============================] - 5s 15ms/step - loss: 0.9264 - price_loss: 0.8388 - type_loss: 1.0140 - price_sparse_categorical_accuracy: 0.6203 - type_sparse_categorical_accuracy: 0.7560 - val_loss: 0.8964 - val_price_loss: 0.8314 - val_type_loss: 0.9614 - val_price_sparse_categorical_accuracy: 0.6234 - val_type_sparse_categorical_accuracy: 0.7690\n",
            "Epoch 10/20\n",
            "366/366 [==============================] - 4s 12ms/step - loss: 0.9263 - price_loss: 0.8401 - type_loss: 1.0125 - price_sparse_categorical_accuracy: 0.6203 - type_sparse_categorical_accuracy: 0.7560 - val_loss: 0.8988 - val_price_loss: 0.8349 - val_type_loss: 0.9626 - val_price_sparse_categorical_accuracy: 0.6234 - val_type_sparse_categorical_accuracy: 0.7690\n",
            "Epoch 11/20\n",
            "366/366 [==============================] - 4s 12ms/step - loss: 0.9262 - price_loss: 0.8398 - type_loss: 1.0127 - price_sparse_categorical_accuracy: 0.6201 - type_sparse_categorical_accuracy: 0.7560 - val_loss: 0.8967 - val_price_loss: 0.8325 - val_type_loss: 0.9608 - val_price_sparse_categorical_accuracy: 0.6234 - val_type_sparse_categorical_accuracy: 0.7690\n",
            "Epoch 12/20\n",
            "366/366 [==============================] - 4s 12ms/step - loss: 0.9252 - price_loss: 0.8392 - type_loss: 1.0111 - price_sparse_categorical_accuracy: 0.6204 - type_sparse_categorical_accuracy: 0.7560 - val_loss: 0.8956 - val_price_loss: 0.8301 - val_type_loss: 0.9612 - val_price_sparse_categorical_accuracy: 0.6234 - val_type_sparse_categorical_accuracy: 0.7690\n",
            "Epoch 13/20\n",
            "366/366 [==============================] - 4s 12ms/step - loss: 0.9248 - price_loss: 0.8389 - type_loss: 1.0108 - price_sparse_categorical_accuracy: 0.6204 - type_sparse_categorical_accuracy: 0.7562 - val_loss: 0.9001 - val_price_loss: 0.8315 - val_type_loss: 0.9687 - val_price_sparse_categorical_accuracy: 0.6234 - val_type_sparse_categorical_accuracy: 0.7690\n",
            "Epoch 14/20\n",
            "366/366 [==============================] - 4s 12ms/step - loss: 0.9257 - price_loss: 0.8395 - type_loss: 1.0118 - price_sparse_categorical_accuracy: 0.6204 - type_sparse_categorical_accuracy: 0.7564 - val_loss: 0.8986 - val_price_loss: 0.8362 - val_type_loss: 0.9611 - val_price_sparse_categorical_accuracy: 0.6234 - val_type_sparse_categorical_accuracy: 0.7690\n",
            "Epoch 15/20\n",
            "366/366 [==============================] - 4s 12ms/step - loss: 0.9246 - price_loss: 0.8390 - type_loss: 1.0102 - price_sparse_categorical_accuracy: 0.6204 - type_sparse_categorical_accuracy: 0.7562 - val_loss: 0.8995 - val_price_loss: 0.8331 - val_type_loss: 0.9658 - val_price_sparse_categorical_accuracy: 0.6234 - val_type_sparse_categorical_accuracy: 0.7690\n",
            "Epoch 16/20\n",
            "366/366 [==============================] - 4s 12ms/step - loss: 0.9250 - price_loss: 0.8389 - type_loss: 1.0111 - price_sparse_categorical_accuracy: 0.6203 - type_sparse_categorical_accuracy: 0.7560 - val_loss: 0.8966 - val_price_loss: 0.8315 - val_type_loss: 0.9616 - val_price_sparse_categorical_accuracy: 0.6234 - val_type_sparse_categorical_accuracy: 0.7690\n",
            "Epoch 17/20\n",
            "366/366 [==============================] - 5s 12ms/step - loss: 0.9170 - price_loss: 0.8298 - type_loss: 1.0043 - price_sparse_categorical_accuracy: 0.6199 - type_sparse_categorical_accuracy: 0.7547 - val_loss: 0.8933 - val_price_loss: 0.8247 - val_type_loss: 0.9620 - val_price_sparse_categorical_accuracy: 0.6268 - val_type_sparse_categorical_accuracy: 0.7690\n",
            "Epoch 18/20\n",
            "366/366 [==============================] - 4s 12ms/step - loss: 0.8871 - price_loss: 0.8096 - type_loss: 0.9646 - price_sparse_categorical_accuracy: 0.6324 - type_sparse_categorical_accuracy: 0.7564 - val_loss: 0.8504 - val_price_loss: 0.7776 - val_type_loss: 0.9233 - val_price_sparse_categorical_accuracy: 0.6350 - val_type_sparse_categorical_accuracy: 0.7683\n",
            "Epoch 19/20\n",
            "366/366 [==============================] - 5s 12ms/step - loss: 0.8443 - price_loss: 0.7698 - type_loss: 0.9188 - price_sparse_categorical_accuracy: 0.6468 - type_sparse_categorical_accuracy: 0.7564 - val_loss: 0.8346 - val_price_loss: 0.7639 - val_type_loss: 0.9053 - val_price_sparse_categorical_accuracy: 0.6364 - val_type_sparse_categorical_accuracy: 0.7683\n",
            "Epoch 20/20\n",
            "366/366 [==============================] - 4s 12ms/step - loss: 0.8117 - price_loss: 0.7393 - type_loss: 0.8841 - price_sparse_categorical_accuracy: 0.6511 - type_sparse_categorical_accuracy: 0.7586 - val_loss: 0.8305 - val_price_loss: 0.7596 - val_type_loss: 0.9014 - val_price_sparse_categorical_accuracy: 0.6357 - val_type_sparse_categorical_accuracy: 0.7621\n"
          ]
        }
      ],
      "source": [
        "# fit the model it takes\n",
        "# inputs: summary, and image\n",
        "# outputs: type, and price\n",
        "history = model.fit(\n",
        "    x={\n",
        "        'summary': x_train_text_id,\n",
        "        'image': x_train_image\n",
        "    },\n",
        "    y={\n",
        "        'type': y_train_type,\n",
        "        'price': y_train_price,\n",
        "    },\n",
        "    epochs=20,\n",
        "    batch_size=16,\n",
        "    validation_split=0.2,\n",
        "    callbacks=[\n",
        "        tf.keras.callbacks.EarlyStopping(monitor='val_price_loss', patience=5, ) # If val_price_loss is raised 5 times, the fit will be stopped.\n",
        "    ],\n",
        "    verbose=1\n",
        ")"
      ]
    },
    {
      "cell_type": "code",
      "source": [
        "# we can do prediction on testing set\n",
        "y_predict = model.predict(\n",
        "    {\n",
        "        'summary': x_test_text,\n",
        "        'image': x_test_image\n",
        "    }\n",
        ")\n",
        "\n",
        "\n",
        "# probabilities\n",
        "price_predicted = y_predict['price']\n",
        "print(price_predicted)\n",
        "\n",
        "# categories\n",
        "price_category_predicted = np.argmax(price_predicted, axis=1) # argmax used to convert prob. predict to predict\n",
        "print(price_category_predicted)\n"
      ],
      "metadata": {
        "colab": {
          "base_uri": "https://localhost:8080/"
        },
        "outputId": "4847103e-647b-4a62-d748-88a4b03b23dc",
        "id": "cNkwlAWfJ9Mi"
      },
      "execution_count": null,
      "outputs": [
        {
          "output_type": "stream",
          "name": "stdout",
          "text": [
            "[[0.3513928  0.5467548  0.10185243]\n",
            " [0.83175594 0.15215978 0.01608429]\n",
            " [0.48723155 0.455161   0.0576074 ]\n",
            " ...\n",
            " [0.8229355  0.16006584 0.01699863]\n",
            " [0.80014783 0.18042235 0.0194298 ]\n",
            " [0.67538226 0.29080954 0.03380821]]\n",
            "[1 0 0 ... 0 0 0]\n"
          ]
        }
      ]
    },
    {
      "cell_type": "markdown",
      "source": [
        "#### Display model"
      ],
      "metadata": {
        "id": "_08_xUA8J9Mi"
      }
    },
    {
      "cell_type": "code",
      "source": [
        "# figure is used to create a new figure.\n",
        "plt.figure(figsize=(15, 8))\n",
        "plt.subplot(1, 2, 1)\n",
        "plt.plot(history.history['price_sparse_categorical_accuracy'])\n",
        "plt.plot(history.history['val_price_sparse_categorical_accuracy'])\n",
        "plt.title('Price accuracy') # graph title\n",
        "plt.ylabel('accuracy') # y axis lable\n",
        "plt.xlabel('epoch') # x axis lable\n",
        "plt.legend(['train', 'validation'], loc='upper left') # legend is an area describing the elements of the graph\n",
        "plt.show()\n",
        "plt.grid(True) # grid is the axis object's method toggles the visibility of the grid inside the figure.\n",
        "plt.subplot(1, 2, 1)\n",
        "plt.plot(history.history['price_loss'])\n",
        "plt.plot(history.history['val_price_loss'])\n",
        "plt.title('model loss')  # graph title\n",
        "plt.ylabel('loss') # y axis lable\n",
        "plt.xlabel('epoch')# x axis lable\n",
        "plt.legend(['train', 'validation'], loc='upper left')\n",
        "plt.show()"
      ],
      "metadata": {
        "colab": {
          "base_uri": "https://localhost:8080/",
          "height": 791
        },
        "outputId": "63989478-98b2-4cc3-c79d-a26c51086cbd",
        "id": "6iCGG4GSJ9Mi"
      },
      "execution_count": null,
      "outputs": [
        {
          "output_type": "display_data",
          "data": {
            "text/plain": [
              "<Figure size 1080x576 with 1 Axes>"
            ],
            "image/png": "[encoded data removed]"
          },
          "metadata": {
            "needs_background": "light"
          }
        },
        {
          "output_type": "display_data",
          "data": {
            "text/plain": [
              "<Figure size 432x288 with 1 Axes>"
            ],
            "image/png": "[encoded data removed]"
          },
          "metadata": {
            "needs_background": "light"
          }
        }
      ]
    },
    {
      "cell_type": "code",
      "execution_count": null,
      "metadata": {
        "id": "bh4jkpmyJ9Mi"
      },
      "outputs": [],
      "source": [
        "#  (if for kaggle competition and it is about genre prediction)\n",
        "pd.DataFrame(\n",
        "    {'id': data_ts.id,\n",
        "     'price': price_category_predicted}\n",
        ").to_csv('/content/drive/MyDrive/Queens_Practical/Data_Mining/compt4/submission.csv', index=False)"
      ]
    },
    {
      "cell_type": "markdown",
      "metadata": {
        "id": "DF1M_0N3J9Mi"
      },
      "source": [
        "#### Result"
      ]
    },
    {
      "cell_type": "markdown",
      "metadata": {
        "id": "bjLTgpwwJ9Mi"
      },
      "source": [
        "Accuracy in **kaggle** =0.62201 The result was as I expected.\\\n",
        "From the diagram, there is a big over-fitting but less than GRU, so I will try in the next trials to reduce the over-fitting by using droupout and regularization.\\\n",
        "I tried different values in units but they gave me less accuracy, so I used 80 units."
      ]
    },
    {
      "cell_type": "markdown",
      "metadata": {
        "id": "91k8iLooMedX"
      },
      "source": [
        "### **Trial 3**"
      ]
    },
    {
      "cell_type": "markdown",
      "metadata": {
        "id": "1h1pdHeqMedp"
      },
      "source": [
        "* In this trial I will use:\n",
        " * Text part    \n",
        "   * Embedding layer that allows us to convert each word into a fixed-length vector\n",
        "   * **GRU layer** with **BiDirectional layer** Bidirectional that connect 2 hidden layers of opposite directions to the same output. It is used **90 units** and activation **tanh activation** function.\n",
        "   * **Dropout** = 30% to reduce overfitting.\n",
        " * Image part\n",
        "    * **Convolutional** layer with **32** filters, and a **16*16** mask, no padding\n",
        "    * **Max pooling** with a **16*16** mask\n",
        "    * **Flatten** layer\n",
        " * Multi-task learning\n",
        " * Multi-modality learning\n",
        "\n",
        "\n",
        "**My thoughts and observations :** The accuracy would be between 0.64375 and 0.0.65000. It will be better than previous trials(1, and 2) as i will use both GRU and BiDirectional layer"
      ]
    },
    {
      "cell_type": "markdown",
      "metadata": {
        "id": "_7g90ZLlMedp"
      },
      "source": [
        "#### Model"
      ]
    },
    {
      "cell_type": "code",
      "execution_count": null,
      "metadata": {
        "colab": {
          "base_uri": "https://localhost:8080/"
        },
        "outputId": "ffdb309c-a69c-461a-d6a3-854da3c03268",
        "id": "8MgFnJO9Medq"
      },
      "outputs": [
        {
          "output_type": "stream",
          "name": "stdout",
          "text": [
            "Model: \"model\"\n",
            "__________________________________________________________________________________________________\n",
            " Layer (type)                   Output Shape         Param #     Connected to                     \n",
            "==================================================================================================\n",
            " input_1 (InputLayer)           [(None, 100)]        0           []                               \n",
            "                                                                                                  \n",
            " input_2 (InputLayer)           [(None, 64, 64, 2)]  0           []                               \n",
            "                                                                                                  \n",
            " embedding (Embedding)          (None, 100, 100)     4000000     ['input_1[0][0]']                \n",
            "                                                                                                  \n",
            " conv2d (Conv2D)                (None, 49, 49, 32)   16416       ['input_2[0][0]']                \n",
            "                                                                                                  \n",
            " bidirectional (Bidirectional)  (None, 180)          103680      ['embedding[0][0]']              \n",
            "                                                                                                  \n",
            " max_pooling2d (MaxPooling2D)   (None, 3, 3, 32)     0           ['conv2d[0][0]']                 \n",
            "                                                                                                  \n",
            " dropout (Dropout)              (None, 180)          0           ['bidirectional[0][0]']          \n",
            "                                                                                                  \n",
            " flatten (Flatten)              (None, 288)          0           ['max_pooling2d[0][0]']          \n",
            "                                                                                                  \n",
            " tf.concat (TFOpLambda)         (None, 468)          0           ['dropout[0][0]',                \n",
            "                                                                  'flatten[0][0]']                \n",
            "                                                                                                  \n",
            " price (Dense)                  (None, 3)            1407        ['tf.concat[0][0]']              \n",
            "                                                                                                  \n",
            " type (Dense)                   (None, 24)           11256       ['tf.concat[0][0]']              \n",
            "                                                                                                  \n",
            "==================================================================================================\n",
            "Total params: 4,132,759\n",
            "Trainable params: 4,132,759\n",
            "Non-trainable params: 0\n",
            "__________________________________________________________________________________________________\n"
          ]
        }
      ],
      "source": [
        "# Two inputs, one for image and the other for text.\n",
        "in_text = keras.Input(batch_shape=(None, max_len))\n",
        "in_image = keras.Input(batch_shape=(None, 64, 64, 2))\n",
        "\n",
        "# text part\n",
        "embedded = keras.layers.Embedding(tokenizer.num_words, 100)(in_text)# embedding requires to encoded input data to integer encoded, so that each word is represented by a unique integer\n",
        "gru= Bidirectional(GRU(90, activation='tanh'))(embedded)\n",
        "gru= Dropout(0.3)(gru)\n",
        "\n",
        "\n",
        "# image part \n",
        "# Conv2D is a two-dimensional convolution layer that generates a tensor of outputs by winding a convolution kernel with the layers input\n",
        "# MaxPool2D used to reduces the dimensionality of images that is  by reducing the number of pixels in the output from the previous convolutional layer.\n",
        "cov = Conv2D(32, (16, 16))(in_image)# convolutional layer with 32 filters, and a 16*16 mask, no padding\n",
        "pl = MaxPool2D((16, 16))(cov)# max pooling with a 16*16 mask\n",
        "flattened = Flatten()(pl) # flatten the shape to (288,)\n",
        "\n",
        "# fusion - combinig both the text and the image\n",
        "fused = tf.concat([gru, flattened], axis=-1)\n",
        "\n",
        "# multi-task learning (each is a multi-class classification)\n",
        "# one dense layer for each task(type and price)\n",
        "p_type = Dense(len_type, activation='softmax', name='type')(fused)\n",
        "p_price = Dense(len_price, activation='softmax', name='price')(fused)\n",
        "\n",
        "\n",
        "# define model input/output using keys.\n",
        "model = keras.Model(\n",
        "    inputs={\n",
        "        'summary': in_text,\n",
        "        'image': in_image\n",
        "    },\n",
        "    outputs={\n",
        "        'type': p_type,\n",
        "        'price': p_price,\n",
        "    },\n",
        ")\n",
        "\n",
        "\n",
        "# compile model with optimizer, loss values for each task, loss \n",
        "# weights for each task.\n",
        "model.compile(\n",
        "    optimizer=Adam(),\n",
        "    loss={\n",
        "        'type': 'sparse_categorical_crossentropy',\n",
        "        'price': 'sparse_categorical_crossentropy',\n",
        "    },\n",
        "    loss_weights={\n",
        "        'type': 0.5,\n",
        "        'price': 0.5,       \n",
        "    },\n",
        "    metrics={\n",
        "        'type': ['SparseCategoricalAccuracy'],\n",
        "        'price': ['SparseCategoricalAccuracy'],\n",
        "    },\n",
        ")\n",
        "\n",
        "\n",
        "model.summary()"
      ]
    },
    {
      "cell_type": "code",
      "execution_count": null,
      "metadata": {
        "colab": {
          "base_uri": "https://localhost:8080/"
        },
        "outputId": "ec0660fc-867d-4104-85dc-26be5f7a9e45",
        "id": "vXCG5HajMedq"
      },
      "outputs": [
        {
          "output_type": "stream",
          "name": "stdout",
          "text": [
            "Epoch 1/20\n",
            "366/366 [==============================] - 41s 73ms/step - loss: 0.9397 - price_loss: 0.8298 - type_loss: 1.0497 - price_sparse_categorical_accuracy: 0.6187 - type_sparse_categorical_accuracy: 0.7564 - val_loss: 0.7959 - val_price_loss: 0.7362 - val_type_loss: 0.8556 - val_price_sparse_categorical_accuracy: 0.6664 - val_type_sparse_categorical_accuracy: 0.7710\n",
            "Epoch 2/20\n",
            "366/366 [==============================] - 24s 65ms/step - loss: 0.7661 - price_loss: 0.7306 - type_loss: 0.8016 - price_sparse_categorical_accuracy: 0.6717 - type_sparse_categorical_accuracy: 0.7764 - val_loss: 0.7610 - val_price_loss: 0.7191 - val_type_loss: 0.8029 - val_price_sparse_categorical_accuracy: 0.6794 - val_type_sparse_categorical_accuracy: 0.7833\n",
            "Epoch 3/20\n",
            "366/366 [==============================] - 26s 72ms/step - loss: 0.6787 - price_loss: 0.6598 - type_loss: 0.6976 - price_sparse_categorical_accuracy: 0.7136 - type_sparse_categorical_accuracy: 0.7998 - val_loss: 0.7669 - val_price_loss: 0.7362 - val_type_loss: 0.7976 - val_price_sparse_categorical_accuracy: 0.6664 - val_type_sparse_categorical_accuracy: 0.7847\n",
            "Epoch 4/20\n",
            "366/366 [==============================] - 24s 65ms/step - loss: 0.5954 - price_loss: 0.5956 - type_loss: 0.5951 - price_sparse_categorical_accuracy: 0.7531 - type_sparse_categorical_accuracy: 0.8287 - val_loss: 0.7922 - val_price_loss: 0.7622 - val_type_loss: 0.8222 - val_price_sparse_categorical_accuracy: 0.6760 - val_type_sparse_categorical_accuracy: 0.7820\n",
            "Epoch 5/20\n",
            "366/366 [==============================] - 23s 63ms/step - loss: 0.5261 - price_loss: 0.5416 - type_loss: 0.5106 - price_sparse_categorical_accuracy: 0.7829 - type_sparse_categorical_accuracy: 0.8521 - val_loss: 0.8028 - val_price_loss: 0.7718 - val_type_loss: 0.8338 - val_price_sparse_categorical_accuracy: 0.6644 - val_type_sparse_categorical_accuracy: 0.7765\n",
            "Epoch 6/20\n",
            "366/366 [==============================] - 23s 63ms/step - loss: 0.4577 - price_loss: 0.4774 - type_loss: 0.4380 - price_sparse_categorical_accuracy: 0.8089 - type_sparse_categorical_accuracy: 0.8745 - val_loss: 0.9259 - val_price_loss: 0.9213 - val_type_loss: 0.9304 - val_price_sparse_categorical_accuracy: 0.6746 - val_type_sparse_categorical_accuracy: 0.7738\n",
            "Epoch 7/20\n",
            "366/366 [==============================] - 23s 63ms/step - loss: 0.4046 - price_loss: 0.4297 - type_loss: 0.3794 - price_sparse_categorical_accuracy: 0.8314 - type_sparse_categorical_accuracy: 0.8911 - val_loss: 0.9487 - val_price_loss: 0.9468 - val_type_loss: 0.9506 - val_price_sparse_categorical_accuracy: 0.6411 - val_type_sparse_categorical_accuracy: 0.7779\n"
          ]
        }
      ],
      "source": [
        "# fit the model it takes\n",
        "# inputs: summary, and image\n",
        "# outputs: type, and price\n",
        "history = model.fit(\n",
        "    x={\n",
        "        'summary': x_train_text_id,\n",
        "        'image': x_train_image\n",
        "    },\n",
        "    y={\n",
        "        'type': y_train_type,\n",
        "        'price': y_train_price,\n",
        "    },\n",
        "    epochs=20,\n",
        "    batch_size=16,\n",
        "    validation_split=0.2,\n",
        "    callbacks=[\n",
        "        tf.keras.callbacks.EarlyStopping(monitor='val_price_loss', patience=5, ) # If val_price_loss is raised 5 times, the fit will be stopped.\n",
        "    ],\n",
        "    verbose=1\n",
        ")"
      ]
    },
    {
      "cell_type": "code",
      "source": [
        "# we can do prediction on testing set\n",
        "y_predict = model.predict(\n",
        "    {\n",
        "        'summary': x_test_text,\n",
        "        'image': x_test_image\n",
        "    }\n",
        ")\n",
        "\n",
        "\n",
        "# probabilities\n",
        "price_predicted = y_predict['price']\n",
        "print(price_predicted)\n",
        "\n",
        "# categories\n",
        "price_category_predicted = np.argmax(price_predicted, axis=1) # argmax used to convert prob. predict to predict\n",
        "print(price_category_predicted)\n"
      ],
      "metadata": {
        "colab": {
          "base_uri": "https://localhost:8080/"
        },
        "outputId": "f5f6eb2c-c9ea-4150-bd17-a4d9a3a87084",
        "id": "YgLk-esbMedr"
      },
      "execution_count": null,
      "outputs": [
        {
          "output_type": "stream",
          "name": "stdout",
          "text": [
            "[[2.9760212e-01 4.8600954e-01 2.1638831e-01]\n",
            " [9.9659556e-01 3.2409441e-03 1.6341911e-04]\n",
            " [9.8969275e-01 9.3486663e-03 9.5863122e-04]\n",
            " ...\n",
            " [3.8605195e-01 5.5135822e-01 6.2589809e-02]\n",
            " [9.9580258e-01 3.6989360e-03 4.9847347e-04]\n",
            " [4.2310181e-01 5.3425086e-01 4.2647295e-02]]\n",
            "[1 0 0 ... 1 0 1]\n"
          ]
        }
      ]
    },
    {
      "cell_type": "markdown",
      "source": [
        "#### Display model"
      ],
      "metadata": {
        "id": "gyS2GnOtMedr"
      }
    },
    {
      "cell_type": "code",
      "source": [
        "# figure is used to create a new figure.\n",
        "plt.figure(figsize=(15, 8))\n",
        "plt.subplot(1, 2, 1)\n",
        "plt.plot(history.history['price_sparse_categorical_accuracy'])\n",
        "plt.plot(history.history['val_price_sparse_categorical_accuracy'])\n",
        "plt.title('Price accuracy') # graph title\n",
        "plt.ylabel('accuracy') # y axis lable\n",
        "plt.xlabel('epoch') # x axis lable\n",
        "plt.legend(['train', 'validation'], loc='upper left') # legend is an area describing the elements of the graph\n",
        "plt.show()\n",
        "plt.grid(True) # grid is the axis object's method toggles the visibility of the grid inside the figure.\n",
        "plt.subplot(1, 2, 1)\n",
        "plt.plot(history.history['price_loss'])\n",
        "plt.plot(history.history['val_price_loss'])\n",
        "plt.title('model loss')  # graph title\n",
        "plt.ylabel('loss') # y axis lable\n",
        "plt.xlabel('epoch')# x axis lable\n",
        "plt.legend(['train', 'validation'], loc='upper left')\n",
        "plt.show()"
      ],
      "metadata": {
        "colab": {
          "base_uri": "https://localhost:8080/",
          "height": 791
        },
        "outputId": "0fa4ab47-bf59-4ccf-ed22-5ff5c8391359",
        "id": "O7Z2yx94Meds"
      },
      "execution_count": null,
      "outputs": [
        {
          "output_type": "display_data",
          "data": {
            "text/plain": [
              "<Figure size 1080x576 with 1 Axes>"
            ],
            "image/png": "[encoded data removed]"
          },
          "metadata": {
            "needs_background": "light"
          }
        },
        {
          "output_type": "display_data",
          "data": {
            "text/plain": [
              "<Figure size 432x288 with 1 Axes>"
            ],
            "image/png": "[encoded data removed]"
          },
          "metadata": {
            "needs_background": "light"
          }
        }
      ]
    },
    {
      "cell_type": "code",
      "execution_count": null,
      "metadata": {
        "id": "5VDJdfvyMeds"
      },
      "outputs": [],
      "source": [
        "#  (if for kaggle competition and it is about genre prediction)\n",
        "pd.DataFrame(\n",
        "    {'id': data_ts.id,\n",
        "     'price': price_category_predicted}\n",
        ").to_csv('/content/drive/MyDrive/Queens_Practical/Data_Mining/compt4/submission.csv', index=False)"
      ]
    },
    {
      "cell_type": "markdown",
      "metadata": {
        "id": "o8YTA0-9Meds"
      },
      "source": [
        "#### Result"
      ]
    },
    {
      "cell_type": "markdown",
      "metadata": {
        "id": "Mq7jp-VPMeds"
      },
      "source": [
        "Accuracy in **kaggle** =0.66086 with 90 units and dropout rate = 0.3\\\n",
        "In the prevois trials, there was a lot of overfitting, so in this trial I used dropout to reduce this overfitting, and the overfitting reduced.\\\n",
        "I tried different values in rate but they gave me less accuracy."
      ]
    },
    {
      "cell_type": "markdown",
      "metadata": {
        "id": "GIbR7myqRXK4"
      },
      "source": [
        "### **Trial 4**"
      ]
    },
    {
      "cell_type": "markdown",
      "metadata": {
        "id": "fPhx8cSXRXLA"
      },
      "source": [
        "* In this trial I will use:\n",
        " * Text part    \n",
        "   * Embedding layer that allows us to convert each word into a fixed-length vector\n",
        "   * **Average** layer\n",
        " * Image part\n",
        "    * **Convolutional** layer with **32** filters, and a **16*16** mask, no padding\n",
        "   * **Dropout** = 30% to reduce overfitting.\n",
        "    * **Max pooling** with a **16*16** mask\n",
        "    * **Flatten** layer\n",
        " * Multi-task learning\n",
        " * Multi-modality learning\n",
        "\n",
        "**My thoughts and observations :** The accuracy would be between 0.66000 and 0.67000 as I will try to reduce overfitting in the previous trial so the accuracy will be increase."
      ]
    },
    {
      "cell_type": "markdown",
      "metadata": {
        "id": "CotN0l3gRXLB"
      },
      "source": [
        "#### Model"
      ]
    },
    {
      "cell_type": "code",
      "execution_count": null,
      "metadata": {
        "colab": {
          "base_uri": "https://localhost:8080/"
        },
        "outputId": "8e86334f-2d79-4e0b-b08f-975b7af37004",
        "id": "VfdAtRmERXLB"
      },
      "outputs": [
        {
          "output_type": "stream",
          "name": "stdout",
          "text": [
            "Model: \"model_1\"\n",
            "__________________________________________________________________________________________________\n",
            " Layer (type)                   Output Shape         Param #     Connected to                     \n",
            "==================================================================================================\n",
            " input_4 (InputLayer)           [(None, 64, 64, 2)]  0           []                               \n",
            "                                                                                                  \n",
            " conv2d_1 (Conv2D)              (None, 49, 49, 32)   16416       ['input_4[0][0]']                \n",
            "                                                                                                  \n",
            " input_3 (InputLayer)           [(None, 100)]        0           []                               \n",
            "                                                                                                  \n",
            " dropout_1 (Dropout)            (None, 49, 49, 32)   0           ['conv2d_1[0][0]']               \n",
            "                                                                                                  \n",
            " embedding_1 (Embedding)        (None, 100, 100)     4000000     ['input_3[0][0]']                \n",
            "                                                                                                  \n",
            " max_pooling2d_1 (MaxPooling2D)  (None, 3, 3, 32)    0           ['dropout_1[0][0]']              \n",
            "                                                                                                  \n",
            " tf.math.reduce_mean (TFOpLambd  (None, 100)         0           ['embedding_1[0][0]']            \n",
            " a)                                                                                               \n",
            "                                                                                                  \n",
            " flatten_1 (Flatten)            (None, 288)          0           ['max_pooling2d_1[0][0]']        \n",
            "                                                                                                  \n",
            " tf.concat_1 (TFOpLambda)       (None, 388)          0           ['tf.math.reduce_mean[0][0]',    \n",
            "                                                                  'flatten_1[0][0]']              \n",
            "                                                                                                  \n",
            " price (Dense)                  (None, 3)            1167        ['tf.concat_1[0][0]']            \n",
            "                                                                                                  \n",
            " type (Dense)                   (None, 24)           9336        ['tf.concat_1[0][0]']            \n",
            "                                                                                                  \n",
            "==================================================================================================\n",
            "Total params: 4,026,919\n",
            "Trainable params: 4,026,919\n",
            "Non-trainable params: 0\n",
            "__________________________________________________________________________________________________\n"
          ]
        }
      ],
      "source": [
        "# Two inputs, one for image and the other for text.\n",
        "in_text = keras.Input(batch_shape=(None, max_len))\n",
        "in_image = keras.Input(batch_shape=(None, 64, 64, 2))\n",
        "\n",
        "# text part\n",
        "embedded = keras.layers.Embedding(tokenizer.num_words, 100)(in_text)# embedding requires to encoded input data to integer encoded, so that each word is represented by a unique integer\n",
        "averaged = tf.reduce_mean(embedded, axis=1)  # reduce_mean that compute the mean value of embeddded\n",
        "\n",
        "\n",
        "# image part \n",
        "# Conv2D is a two-dimensional convolution layer that generates a tensor of outputs by winding a convolution kernel with the layers input\n",
        "# MaxPool2D used to reduces the dimensionality of images that is  by reducing the number of pixels in the output from the previous convolutional layer.\n",
        "cov = Conv2D(32, (16, 16))(in_image)  # convolutional layer with 32 filters, and a 16*16 mask, no padding\n",
        "drop_img=Dropout(0.3)(cov) # 30% dropout\n",
        "pl = MaxPool2D((16, 16))(drop_img)  # max pooling with a 16*16 mask\n",
        "flattened = Flatten()(pl) # flatten the shape to (288,)\n",
        "\n",
        "# fusion - combinig both the text and the image\n",
        "fused = tf.concat([averaged, flattened], axis=-1)\n",
        "\n",
        "# multi-task learning (each is a multi-class classification)\n",
        "# one dense layer for each task(type and price)\n",
        "p_type = Dense(len_type, activation='softmax', name='type')(fused)\n",
        "p_price = Dense(len_price, activation='softmax', name='price')(fused)\n",
        "\n",
        "\n",
        "# define model input/output using keys.\n",
        "model = keras.Model(\n",
        "    inputs={\n",
        "        'summary': in_text,\n",
        "        'image': in_image\n",
        "    },\n",
        "    outputs={\n",
        "        'type': p_type,\n",
        "        'price': p_price,\n",
        "    },\n",
        ")\n",
        "\n",
        "\n",
        "# compile model with optimizer, loss values for each task, loss \n",
        "# weights for each task.\n",
        "model.compile(\n",
        "    optimizer=Adam(),\n",
        "    loss={\n",
        "        'type': 'sparse_categorical_crossentropy',\n",
        "        'price': 'sparse_categorical_crossentropy',\n",
        "    },\n",
        "    loss_weights={\n",
        "        'type': 0.5,\n",
        "        'price': 0.5,       \n",
        "    },\n",
        "    metrics={\n",
        "        'type': ['SparseCategoricalAccuracy'],\n",
        "        'price': ['SparseCategoricalAccuracy'],\n",
        "    },\n",
        ")\n",
        "\n",
        "\n",
        "model.summary()"
      ]
    },
    {
      "cell_type": "code",
      "execution_count": null,
      "metadata": {
        "colab": {
          "base_uri": "https://localhost:8080/"
        },
        "outputId": "976471fb-7690-4f46-cf1e-80a47803f628",
        "id": "upFzW28xRXLB"
      },
      "outputs": [
        {
          "output_type": "stream",
          "name": "stdout",
          "text": [
            "Epoch 1/20\n",
            "366/366 [==============================] - 6s 15ms/step - loss: 1.0712 - price_loss: 0.8533 - type_loss: 1.2892 - price_sparse_categorical_accuracy: 0.6172 - type_sparse_categorical_accuracy: 0.7512 - val_loss: 0.9103 - val_price_loss: 0.8228 - val_type_loss: 0.9979 - val_price_sparse_categorical_accuracy: 0.6234 - val_type_sparse_categorical_accuracy: 0.7690\n",
            "Epoch 2/20\n",
            "366/366 [==============================] - 5s 14ms/step - loss: 0.8995 - price_loss: 0.8152 - type_loss: 0.9838 - price_sparse_categorical_accuracy: 0.6198 - type_sparse_categorical_accuracy: 0.7560 - val_loss: 0.8749 - val_price_loss: 0.7941 - val_type_loss: 0.9557 - val_price_sparse_categorical_accuracy: 0.6241 - val_type_sparse_categorical_accuracy: 0.7690\n",
            "Epoch 3/20\n",
            "366/366 [==============================] - 5s 13ms/step - loss: 0.8639 - price_loss: 0.7779 - type_loss: 0.9500 - price_sparse_categorical_accuracy: 0.6451 - type_sparse_categorical_accuracy: 0.7560 - val_loss: 0.8448 - val_price_loss: 0.7669 - val_type_loss: 0.9226 - val_price_sparse_categorical_accuracy: 0.6582 - val_type_sparse_categorical_accuracy: 0.7690\n",
            "Epoch 4/20\n",
            "366/366 [==============================] - 5s 14ms/step - loss: 0.8210 - price_loss: 0.7350 - type_loss: 0.9070 - price_sparse_categorical_accuracy: 0.6731 - type_sparse_categorical_accuracy: 0.7565 - val_loss: 0.8111 - val_price_loss: 0.7344 - val_type_loss: 0.8878 - val_price_sparse_categorical_accuracy: 0.6678 - val_type_sparse_categorical_accuracy: 0.7703\n",
            "Epoch 5/20\n",
            "366/366 [==============================] - 5s 13ms/step - loss: 0.7798 - price_loss: 0.6981 - type_loss: 0.8615 - price_sparse_categorical_accuracy: 0.6907 - type_sparse_categorical_accuracy: 0.7593 - val_loss: 0.7902 - val_price_loss: 0.7151 - val_type_loss: 0.8653 - val_price_sparse_categorical_accuracy: 0.6781 - val_type_sparse_categorical_accuracy: 0.7697\n",
            "Epoch 6/20\n",
            "366/366 [==============================] - 5s 13ms/step - loss: 0.7426 - price_loss: 0.6672 - type_loss: 0.8180 - price_sparse_categorical_accuracy: 0.7111 - type_sparse_categorical_accuracy: 0.7627 - val_loss: 0.7693 - val_price_loss: 0.7076 - val_type_loss: 0.8311 - val_price_sparse_categorical_accuracy: 0.6808 - val_type_sparse_categorical_accuracy: 0.7744\n",
            "Epoch 7/20\n",
            "366/366 [==============================] - 5s 13ms/step - loss: 0.7078 - price_loss: 0.6403 - type_loss: 0.7754 - price_sparse_categorical_accuracy: 0.7259 - type_sparse_categorical_accuracy: 0.7702 - val_loss: 0.7546 - val_price_loss: 0.6982 - val_type_loss: 0.8110 - val_price_sparse_categorical_accuracy: 0.6794 - val_type_sparse_categorical_accuracy: 0.7806\n",
            "Epoch 8/20\n",
            "366/366 [==============================] - 5s 14ms/step - loss: 0.6777 - price_loss: 0.6167 - type_loss: 0.7386 - price_sparse_categorical_accuracy: 0.7415 - type_sparse_categorical_accuracy: 0.7839 - val_loss: 0.7481 - val_price_loss: 0.6992 - val_type_loss: 0.7970 - val_price_sparse_categorical_accuracy: 0.6781 - val_type_sparse_categorical_accuracy: 0.7820\n",
            "Epoch 9/20\n",
            "366/366 [==============================] - 5s 14ms/step - loss: 0.6488 - price_loss: 0.5959 - type_loss: 0.7016 - price_sparse_categorical_accuracy: 0.7506 - type_sparse_categorical_accuracy: 0.7948 - val_loss: 0.7420 - val_price_loss: 0.7013 - val_type_loss: 0.7827 - val_price_sparse_categorical_accuracy: 0.6774 - val_type_sparse_categorical_accuracy: 0.7840\n",
            "Epoch 10/20\n",
            "366/366 [==============================] - 5s 13ms/step - loss: 0.6211 - price_loss: 0.5731 - type_loss: 0.6692 - price_sparse_categorical_accuracy: 0.7658 - type_sparse_categorical_accuracy: 0.8049 - val_loss: 0.7312 - val_price_loss: 0.6968 - val_type_loss: 0.7656 - val_price_sparse_categorical_accuracy: 0.6712 - val_type_sparse_categorical_accuracy: 0.7847\n",
            "Epoch 11/20\n",
            "366/366 [==============================] - 5s 14ms/step - loss: 0.5952 - price_loss: 0.5550 - type_loss: 0.6354 - price_sparse_categorical_accuracy: 0.7738 - type_sparse_categorical_accuracy: 0.8121 - val_loss: 0.7320 - val_price_loss: 0.7029 - val_type_loss: 0.7612 - val_price_sparse_categorical_accuracy: 0.6712 - val_type_sparse_categorical_accuracy: 0.7943\n",
            "Epoch 12/20\n",
            "366/366 [==============================] - 5s 13ms/step - loss: 0.5688 - price_loss: 0.5344 - type_loss: 0.6031 - price_sparse_categorical_accuracy: 0.7836 - type_sparse_categorical_accuracy: 0.8237 - val_loss: 0.7297 - val_price_loss: 0.7030 - val_type_loss: 0.7563 - val_price_sparse_categorical_accuracy: 0.6733 - val_type_sparse_categorical_accuracy: 0.7902\n",
            "Epoch 13/20\n",
            "366/366 [==============================] - 5s 14ms/step - loss: 0.5452 - price_loss: 0.5158 - type_loss: 0.5746 - price_sparse_categorical_accuracy: 0.7942 - type_sparse_categorical_accuracy: 0.8348 - val_loss: 0.7259 - val_price_loss: 0.7106 - val_type_loss: 0.7413 - val_price_sparse_categorical_accuracy: 0.6719 - val_type_sparse_categorical_accuracy: 0.7915\n",
            "Epoch 14/20\n",
            "366/366 [==============================] - 5s 14ms/step - loss: 0.5217 - price_loss: 0.4967 - type_loss: 0.5467 - price_sparse_categorical_accuracy: 0.8018 - type_sparse_categorical_accuracy: 0.8425 - val_loss: 0.7357 - val_price_loss: 0.7301 - val_type_loss: 0.7412 - val_price_sparse_categorical_accuracy: 0.6740 - val_type_sparse_categorical_accuracy: 0.7949\n",
            "Epoch 15/20\n",
            "366/366 [==============================] - 5s 14ms/step - loss: 0.4997 - price_loss: 0.4802 - type_loss: 0.5193 - price_sparse_categorical_accuracy: 0.8090 - type_sparse_categorical_accuracy: 0.8523 - val_loss: 0.7294 - val_price_loss: 0.7247 - val_type_loss: 0.7341 - val_price_sparse_categorical_accuracy: 0.6685 - val_type_sparse_categorical_accuracy: 0.8011\n"
          ]
        }
      ],
      "source": [
        "# fit the model it takes\n",
        "# inputs: summary, and image\n",
        "# outputs: type, and price\n",
        "history = model.fit(\n",
        "    x={\n",
        "        'summary': x_train_text_id,\n",
        "        'image': x_train_image\n",
        "    },\n",
        "    y={\n",
        "        'type': y_train_type,\n",
        "        'price': y_train_price,\n",
        "    },\n",
        "    epochs=20,\n",
        "    batch_size=16,\n",
        "    validation_split=0.2,\n",
        "    callbacks=[\n",
        "        tf.keras.callbacks.EarlyStopping(monitor='val_price_loss', patience=5, ) # If val_price_loss is raised 5 times, the fit will be stopped.\n",
        "    ],\n",
        "    verbose=1\n",
        ")"
      ]
    },
    {
      "cell_type": "code",
      "source": [
        "# we can do prediction on testing set\n",
        "y_predict = model.predict(\n",
        "    {\n",
        "        'summary': x_test_text,\n",
        "        'image': x_test_image\n",
        "    }\n",
        ")\n",
        "\n",
        "\n",
        "# probabilities\n",
        "price_predicted = y_predict['price']\n",
        "print(price_predicted)\n",
        "\n",
        "# categories\n",
        "price_category_predicted = np.argmax(price_predicted, axis=1) # argmax used to convert prob. predict to predict\n",
        "print(price_category_predicted)\n"
      ],
      "metadata": {
        "colab": {
          "base_uri": "https://localhost:8080/"
        },
        "outputId": "19f25d28-4d8c-4595-f635-ae43a415135e",
        "id": "3rbFouMMRXLB"
      },
      "execution_count": null,
      "outputs": [
        {
          "output_type": "stream",
          "name": "stdout",
          "text": [
            "[[0.5168459  0.36920738 0.11394678]\n",
            " [0.9747766  0.02028225 0.00494115]\n",
            " [0.86796427 0.08199359 0.05004215]\n",
            " ...\n",
            " [0.7106156  0.2534165  0.03596792]\n",
            " [0.98289895 0.01129418 0.00580691]\n",
            " [0.75204504 0.22015253 0.02780252]]\n",
            "[0 0 0 ... 0 0 0]\n"
          ]
        }
      ]
    },
    {
      "cell_type": "markdown",
      "source": [
        "#### Display model"
      ],
      "metadata": {
        "id": "nox0XllkRXLC"
      }
    },
    {
      "cell_type": "code",
      "source": [
        "# figure is used to create a new figure.\n",
        "plt.figure(figsize=(15, 8))\n",
        "plt.subplot(1, 2, 1)\n",
        "plt.plot(history.history['price_sparse_categorical_accuracy'])\n",
        "plt.plot(history.history['val_price_sparse_categorical_accuracy'])\n",
        "plt.title('Price accuracy') # graph title\n",
        "plt.ylabel('accuracy') # y axis lable\n",
        "plt.xlabel('epoch') # x axis lable\n",
        "plt.legend(['train', 'validation'], loc='upper left') # legend is an area describing the elements of the graph\n",
        "plt.show()\n",
        "plt.grid(True) # grid is the axis object's method toggles the visibility of the grid inside the figure.\n",
        "plt.subplot(1, 2, 1)\n",
        "plt.plot(history.history['price_loss'])\n",
        "plt.plot(history.history['val_price_loss'])\n",
        "plt.title('model loss')  # graph title\n",
        "plt.ylabel('loss') # y axis lable\n",
        "plt.xlabel('epoch')# x axis lable\n",
        "plt.legend(['train', 'validation'], loc='upper left')\n",
        "plt.show()"
      ],
      "metadata": {
        "colab": {
          "base_uri": "https://localhost:8080/",
          "height": 791
        },
        "outputId": "476b92c3-015a-496f-d5ca-9f25b79e5234",
        "id": "wFsp-IAVRXLC"
      },
      "execution_count": null,
      "outputs": [
        {
          "output_type": "display_data",
          "data": {
            "text/plain": [
              "<Figure size 1080x576 with 1 Axes>"
            ],
            "image/png": "[encoded data removed]"
          },
          "metadata": {
            "needs_background": "light"
          }
        },
        {
          "output_type": "display_data",
          "data": {
            "text/plain": [
              "<Figure size 432x288 with 1 Axes>"
            ],
            "image/png": "[encoded data removed]"
          },
          "metadata": {
            "needs_background": "light"
          }
        }
      ]
    },
    {
      "cell_type": "code",
      "execution_count": null,
      "metadata": {
        "id": "ZzzGNpMoRXLC"
      },
      "outputs": [],
      "source": [
        "#  (if for kaggle competition and it is about genre prediction)\n",
        "pd.DataFrame(\n",
        "    {'id': data_ts.id,\n",
        "     'price': price_category_predicted}\n",
        ").to_csv('/content/drive/MyDrive/Queens_Practical/Data_Mining/compt4/submission.csv', index=False)"
      ]
    },
    {
      "cell_type": "markdown",
      "metadata": {
        "id": "RGLj6uEpRXLC"
      },
      "source": [
        "#### Result"
      ]
    },
    {
      "cell_type": "markdown",
      "metadata": {
        "id": "XiSpuPBHRXLC"
      },
      "source": [
        "Accuracy in **kaggle** =0.67282 \\\n",
        "In the prevois trials, there was a lot of overfitting, so in this trial I used dropout in image to reduce this overfitting, and the overfitting reduced.\n",
        "I tried different values in rate but they gave me less accuracy."
      ]
    },
    {
      "cell_type": "markdown",
      "metadata": {
        "id": "f-tQ_UF9NLk4"
      },
      "source": [
        "### **Trial 5**"
      ]
    },
    {
      "cell_type": "markdown",
      "metadata": {
        "id": "7piVA1aeNLlK"
      },
      "source": [
        "* In this trial I will use:\n",
        " * Text part    \n",
        "   * Embedding layer that allows us to convert each word into a fixed-length vector\n",
        "   * **Average layer**\n",
        "   * **Dropout** = 50% to reduce overfitting.\n",
        " * Image part\n",
        "    * **Convolutional** layer with **32** filters, and a **16*16** mask, no padding\n",
        "    * **Max pooling** with a **16*16** mask\n",
        "    * **Flatten** layer\n",
        " * Multi-task learning\n",
        " * Multi-modality learning\n",
        "\n",
        "**My thoughts and observations :** The accuracy would be between 0.67 and 0.68 as from the previous trials the average layer gave me high accuracy than GRU and LSTM so I think the accuracy will be increased with dropout."
      ]
    },
    {
      "cell_type": "markdown",
      "metadata": {
        "id": "jI-9WVqSNLlK"
      },
      "source": [
        "#### Model"
      ]
    },
    {
      "cell_type": "code",
      "execution_count": null,
      "metadata": {
        "colab": {
          "base_uri": "https://localhost:8080/"
        },
        "outputId": "f01b91f6-3aa3-428e-abec-9a5998da4611",
        "id": "xW-59K37NLlL"
      },
      "outputs": [
        {
          "output_type": "stream",
          "name": "stdout",
          "text": [
            "Model: \"model\"\n",
            "__________________________________________________________________________________________________\n",
            " Layer (type)                   Output Shape         Param #     Connected to                     \n",
            "==================================================================================================\n",
            " input_1 (InputLayer)           [(None, 100)]        0           []                               \n",
            "                                                                                                  \n",
            " input_2 (InputLayer)           [(None, 64, 64, 2)]  0           []                               \n",
            "                                                                                                  \n",
            " embedding (Embedding)          (None, 100, 100)     4000000     ['input_1[0][0]']                \n",
            "                                                                                                  \n",
            " conv2d (Conv2D)                (None, 49, 49, 32)   16416       ['input_2[0][0]']                \n",
            "                                                                                                  \n",
            " tf.math.reduce_mean (TFOpLambd  (None, 100)         0           ['embedding[0][0]']              \n",
            " a)                                                                                               \n",
            "                                                                                                  \n",
            " max_pooling2d (MaxPooling2D)   (None, 3, 3, 32)     0           ['conv2d[0][0]']                 \n",
            "                                                                                                  \n",
            " dropout (Dropout)              (None, 100)          0           ['tf.math.reduce_mean[0][0]']    \n",
            "                                                                                                  \n",
            " flatten (Flatten)              (None, 288)          0           ['max_pooling2d[0][0]']          \n",
            "                                                                                                  \n",
            " tf.concat (TFOpLambda)         (None, 388)          0           ['dropout[0][0]',                \n",
            "                                                                  'flatten[0][0]']                \n",
            "                                                                                                  \n",
            " price (Dense)                  (None, 3)            1167        ['tf.concat[0][0]']              \n",
            "                                                                                                  \n",
            " type (Dense)                   (None, 24)           9336        ['tf.concat[0][0]']              \n",
            "                                                                                                  \n",
            "==================================================================================================\n",
            "Total params: 4,026,919\n",
            "Trainable params: 4,026,919\n",
            "Non-trainable params: 0\n",
            "__________________________________________________________________________________________________\n"
          ]
        }
      ],
      "source": [
        "# Two inputs, one for image and the other for text.\n",
        "in_text = keras.Input(batch_shape=(None, max_len))\n",
        "in_image = keras.Input(batch_shape=(None, 64, 64, 2))\n",
        "\n",
        "# text part\n",
        "embedded = keras.layers.Embedding(tokenizer.num_words, 100)(in_text)# embedding requires to encoded input data to integer encoded, so that each word is represented by a unique integer\n",
        "averaged = tf.reduce_mean(embedded, axis=1)  # reduce_mean that compute the mean value of embeddded\n",
        "averaged= Dropout(0.5)(averaged)# 50% dropout\n",
        "\n",
        "# image part \n",
        "# Conv2D is a two-dimensional convolution layer that generates a tensor of outputs by winding a convolution kernel with the layers input\n",
        "# MaxPool2D used to reduces the dimensionality of images that is  by reducing the number of pixels in the output from the previous convolutional layer.\n",
        "cov = Conv2D(32, (16, 16))(in_image) # convolutional layer with 32 filters, and a 16*16 mask, no padding\n",
        "pl = MaxPool2D((16, 16))(cov) # max pooling with a 16*16 mask\n",
        "flattened = Flatten()(pl) # flatten the shape to (288,)\n",
        "\n",
        "# fusion - combinig both the text and the image\n",
        "fused = tf.concat([averaged, flattened], axis=-1)\n",
        "\n",
        "# multi-task learning (each is a multi-class classification)\n",
        "# one dense layer for each task(type and price)\n",
        "p_type = Dense(len_type, activation='softmax', name='type')(fused)\n",
        "p_price = Dense(len_price, activation='softmax', name='price')(fused)\n",
        "\n",
        "\n",
        "# define model input/output using keys.\n",
        "model = keras.Model(\n",
        "    inputs={\n",
        "        'summary': in_text,\n",
        "        'image': in_image\n",
        "    },\n",
        "    outputs={\n",
        "        'type': p_type,\n",
        "        'price': p_price,\n",
        "    },\n",
        ")\n",
        "\n",
        "\n",
        "# compile model with optimizer, loss values for each task, loss \n",
        "# weights for each task.\n",
        "model.compile(\n",
        "    optimizer=Adam(),\n",
        "    loss={\n",
        "        'type': 'sparse_categorical_crossentropy',\n",
        "        'price': 'sparse_categorical_crossentropy',\n",
        "    },\n",
        "    loss_weights={\n",
        "        'type': 0.5,\n",
        "        'price': 0.5,       \n",
        "    },\n",
        "    metrics={\n",
        "        'type': ['SparseCategoricalAccuracy'],\n",
        "        'price': ['SparseCategoricalAccuracy'],\n",
        "    },\n",
        ")\n",
        "\n",
        "\n",
        "model.summary()"
      ]
    },
    {
      "cell_type": "code",
      "execution_count": null,
      "metadata": {
        "colab": {
          "base_uri": "https://localhost:8080/"
        },
        "outputId": "bfd3fdb9-859a-4b34-a61e-3629ae9816fa",
        "id": "Vu5-R0uCNLlM"
      },
      "outputs": [
        {
          "output_type": "stream",
          "name": "stdout",
          "text": [
            "Epoch 1/20\n",
            "366/366 [==============================] - 14s 9ms/step - loss: 1.0434 - price_loss: 0.8474 - type_loss: 1.2394 - price_sparse_categorical_accuracy: 0.6163 - type_sparse_categorical_accuracy: 0.7495 - val_loss: 0.8865 - val_price_loss: 0.8196 - val_type_loss: 0.9535 - val_price_sparse_categorical_accuracy: 0.6234 - val_type_sparse_categorical_accuracy: 0.7690\n",
            "Epoch 2/20\n",
            "366/366 [==============================] - 3s 7ms/step - loss: 0.9067 - price_loss: 0.8169 - type_loss: 0.9965 - price_sparse_categorical_accuracy: 0.6222 - type_sparse_categorical_accuracy: 0.7560 - val_loss: 0.8618 - val_price_loss: 0.7899 - val_type_loss: 0.9337 - val_price_sparse_categorical_accuracy: 0.6316 - val_type_sparse_categorical_accuracy: 0.7690\n",
            "Epoch 3/20\n",
            "366/366 [==============================] - 3s 7ms/step - loss: 0.8760 - price_loss: 0.7801 - type_loss: 0.9720 - price_sparse_categorical_accuracy: 0.6428 - type_sparse_categorical_accuracy: 0.7560 - val_loss: 0.8383 - val_price_loss: 0.7632 - val_type_loss: 0.9133 - val_price_sparse_categorical_accuracy: 0.6494 - val_type_sparse_categorical_accuracy: 0.7690\n",
            "Epoch 4/20\n",
            "366/366 [==============================] - 3s 7ms/step - loss: 0.8432 - price_loss: 0.7449 - type_loss: 0.9416 - price_sparse_categorical_accuracy: 0.6634 - type_sparse_categorical_accuracy: 0.7562 - val_loss: 0.8155 - val_price_loss: 0.7394 - val_type_loss: 0.8917 - val_price_sparse_categorical_accuracy: 0.6651 - val_type_sparse_categorical_accuracy: 0.7690\n",
            "Epoch 5/20\n",
            "366/366 [==============================] - 3s 7ms/step - loss: 0.8128 - price_loss: 0.7162 - type_loss: 0.9094 - price_sparse_categorical_accuracy: 0.6837 - type_sparse_categorical_accuracy: 0.7565 - val_loss: 0.7967 - val_price_loss: 0.7255 - val_type_loss: 0.8680 - val_price_sparse_categorical_accuracy: 0.6637 - val_type_sparse_categorical_accuracy: 0.7697\n",
            "Epoch 6/20\n",
            "366/366 [==============================] - 3s 7ms/step - loss: 0.7826 - price_loss: 0.6895 - type_loss: 0.8756 - price_sparse_categorical_accuracy: 0.6962 - type_sparse_categorical_accuracy: 0.7586 - val_loss: 0.7824 - val_price_loss: 0.7171 - val_type_loss: 0.8478 - val_price_sparse_categorical_accuracy: 0.6828 - val_type_sparse_categorical_accuracy: 0.7724\n",
            "Epoch 7/20\n",
            "366/366 [==============================] - 3s 7ms/step - loss: 0.7545 - price_loss: 0.6683 - type_loss: 0.8407 - price_sparse_categorical_accuracy: 0.7105 - type_sparse_categorical_accuracy: 0.7605 - val_loss: 0.7680 - val_price_loss: 0.7064 - val_type_loss: 0.8297 - val_price_sparse_categorical_accuracy: 0.6787 - val_type_sparse_categorical_accuracy: 0.7717\n",
            "Epoch 8/20\n",
            "366/366 [==============================] - 3s 7ms/step - loss: 0.7299 - price_loss: 0.6478 - type_loss: 0.8120 - price_sparse_categorical_accuracy: 0.7261 - type_sparse_categorical_accuracy: 0.7658 - val_loss: 0.7553 - val_price_loss: 0.6991 - val_type_loss: 0.8115 - val_price_sparse_categorical_accuracy: 0.6774 - val_type_sparse_categorical_accuracy: 0.7772\n",
            "Epoch 9/20\n",
            "366/366 [==============================] - 3s 7ms/step - loss: 0.7062 - price_loss: 0.6313 - type_loss: 0.7811 - price_sparse_categorical_accuracy: 0.7345 - type_sparse_categorical_accuracy: 0.7733 - val_loss: 0.7494 - val_price_loss: 0.7012 - val_type_loss: 0.7976 - val_price_sparse_categorical_accuracy: 0.6787 - val_type_sparse_categorical_accuracy: 0.7792\n",
            "Epoch 10/20\n",
            "366/366 [==============================] - 4s 11ms/step - loss: 0.6844 - price_loss: 0.6106 - type_loss: 0.7581 - price_sparse_categorical_accuracy: 0.7441 - type_sparse_categorical_accuracy: 0.7781 - val_loss: 0.7419 - val_price_loss: 0.6964 - val_type_loss: 0.7873 - val_price_sparse_categorical_accuracy: 0.6801 - val_type_sparse_categorical_accuracy: 0.7799\n",
            "Epoch 11/20\n",
            "366/366 [==============================] - 3s 9ms/step - loss: 0.6620 - price_loss: 0.5967 - type_loss: 0.7273 - price_sparse_categorical_accuracy: 0.7526 - type_sparse_categorical_accuracy: 0.7871 - val_loss: 0.7373 - val_price_loss: 0.6980 - val_type_loss: 0.7766 - val_price_sparse_categorical_accuracy: 0.6774 - val_type_sparse_categorical_accuracy: 0.7833\n",
            "Epoch 12/20\n",
            "366/366 [==============================] - 3s 7ms/step - loss: 0.6439 - price_loss: 0.5838 - type_loss: 0.7040 - price_sparse_categorical_accuracy: 0.7606 - type_sparse_categorical_accuracy: 0.7960 - val_loss: 0.7314 - val_price_loss: 0.6981 - val_type_loss: 0.7648 - val_price_sparse_categorical_accuracy: 0.6740 - val_type_sparse_categorical_accuracy: 0.7867\n",
            "Epoch 13/20\n",
            "366/366 [==============================] - 3s 7ms/step - loss: 0.6225 - price_loss: 0.5674 - type_loss: 0.6776 - price_sparse_categorical_accuracy: 0.7690 - type_sparse_categorical_accuracy: 0.8017 - val_loss: 0.7324 - val_price_loss: 0.7034 - val_type_loss: 0.7614 - val_price_sparse_categorical_accuracy: 0.6746 - val_type_sparse_categorical_accuracy: 0.7874\n",
            "Epoch 14/20\n",
            "366/366 [==============================] - 3s 7ms/step - loss: 0.6041 - price_loss: 0.5526 - type_loss: 0.6556 - price_sparse_categorical_accuracy: 0.7719 - type_sparse_categorical_accuracy: 0.8075 - val_loss: 0.7273 - val_price_loss: 0.7058 - val_type_loss: 0.7487 - val_price_sparse_categorical_accuracy: 0.6760 - val_type_sparse_categorical_accuracy: 0.7929\n",
            "Epoch 15/20\n",
            "366/366 [==============================] - 3s 7ms/step - loss: 0.5844 - price_loss: 0.5389 - type_loss: 0.6298 - price_sparse_categorical_accuracy: 0.7815 - type_sparse_categorical_accuracy: 0.8143 - val_loss: 0.7280 - val_price_loss: 0.7108 - val_type_loss: 0.7452 - val_price_sparse_categorical_accuracy: 0.6753 - val_type_sparse_categorical_accuracy: 0.7902\n"
          ]
        }
      ],
      "source": [
        "# fit the model it takes\n",
        "# inputs: summary, and image\n",
        "# outputs: type, and price\n",
        "history = model.fit(\n",
        "    x={\n",
        "        'summary': x_train_text_id,\n",
        "        'image': x_train_image\n",
        "    },\n",
        "    y={\n",
        "        'type': y_train_type,\n",
        "        'price': y_train_price,\n",
        "    },\n",
        "    epochs=20,\n",
        "    batch_size=16,\n",
        "    validation_split=0.2,\n",
        "    callbacks=[\n",
        "        tf.keras.callbacks.EarlyStopping(monitor='val_price_loss', patience=5, ) # If val_price_loss is raised 5 times, the fit will be stopped.\n",
        "    ],\n",
        "    verbose=1\n",
        ")"
      ]
    },
    {
      "cell_type": "code",
      "source": [
        "# we can do prediction on testing set\n",
        "y_predict = model.predict(\n",
        "    {\n",
        "        'summary': x_test_text,\n",
        "        'image': x_test_image\n",
        "    }\n",
        ")\n",
        "\n",
        "\n",
        "# probabilities\n",
        "price_predicted = y_predict['price']\n",
        "print(price_predicted)\n",
        "\n",
        "# categories\n",
        "price_category_predicted = np.argmax(price_predicted, axis=1) # argmax used to convert prob. predict to predict\n",
        "print(price_category_predicted)\n"
      ],
      "metadata": {
        "colab": {
          "base_uri": "https://localhost:8080/"
        },
        "outputId": "cab1298d-b088-44ce-daec-0ce453be7fde",
        "id": "BPsAA49tNLlM"
      },
      "execution_count": null,
      "outputs": [
        {
          "output_type": "stream",
          "name": "stdout",
          "text": [
            "[[0.5509342  0.33699557 0.11207027]\n",
            " [0.96520543 0.02815144 0.00664322]\n",
            " [0.8338362  0.11078838 0.05537539]\n",
            " ...\n",
            " [0.69203424 0.25949806 0.04846768]\n",
            " [0.9696353  0.02205317 0.00831143]\n",
            " [0.70490825 0.25397128 0.04112046]]\n",
            "[0 0 0 ... 0 0 0]\n"
          ]
        }
      ]
    },
    {
      "cell_type": "markdown",
      "source": [
        "#### Display model"
      ],
      "metadata": {
        "id": "8IZJA8ZwNLlM"
      }
    },
    {
      "cell_type": "code",
      "source": [
        "# figure is used to create a new figure.\n",
        "plt.figure(figsize=(15, 8))\n",
        "plt.subplot(1, 2, 1)\n",
        "plt.plot(history.history['price_sparse_categorical_accuracy'])\n",
        "plt.plot(history.history['val_price_sparse_categorical_accuracy'])\n",
        "plt.title('Price accuracy') # graph title\n",
        "plt.ylabel('accuracy') # y axis lable\n",
        "plt.xlabel('epoch') # x axis lable\n",
        "plt.legend(['train', 'validation'], loc='upper left') # legend is an area describing the elements of the graph\n",
        "plt.show()\n",
        "plt.grid(True) # grid is the axis object's method toggles the visibility of the grid inside the figure.\n",
        "plt.subplot(1, 2, 1)\n",
        "plt.plot(history.history['price_loss'])\n",
        "plt.plot(history.history['val_price_loss'])\n",
        "plt.title('model loss')  # graph title\n",
        "plt.ylabel('loss') # y axis lable\n",
        "plt.xlabel('epoch')# x axis lable\n",
        "plt.legend(['train', 'validation'], loc='upper left')\n",
        "plt.show()"
      ],
      "metadata": {
        "colab": {
          "base_uri": "https://localhost:8080/",
          "height": 791
        },
        "outputId": "7e297823-463e-422d-d113-94968b908f66",
        "id": "S9ErIfTENLlN"
      },
      "execution_count": null,
      "outputs": [
        {
          "output_type": "display_data",
          "data": {
            "text/plain": [
              "<Figure size 1080x576 with 1 Axes>"
            ],
            "image/png": "[encoded data removed]"
          },
          "metadata": {
            "needs_background": "light"
          }
        },
        {
          "output_type": "display_data",
          "data": {
            "text/plain": [
              "<Figure size 432x288 with 1 Axes>"
            ],
            "image/png": "[encoded data removed]"
          },
          "metadata": {
            "needs_background": "light"
          }
        }
      ]
    },
    {
      "cell_type": "code",
      "execution_count": null,
      "metadata": {
        "id": "7WQxJ0BsNLlN"
      },
      "outputs": [],
      "source": [
        "#  (if for kaggle competition and it is about genre prediction)\n",
        "pd.DataFrame(\n",
        "    {'id': data_ts.id,\n",
        "     'price': price_category_predicted}\n",
        ").to_csv('/content/drive/MyDrive/Queens_Practical/Data_Mining/compt4/submission.csv', index=False)"
      ]
    },
    {
      "cell_type": "markdown",
      "metadata": {
        "id": "bGeeA87CNLlN"
      },
      "source": [
        "#### Result"
      ]
    },
    {
      "cell_type": "markdown",
      "metadata": {
        "id": "4fq_zj5HNLlN"
      },
      "source": [
        "Accuracy in **kaggle** =0.68614 \\\n",
        "In the prevois trials, there was a lot of overfitting, so in this trial I used dropout in text to reduce this overfitting, and the overfitting reduced. I tried different values in rate but they gave me less accuracy."
      ]
    },
    {
      "cell_type": "markdown",
      "metadata": {
        "id": "fldDuTPTqv3y"
      },
      "source": [
        "### **Trial 6**"
      ]
    },
    {
      "cell_type": "markdown",
      "metadata": {
        "id": "RC4XKL50qv37"
      },
      "source": [
        "* In this trial I will use:\n",
        " * Text part    \n",
        "   * Embedding layer that allows us to convert each word into a fixed-length vector\n",
        "   * **GRU layer** with **BiDirectional layer** Bidirectional that connect 2 hidden layers of opposite directions to the same output. It is used **90 units**, activation **tanh activation** function, and **l2 = 0.02 regularizer** .\n",
        "   * **Dropout** = 70% to reduce overfitting.\n",
        " * Image part\n",
        "    * **Convolutional** layer with **32** filters, and a **16*16** mask, no padding\n",
        "    * **Max pooling** with a **16*16** mask\n",
        "    * **Flatten** layer\n",
        " * Multi-task learning\n",
        " * Multi-modality learning\n",
        "\n",
        "**My thoughts and observations :** The accuracy would be between 0.62 and 0.63 It will give me less accuracy than trial 5 as I used BiDirectional and GRU layer"
      ]
    },
    {
      "cell_type": "markdown",
      "metadata": {
        "id": "2cEPMc3nqv37"
      },
      "source": [
        "#### Model"
      ]
    },
    {
      "cell_type": "code",
      "execution_count": null,
      "metadata": {
        "colab": {
          "base_uri": "https://localhost:8080/"
        },
        "outputId": "22c75094-5798-4fdd-b00d-3984e41f0d02",
        "id": "pCUTGvwLqv37"
      },
      "outputs": [
        {
          "output_type": "stream",
          "name": "stdout",
          "text": [
            "Model: \"model\"\n",
            "__________________________________________________________________________________________________\n",
            " Layer (type)                   Output Shape         Param #     Connected to                     \n",
            "==================================================================================================\n",
            " input_1 (InputLayer)           [(None, 100)]        0           []                               \n",
            "                                                                                                  \n",
            " input_2 (InputLayer)           [(None, 64, 64, 2)]  0           []                               \n",
            "                                                                                                  \n",
            " embedding (Embedding)          (None, 100, 100)     4000000     ['input_1[0][0]']                \n",
            "                                                                                                  \n",
            " conv2d (Conv2D)                (None, 49, 49, 32)   16416       ['input_2[0][0]']                \n",
            "                                                                                                  \n",
            " bidirectional (Bidirectional)  (None, 180)          103680      ['embedding[0][0]']              \n",
            "                                                                                                  \n",
            " max_pooling2d (MaxPooling2D)   (None, 3, 3, 32)     0           ['conv2d[0][0]']                 \n",
            "                                                                                                  \n",
            " dropout (Dropout)              (None, 180)          0           ['bidirectional[0][0]']          \n",
            "                                                                                                  \n",
            " flatten (Flatten)              (None, 288)          0           ['max_pooling2d[0][0]']          \n",
            "                                                                                                  \n",
            " tf.concat (TFOpLambda)         (None, 468)          0           ['dropout[0][0]',                \n",
            "                                                                  'flatten[0][0]']                \n",
            "                                                                                                  \n",
            " price (Dense)                  (None, 3)            1407        ['tf.concat[0][0]']              \n",
            "                                                                                                  \n",
            " type (Dense)                   (None, 24)           11256       ['tf.concat[0][0]']              \n",
            "                                                                                                  \n",
            "==================================================================================================\n",
            "Total params: 4,132,759\n",
            "Trainable params: 4,132,759\n",
            "Non-trainable params: 0\n",
            "__________________________________________________________________________________________________\n"
          ]
        }
      ],
      "source": [
        "# Two inputs, one for image and the other for text.\n",
        "in_text = keras.Input(batch_shape=(None, max_len))\n",
        "in_image = keras.Input(batch_shape=(None, 64, 64, 2))\n",
        "\n",
        "# text part\n",
        "embedded = keras.layers.Embedding(tokenizer.num_words, 100)(in_text)# embedding requires to encoded input data to integer encoded, so that each word is represented by a unique integer\n",
        "gru= Bidirectional(GRU(90, activation='tanh', activity_regularizer=l2(0.02)))(embedded)\n",
        "gru= Dropout(0.7)(gru)\n",
        "\n",
        "# image part \n",
        "# Conv2D is a two-dimensional convolution layer that generates a tensor of outputs by winding a convolution kernel with the layers input\n",
        "# MaxPool2D used to reduces the dimensionality of images that is  by reducing the number of pixels in the output from the previous convolutional layer.\n",
        "cov = Conv2D(32, (16, 16))(in_image) # convolutional layer with 32 filters, and a 16*16 mask, no padding\n",
        "pl = MaxPool2D((16, 16))(cov)# max pooling with a 16*16 mask\n",
        "flattened = Flatten()(pl) # flatten the shape to (288,)\n",
        "\n",
        "# fusion - combinig both the text and the image\n",
        "fused = tf.concat([gru, flattened], axis=-1)\n",
        "\n",
        "# multi-task learning (each is a multi-class classification)\n",
        "# one dense layer for each task(type and price)\n",
        "p_type = Dense(len_type, activation='softmax', name='type')(fused)\n",
        "p_price = Dense(len_price, activation='softmax', name='price')(fused)\n",
        "\n",
        "\n",
        "# define model input/output using keys.\n",
        "model = keras.Model(\n",
        "    inputs={\n",
        "        'summary': in_text,\n",
        "        'image': in_image\n",
        "    },\n",
        "    outputs={\n",
        "        'type': p_type,\n",
        "        'price': p_price,\n",
        "    },\n",
        ")\n",
        "\n",
        "\n",
        "# compile model with optimizer, loss values for each task, loss \n",
        "# weights for each task.\n",
        "model.compile(\n",
        "    optimizer=Adam(),\n",
        "    loss={\n",
        "        'type': 'sparse_categorical_crossentropy',\n",
        "        'price': 'sparse_categorical_crossentropy',\n",
        "    },\n",
        "    loss_weights={\n",
        "        'type': 0.5,\n",
        "        'price': 0.5,       \n",
        "    },\n",
        "    metrics={\n",
        "        'type': ['SparseCategoricalAccuracy'],\n",
        "        'price': ['SparseCategoricalAccuracy'],\n",
        "    },\n",
        ")\n",
        "\n",
        "\n",
        "model.summary()"
      ]
    },
    {
      "cell_type": "code",
      "execution_count": null,
      "metadata": {
        "colab": {
          "base_uri": "https://localhost:8080/"
        },
        "outputId": "a80c2b4f-6c04-44f3-a664-c43c8391525b",
        "id": "aoL_vdrhqv37"
      },
      "outputs": [
        {
          "output_type": "stream",
          "name": "stdout",
          "text": [
            "Epoch 1/20\n",
            "366/366 [==============================] - 38s 64ms/step - loss: 0.9848 - price_loss: 0.8322 - type_loss: 1.0799 - price_sparse_categorical_accuracy: 0.6186 - type_sparse_categorical_accuracy: 0.7509 - val_loss: 0.8311 - val_price_loss: 0.7633 - val_type_loss: 0.8761 - val_price_sparse_categorical_accuracy: 0.6535 - val_type_sparse_categorical_accuracy: 0.7690\n",
            "Epoch 2/20\n",
            "366/366 [==============================] - 22s 61ms/step - loss: 0.8101 - price_loss: 0.7387 - type_loss: 0.8425 - price_sparse_categorical_accuracy: 0.6618 - type_sparse_categorical_accuracy: 0.7632 - val_loss: 0.8041 - val_price_loss: 0.7279 - val_type_loss: 0.8392 - val_price_sparse_categorical_accuracy: 0.6781 - val_type_sparse_categorical_accuracy: 0.7799\n",
            "Epoch 3/20\n",
            "366/366 [==============================] - 23s 63ms/step - loss: 0.7363 - price_loss: 0.6756 - type_loss: 0.7470 - price_sparse_categorical_accuracy: 0.7054 - type_sparse_categorical_accuracy: 0.7847 - val_loss: 0.8031 - val_price_loss: 0.7462 - val_type_loss: 0.8235 - val_price_sparse_categorical_accuracy: 0.6514 - val_type_sparse_categorical_accuracy: 0.7867\n",
            "Epoch 4/20\n",
            "366/366 [==============================] - 25s 70ms/step - loss: 0.6665 - price_loss: 0.6151 - type_loss: 0.6576 - price_sparse_categorical_accuracy: 0.7394 - type_sparse_categorical_accuracy: 0.8111 - val_loss: 0.8015 - val_price_loss: 0.7480 - val_type_loss: 0.8038 - val_price_sparse_categorical_accuracy: 0.6712 - val_type_sparse_categorical_accuracy: 0.7902\n",
            "Epoch 5/20\n",
            "366/366 [==============================] - 22s 61ms/step - loss: 0.5984 - price_loss: 0.5482 - type_loss: 0.5783 - price_sparse_categorical_accuracy: 0.7757 - type_sparse_categorical_accuracy: 0.8350 - val_loss: 0.8187 - val_price_loss: 0.7554 - val_type_loss: 0.8326 - val_price_sparse_categorical_accuracy: 0.6678 - val_type_sparse_categorical_accuracy: 0.7820\n",
            "Epoch 6/20\n",
            "366/366 [==============================] - 22s 61ms/step - loss: 0.5499 - price_loss: 0.5052 - type_loss: 0.5208 - price_sparse_categorical_accuracy: 0.7988 - type_sparse_categorical_accuracy: 0.8507 - val_loss: 0.8929 - val_price_loss: 0.8413 - val_type_loss: 0.8849 - val_price_sparse_categorical_accuracy: 0.6234 - val_type_sparse_categorical_accuracy: 0.7820\n",
            "Epoch 7/20\n",
            "366/366 [==============================] - 24s 65ms/step - loss: 0.4988 - price_loss: 0.4493 - type_loss: 0.4699 - price_sparse_categorical_accuracy: 0.8253 - type_sparse_categorical_accuracy: 0.8639 - val_loss: 0.9333 - val_price_loss: 0.8940 - val_type_loss: 0.9085 - val_price_sparse_categorical_accuracy: 0.6357 - val_type_sparse_categorical_accuracy: 0.7601\n"
          ]
        }
      ],
      "source": [
        "# fit the model it takes\n",
        "# inputs: summary, and image\n",
        "# outputs: type, and price\n",
        "history = model.fit(\n",
        "    x={\n",
        "        'summary': x_train_text_id,\n",
        "        'image': x_train_image\n",
        "    },\n",
        "    y={\n",
        "        'type': y_train_type,\n",
        "        'price': y_train_price,\n",
        "    },\n",
        "    epochs=20,\n",
        "    batch_size=16,\n",
        "    validation_split=0.2,\n",
        "    callbacks=[\n",
        "        tf.keras.callbacks.EarlyStopping(monitor='val_price_loss', patience=5, ) # If val_price_loss is raised 5 times, the fit will be stopped.\n",
        "    ],\n",
        "    verbose=1\n",
        ")"
      ]
    },
    {
      "cell_type": "code",
      "source": [
        "# we can do prediction on testing set\n",
        "y_predict = model.predict(\n",
        "    {\n",
        "        'summary': x_test_text,\n",
        "        'image': x_test_image\n",
        "    }\n",
        ")\n",
        "\n",
        "\n",
        "# probabilities\n",
        "price_predicted = y_predict['price']\n",
        "print(price_predicted)\n",
        "\n",
        "# categories\n",
        "price_category_predicted = np.argmax(price_predicted, axis=1) # argmax used to convert prob. predict to predict\n",
        "print(price_category_predicted)\n"
      ],
      "metadata": {
        "colab": {
          "base_uri": "https://localhost:8080/"
        },
        "outputId": "5b868c81-82b0-4b26-f196-2b3d31e3682f",
        "id": "3WkL-q87qv38"
      },
      "execution_count": null,
      "outputs": [
        {
          "output_type": "stream",
          "name": "stdout",
          "text": [
            "[[7.8318395e-02 4.8646656e-01 4.3521503e-01]\n",
            " [9.9710244e-01 2.2087069e-03 6.8884692e-04]\n",
            " [9.9030882e-01 6.1608180e-03 3.5304301e-03]\n",
            " ...\n",
            " [3.6688262e-01 5.1931810e-01 1.1379923e-01]\n",
            " [9.9636948e-01 2.1266027e-03 1.5039005e-03]\n",
            " [4.0329200e-01 5.1115769e-01 8.5550368e-02]]\n",
            "[1 0 0 ... 1 0 1]\n"
          ]
        }
      ]
    },
    {
      "cell_type": "markdown",
      "source": [
        "#### Display model"
      ],
      "metadata": {
        "id": "8vtFjGsrqv38"
      }
    },
    {
      "cell_type": "code",
      "source": [
        "# figure is used to create a new figure.\n",
        "plt.figure(figsize=(15, 8))\n",
        "plt.subplot(1, 2, 1)\n",
        "plt.plot(history.history['price_sparse_categorical_accuracy'])\n",
        "plt.plot(history.history['val_price_sparse_categorical_accuracy'])\n",
        "plt.title('Price accuracy') # graph title\n",
        "plt.ylabel('accuracy') # y axis lable\n",
        "plt.xlabel('epoch') # x axis lable\n",
        "plt.legend(['train', 'validation'], loc='upper left') # legend is an area describing the elements of the graph\n",
        "plt.show()\n",
        "plt.grid(True) # grid is the axis object's method toggles the visibility of the grid inside the figure.\n",
        "plt.subplot(1, 2, 1)\n",
        "plt.plot(history.history['price_loss'])\n",
        "plt.plot(history.history['val_price_loss'])\n",
        "plt.title('model loss')  # graph title\n",
        "plt.ylabel('loss') # y axis lable\n",
        "plt.xlabel('epoch')# x axis lable\n",
        "plt.legend(['train', 'validation'], loc='upper left')\n",
        "plt.show()"
      ],
      "metadata": {
        "colab": {
          "base_uri": "https://localhost:8080/",
          "height": 791
        },
        "outputId": "459fddba-47d4-4ecd-eea8-aebd2ec9fde3",
        "id": "Pq2HeZ8Lqv38"
      },
      "execution_count": null,
      "outputs": [
        {
          "output_type": "display_data",
          "data": {
            "text/plain": [
              "<Figure size 1080x576 with 1 Axes>"
            ],
            "image/png": "[encoded data removed]"
          },
          "metadata": {
            "needs_background": "light"
          }
        },
        {
          "output_type": "display_data",
          "data": {
            "text/plain": [
              "<Figure size 432x288 with 1 Axes>"
            ],
            "image/png": "[encoded data removed]"
          },
          "metadata": {
            "needs_background": "light"
          }
        }
      ]
    },
    {
      "cell_type": "code",
      "execution_count": null,
      "metadata": {
        "id": "_f12nBhWqv38"
      },
      "outputs": [],
      "source": [
        "#  (if for kaggle competition and it is about genre prediction)\n",
        "pd.DataFrame(\n",
        "    {'id': data_ts.id,\n",
        "     'price': price_category_predicted}\n",
        ").to_csv('/content/drive/MyDrive/Queens_Practical/Data_Mining/compt4/submission.csv', index=False)"
      ]
    },
    {
      "cell_type": "markdown",
      "metadata": {
        "id": "dLG2PXnvqv39"
      },
      "source": [
        "#### Result"
      ]
    },
    {
      "cell_type": "markdown",
      "metadata": {
        "id": "s0CH5Wctqv39"
      },
      "source": [
        "Accuracy in **kaggle** =0.65135 \\\n",
        "In the prevois trials, there was a lot of overfitting, so in this trial I used dropout and Regularizer in text to reduce this overfitting but It is not reduced as I expected. I tried different values in rate and tried l1,and l1_l2 but they gave me less accuracy."
      ]
    },
    {
      "cell_type": "markdown",
      "metadata": {
        "id": "boXby4RfPFY3"
      },
      "source": [
        "### **Trial 7**"
      ]
    },
    {
      "cell_type": "markdown",
      "metadata": {
        "id": "6c6pHCVHPFY4"
      },
      "source": [
        "* In this trial I will use:\n",
        " * Text part    \n",
        "   * Embedding layer that allows us to convert each word into a fixed-length vector\n",
        "   * **GRU layer** with **BiDirectional layer** Bidirectional connect 2 hidden layers of opposite directions to the same output. It is used **100 units**, and **l2 = 0.01 regularizer** .\n",
        "   * **Dropout** = 30% to reduce overfitting.\n",
        " * Image part\n",
        "    * **Convolutional** layer with **16** filters, and a **3*3** mask, no padding\n",
        "    * **Max pooling** with a **3*3** mask\n",
        "    * **Convolutional** layer with **32** filters, and a **2*2** mask, no padding\n",
        "    * **Max pooling** with a **2*2** mask\n",
        "    * **Flatten** layer\n",
        " * Multi-task learning\n",
        " * Multi-modality learning\n",
        "\n",
        "I try to reduce overfitting by changing the number of layers in the image part and using both dropout and regularizer in the text part.\\\n",
        "**My thoughts and observations :** The accuracy would be between 0.65 and 0.66 as I used more layers that reduce overfitting in the same model."
      ]
    },
    {
      "cell_type": "markdown",
      "metadata": {
        "id": "d2DU4FNOPFY4"
      },
      "source": [
        "#### Model"
      ]
    },
    {
      "cell_type": "code",
      "execution_count": null,
      "metadata": {
        "colab": {
          "base_uri": "https://localhost:8080/"
        },
        "outputId": "a261f97d-0395-4e05-b326-6a188468cfff",
        "id": "rwt6TPLuPFY4"
      },
      "outputs": [
        {
          "output_type": "stream",
          "name": "stdout",
          "text": [
            "Model: \"model_1\"\n",
            "__________________________________________________________________________________________________\n",
            " Layer (type)                   Output Shape         Param #     Connected to                     \n",
            "==================================================================================================\n",
            " input_6 (InputLayer)           [(None, 64, 64, 2)]  0           []                               \n",
            "                                                                                                  \n",
            " conv2d_3 (Conv2D)              (None, 62, 62, 16)   304         ['input_6[0][0]']                \n",
            "                                                                                                  \n",
            " input_5 (InputLayer)           [(None, 100)]        0           []                               \n",
            "                                                                                                  \n",
            " max_pooling2d_3 (MaxPooling2D)  (None, 20, 20, 16)  0           ['conv2d_3[0][0]']               \n",
            "                                                                                                  \n",
            " embedding_2 (Embedding)        (None, 100, 100)     4000000     ['input_5[0][0]']                \n",
            "                                                                                                  \n",
            " conv2d_4 (Conv2D)              (None, 19, 19, 32)   2080        ['max_pooling2d_3[0][0]']        \n",
            "                                                                                                  \n",
            " bidirectional_2 (Bidirectional  (None, 200)         121200      ['embedding_2[0][0]']            \n",
            " )                                                                                                \n",
            "                                                                                                  \n",
            " max_pooling2d_4 (MaxPooling2D)  (None, 9, 9, 32)    0           ['conv2d_4[0][0]']               \n",
            "                                                                                                  \n",
            " dropout_2 (Dropout)            (None, 200)          0           ['bidirectional_2[0][0]']        \n",
            "                                                                                                  \n",
            " flatten_2 (Flatten)            (None, 2592)         0           ['max_pooling2d_4[0][0]']        \n",
            "                                                                                                  \n",
            " tf.concat_1 (TFOpLambda)       (None, 2792)         0           ['dropout_2[0][0]',              \n",
            "                                                                  'flatten_2[0][0]']              \n",
            "                                                                                                  \n",
            " price (Dense)                  (None, 3)            8379        ['tf.concat_1[0][0]']            \n",
            "                                                                                                  \n",
            " type (Dense)                   (None, 24)           67032       ['tf.concat_1[0][0]']            \n",
            "                                                                                                  \n",
            "==================================================================================================\n",
            "Total params: 4,198,995\n",
            "Trainable params: 4,198,995\n",
            "Non-trainable params: 0\n",
            "__________________________________________________________________________________________________\n"
          ]
        }
      ],
      "source": [
        "# Two inputs, one for image and the other for text.\n",
        "in_text = keras.Input(batch_shape=(None, max_len))\n",
        "in_image = keras.Input(batch_shape=(None, 64, 64, 2))\n",
        "\n",
        "# text part\n",
        "embedded = keras.layers.Embedding(tokenizer.num_words, 100)(in_text)# embedding requires to encoded input data to integer encoded, so that each word is represented by a unique integer\n",
        "gru= Bidirectional(GRU(100, activity_regularizer=l2(0.01)))(embedded) \n",
        "gru= Dropout(0.3)(gru)# 30% dropout\n",
        "\n",
        "# image part \n",
        "# Conv2D is a two-dimensional convolution layer that generates a tensor of outputs by winding a convolution kernel with the layers input\n",
        "# MaxPool2D used to reduces the dimensionality of images that is  by reducing the number of pixels in the output from the previous convolutional layer.\n",
        "cov = Conv2D(16, (3, 3))(in_image) # convolutional layer with 16 filters, and a 3x3 mask, no padding\n",
        "pl = MaxPool2D((3, 3))(cov) # max pooling with a 3x3 mask\n",
        "cov2 = Conv2D(32, (2,2))(pl) # convolutional layer with 32 filters, and a 2x2 mask, no padding\n",
        "pl2 = MaxPool2D((2,2))(cov2) # max pooling with a 2x2 mask\n",
        "flattened = Flatten()(pl2) # flatten the shape to (2592,)\n",
        "\n",
        "# fusion - combinig both the text and the image\n",
        "fused = tf.concat([gru, flattened], axis=-1)\n",
        "\n",
        "# multi-task learning (each is a multi-class classification)\n",
        "# one dense layer for each task(type and price)\n",
        "p_type = Dense(len_type, activation='softmax', name='type')(fused)\n",
        "p_price = Dense(len_price, activation='softmax', name='price')(fused)\n",
        "\n",
        "\n",
        "# define model input/output using keys.\n",
        "model = keras.Model(\n",
        "    inputs={\n",
        "        'summary': in_text,\n",
        "        'image': in_image\n",
        "    },\n",
        "    outputs={\n",
        "        'type': p_type,\n",
        "        'price': p_price,\n",
        "    },\n",
        ")\n",
        "\n",
        "\n",
        "# compile model with optimizer, loss values for each task, loss \n",
        "# weights for each task.\n",
        "model.compile(\n",
        "    optimizer=Adam(),\n",
        "    loss={\n",
        "        'type': 'sparse_categorical_crossentropy',\n",
        "        'price': 'sparse_categorical_crossentropy',\n",
        "    },\n",
        "    loss_weights={\n",
        "        'type': 0.5,\n",
        "        'price': 0.5,       \n",
        "    },\n",
        "    metrics={\n",
        "        'type': ['SparseCategoricalAccuracy'],\n",
        "        'price': ['SparseCategoricalAccuracy'],\n",
        "    },\n",
        ")\n",
        "\n",
        "\n",
        "model.summary()"
      ]
    },
    {
      "cell_type": "code",
      "execution_count": null,
      "metadata": {
        "colab": {
          "base_uri": "https://localhost:8080/"
        },
        "outputId": "a2db121c-70dd-41fc-d9f8-91822f7f645f",
        "id": "xrmzrDLyPFY4"
      },
      "outputs": [
        {
          "output_type": "stream",
          "name": "stdout",
          "text": [
            "Epoch 1/20\n",
            "366/366 [==============================] - 29s 65ms/step - loss: 0.9352 - price_loss: 0.8044 - type_loss: 1.0427 - price_sparse_categorical_accuracy: 0.6271 - type_sparse_categorical_accuracy: 0.7547 - val_loss: 0.8037 - val_price_loss: 0.7368 - val_type_loss: 0.8449 - val_price_sparse_categorical_accuracy: 0.6815 - val_type_sparse_categorical_accuracy: 0.7792\n",
            "Epoch 2/20\n",
            "366/366 [==============================] - 21s 56ms/step - loss: 0.7772 - price_loss: 0.6989 - type_loss: 0.8199 - price_sparse_categorical_accuracy: 0.6887 - type_sparse_categorical_accuracy: 0.7765 - val_loss: 0.7769 - val_price_loss: 0.7233 - val_type_loss: 0.7990 - val_price_sparse_categorical_accuracy: 0.6767 - val_type_sparse_categorical_accuracy: 0.7792\n",
            "Epoch 3/20\n",
            "366/366 [==============================] - 23s 62ms/step - loss: 0.6891 - price_loss: 0.6312 - type_loss: 0.7041 - price_sparse_categorical_accuracy: 0.7288 - type_sparse_categorical_accuracy: 0.7995 - val_loss: 0.8007 - val_price_loss: 0.7745 - val_type_loss: 0.7902 - val_price_sparse_categorical_accuracy: 0.6193 - val_type_sparse_categorical_accuracy: 0.7908\n",
            "Epoch 4/20\n",
            "366/366 [==============================] - 23s 62ms/step - loss: 0.6076 - price_loss: 0.5654 - type_loss: 0.6010 - price_sparse_categorical_accuracy: 0.7682 - type_sparse_categorical_accuracy: 0.8292 - val_loss: 0.8153 - val_price_loss: 0.7860 - val_type_loss: 0.7997 - val_price_sparse_categorical_accuracy: 0.6753 - val_type_sparse_categorical_accuracy: 0.7977\n",
            "Epoch 5/20\n",
            "366/366 [==============================] - 22s 61ms/step - loss: 0.5281 - price_loss: 0.4948 - type_loss: 0.5072 - price_sparse_categorical_accuracy: 0.8046 - type_sparse_categorical_accuracy: 0.8571 - val_loss: 0.8678 - val_price_loss: 0.8018 - val_type_loss: 0.8901 - val_price_sparse_categorical_accuracy: 0.6658 - val_type_sparse_categorical_accuracy: 0.7731\n",
            "Epoch 6/20\n",
            "366/366 [==============================] - 23s 62ms/step - loss: 0.4676 - price_loss: 0.4322 - type_loss: 0.4444 - price_sparse_categorical_accuracy: 0.8299 - type_sparse_categorical_accuracy: 0.8728 - val_loss: 0.8852 - val_price_loss: 0.8698 - val_type_loss: 0.8572 - val_price_sparse_categorical_accuracy: 0.6582 - val_type_sparse_categorical_accuracy: 0.7888\n",
            "Epoch 7/20\n",
            "366/366 [==============================] - 23s 63ms/step - loss: 0.4099 - price_loss: 0.3710 - type_loss: 0.3854 - price_sparse_categorical_accuracy: 0.8590 - type_sparse_categorical_accuracy: 0.8923 - val_loss: 0.9693 - val_price_loss: 0.9390 - val_type_loss: 0.9497 - val_price_sparse_categorical_accuracy: 0.6500 - val_type_sparse_categorical_accuracy: 0.7840\n"
          ]
        }
      ],
      "source": [
        "# fit the model it takes\n",
        "# inputs: summary, and image\n",
        "# outputs: type, and price\n",
        "history = model.fit(\n",
        "    x={\n",
        "        'summary': x_train_text_id,\n",
        "        'image': x_train_image\n",
        "    },\n",
        "    y={\n",
        "        'type': y_train_type,\n",
        "        'price': y_train_price,\n",
        "    },\n",
        "    epochs=20,\n",
        "    batch_size=16,\n",
        "    validation_split=0.2,\n",
        "    callbacks=[\n",
        "        tf.keras.callbacks.EarlyStopping(monitor='val_price_loss', patience=5, ) # If val_price_loss is raised 5 times, the fit will be stopped.\n",
        "    ],\n",
        "    verbose=1\n",
        ")"
      ]
    },
    {
      "cell_type": "code",
      "source": [
        "# we can do prediction on testing set\n",
        "y_predict = model.predict(\n",
        "    {\n",
        "        'summary': x_test_text,\n",
        "        'image': x_test_image\n",
        "    }\n",
        ")\n",
        "\n",
        "\n",
        "# probabilities\n",
        "price_predicted = y_predict['price']\n",
        "print(price_predicted)\n",
        "\n",
        "# categories\n",
        "price_category_predicted = np.argmax(price_predicted, axis=1) # argmax used to convert prob. predict to predict\n",
        "print(price_category_predicted)\n"
      ],
      "metadata": {
        "colab": {
          "base_uri": "https://localhost:8080/"
        },
        "outputId": "8cd1428c-17d8-4617-88d3-28c112100859",
        "id": "C4bB6mcwPFY5"
      },
      "execution_count": null,
      "outputs": [
        {
          "output_type": "stream",
          "name": "stdout",
          "text": [
            "[[3.1445306e-02 7.8255123e-01 1.8600351e-01]\n",
            " [9.9809939e-01 1.3416472e-03 5.5903784e-04]\n",
            " [9.5071208e-01 3.5439439e-02 1.3848492e-02]\n",
            " ...\n",
            " [2.5647730e-01 6.6315353e-01 8.0369204e-02]\n",
            " [9.9902475e-01 3.0003441e-04 6.7520497e-04]\n",
            " [1.8809560e-01 7.5603431e-01 5.5870146e-02]]\n",
            "[1 0 0 ... 1 0 1]\n"
          ]
        }
      ]
    },
    {
      "cell_type": "markdown",
      "source": [
        "#### Display model"
      ],
      "metadata": {
        "id": "nRnSKyuZPFY5"
      }
    },
    {
      "cell_type": "code",
      "source": [
        "# figure is used to create a new figure.\n",
        "plt.figure(figsize=(15, 8))\n",
        "plt.subplot(1, 2, 1)\n",
        "plt.plot(history.history['price_sparse_categorical_accuracy'])\n",
        "plt.plot(history.history['val_price_sparse_categorical_accuracy'])\n",
        "plt.title('Price accuracy') # graph title\n",
        "plt.ylabel('accuracy') # y axis lable\n",
        "plt.xlabel('epoch') # x axis lable\n",
        "plt.legend(['train', 'validation'], loc='upper left') # legend is an area describing the elements of the graph\n",
        "plt.show()\n",
        "plt.grid(True) # grid is the axis object's method toggles the visibility of the grid inside the figure.\n",
        "plt.subplot(1, 2, 1)\n",
        "plt.plot(history.history['price_loss'])\n",
        "plt.plot(history.history['val_price_loss'])\n",
        "plt.title('model loss')  # graph title\n",
        "plt.ylabel('loss') # y axis lable\n",
        "plt.xlabel('epoch')# x axis lable\n",
        "plt.legend(['train', 'validation'], loc='upper left')\n",
        "plt.show()"
      ],
      "metadata": {
        "colab": {
          "base_uri": "https://localhost:8080/",
          "height": 791
        },
        "outputId": "f8e2fd6c-3b21-4364-f4b0-166f6fc5a78b",
        "id": "poovFD3tPFY5"
      },
      "execution_count": null,
      "outputs": [
        {
          "output_type": "display_data",
          "data": {
            "text/plain": [
              "<Figure size 1080x576 with 1 Axes>"
            ],
            "image/png": "[encoded data removed]"
          },
          "metadata": {
            "needs_background": "light"
          }
        },
        {
          "output_type": "display_data",
          "data": {
            "text/plain": [
              "<Figure size 432x288 with 1 Axes>"
            ],
            "image/png": "[encoded data removed]"
          },
          "metadata": {
            "needs_background": "light"
          }
        }
      ]
    },
    {
      "cell_type": "code",
      "execution_count": null,
      "metadata": {
        "id": "eXt296niPFY5"
      },
      "outputs": [],
      "source": [
        "#  (if for kaggle competition and it is about genre prediction)\n",
        "pd.DataFrame(\n",
        "    {'id': data_ts.id,\n",
        "     'price': price_category_predicted}\n",
        ").to_csv('/content/drive/MyDrive/Queens_Practical/Data_Mining/compt4/submission.csv', index=False)"
      ]
    },
    {
      "cell_type": "markdown",
      "metadata": {
        "id": "Zi2JJYbQPFY5"
      },
      "source": [
        "#### Result"
      ]
    },
    {
      "cell_type": "markdown",
      "metadata": {
        "id": "H1JF-HHCPFY5"
      },
      "source": [
        "Accuracy in **kaggle** =0.64836 \\\n",
        "In the prevois trials, there was a lot of overfitting, so in this trial I used dropout and regularizer in text to reduce this overfitting, but the overfitting is not reduced. I tried different layers and different hyperparameters but they gave me less accuracy."
      ]
    },
    {
      "cell_type": "markdown",
      "metadata": {
        "id": "tx1nhMOT0lDP"
      },
      "source": [
        "# **Questions**"
      ]
    },
    {
      "cell_type": "markdown",
      "metadata": {
        "id": "r06ocOEWwbD0"
      },
      "source": [
        "**Is fully-connected model a good one for sequential data? Why? How about for image data? Is it good? Why?** \\\n",
        "- No, as the FC model does not care about dependences between words and a word's position, it does not learn any dependences between words and their positions, and this is very important in sequential data.\n",
        "- No, as an FC model, when it classifies an image, it has a large number of parameters (weights). That makes training time slow and can increase the probability of overfitting and it is not good for feature extraction.\n",
        "\n",
        "**What is gradient vanishing and gradient explosion, and how GRU/LSTM tries to mitigate this problem?**\n",
        "- Vanishing gradient occurs during backpropagation when the derivative gets very small as we go backward in each layer, so training time will be longer when weight updates are very small. This problem occurs in sigmoid and tanh activation functions as it's derivaive between 0 and 0.25 and 0-1. We can solve this problem by using the ReLU activation function, as the gradient is 0 for negative and zero inputs, and 1 for positive inputs.\n",
        "\n",
        "- Exploding gradient This occurs during backpropagation when the derivative gets very large as we go backward through each layer, and it is the opposite of gradient vanishing. This problem occurs when weights have large values, so the derivative will also be high, which makes the new weights different from the old weights. The gradient will never converge, so it may cause the system to oscillate about minima, never achieving a global minima point.    \n",
        "\n",
        "- LSTM/GRU solve this problem by using internal mechanisms called gates that control information flow. The information that required for short-term learning it is forgotted but the information that required for long-term learning is kept it. \n",
        "\n",
        "**What is multi-objective/multi-task learning? What is multi-modality learning? How do you use them in this assignment?**\n",
        "- Multi-Task Learning (MTL) is a machine learning learning paradigm whose goal is to use beneficial knowledge contained in several related tasks to improve the generalisation performance of all tasks.\n",
        " - In this problem, try to predict both price and type.\n",
        "- Multi-modality learning is a predictive model that uses data from a variety of sources to create accurate predictions.\n",
        " - In this problem, try to use the text data and the image data together to get the required outcome.\n",
        "\n",
        "\n",
        " **What is the difference among xgboost, lightgbm and catboost**\n",
        " - **Catboost** \n",
        "   - Based on Minimal Variance Sampling (MVS) is a weighted sampling form of Stochastic Gradient Boosting\n",
        "   - Symmetric every step uses the same criteria to divide leaves from the previous tree.\n",
        "   - Ordered boosting due to an issue known as prediction shift, traditional boosting techniques are prone to overfitting on small/noisy datasets.\n",
        "   - Native feature suppor t saves time and effort by supporting all types of features, whether numeric, category, or text.\n",
        "\n",
        " - **Lightgbm** \n",
        "  - It is a tree grow leaf-wise\n",
        "  - Gradient-based one-side sampling (GOSS)\n",
        "  - Increased training efficiency and speed.\n",
        "  - It is depend on Decision Tree algorithm and use two techniqes Gradient-based One Side Sampling and Exclusive Feature Bundling (EFB)  \n",
        "  - Memory usage is reduced.\n",
        "  - Communication Costs for Parallel Learning are Reduced\n",
        "  - Cost reduction while calculating gain for each decision tree split.\n",
        "  - Better accuracy.\n",
        "  - Parallel, distributed, and GPU learning are all supported.\n",
        "  - Capable of dealing with massive amounts of data.\n",
        "\n",
        "\n",
        " - **Xgboost**\n",
        "  -  It is a trees grow depth-wise\n",
        "  - It does not use weighted sampling approaches, its splitting process is slower than GOSS and MVS.\n",
        "  - Need a lot of resources to train on large amounts of data\n",
        "  - It is a faster algorithm as its parallel and distributed computing. \n",
        "  - Distributed Computing to train large datasets\n",
        "  - Out-of-core computing is used for exceedingly huge datasets that don't fit in memory.\n",
        "  - Data structures and algorithms are cached to make the most of hardware.\n"
      ]
    }
  ],
  "metadata": {
    "accelerator": "GPU",
    "colab": {
      "collapsed_sections": [
        "xtuxWrmAvyuK",
        "7opYAnLnap5E",
        "inwm5qPoGMGh",
        "2ZDj6MYdbJE8",
        "FUNKxyseA-_E",
        "LOCpTv-R7aL9",
        "ZfkVdo-O7pSl",
        "QVLLYiAX8zHU",
        "F44sa2Qx_CIE",
        "gBKM7B8LDl4R",
        "nYISzRG-w0o9",
        "WfzDqPRcDtty",
        "mw3_7Ecz5tYd",
        "edV88wMVsGJ1",
        "csmlO-3Q-lX0",
        "GAEAJn-CunZi",
        "fXdc_gEXunZo",
        "gg2r6s60unZp",
        "RNIutMfkunZp",
        "3haISJWmJ9Mb",
        "gs0ySHUiJ9Mg",
        "_08_xUA8J9Mi",
        "DF1M_0N3J9Mi",
        "91k8iLooMedX",
        "_7g90ZLlMedp",
        "gyS2GnOtMedr",
        "o8YTA0-9Meds",
        "GIbR7myqRXK4",
        "CotN0l3gRXLB",
        "nox0XllkRXLC",
        "RGLj6uEpRXLC",
        "f-tQ_UF9NLk4",
        "jI-9WVqSNLlK",
        "8IZJA8ZwNLlM",
        "bGeeA87CNLlN",
        "fldDuTPTqv3y",
        "2cEPMc3nqv37",
        "8vtFjGsrqv38",
        "dLG2PXnvqv39",
        "boXby4RfPFY3",
        "d2DU4FNOPFY4",
        "nRnSKyuZPFY5",
        "Zi2JJYbQPFY5",
        "tx1nhMOT0lDP"
      ],
      "provenance": []
    },
    "kernelspec": {
      "display_name": "Python 3",
      "name": "python3"
    },
    "language_info": {
      "name": "python"
    },
    "widgets": {
      "application/vnd.jupyter.widget-state+json": {
        "1844de075d8341cfb3fc6934f5fadd52": {
          "model_module": "@jupyter-widgets/controls",
          "model_name": "HBoxModel",
          "model_module_version": "1.5.0",
          "state": {
            "_dom_classes": [],
            "_model_module": "@jupyter-widgets/controls",
            "_model_module_version": "1.5.0",
            "_model_name": "HBoxModel",
            "_view_count": null,
            "_view_module": "@jupyter-widgets/controls",
            "_view_module_version": "1.5.0",
            "_view_name": "HBoxView",
            "box_style": "",
            "children": [
              "IPY_MODEL_65a882ae4438407b8a2fbe094b9f92ac",
              "IPY_MODEL_9fdbaa1e1dff445f896db26818cefce1",
              "IPY_MODEL_f543b3e3449d4b68bba2aac0d66224ba"
            ],
            "layout": "IPY_MODEL_3715fafa11374259a55591f710e9b51f"
          }
        },
        "65a882ae4438407b8a2fbe094b9f92ac": {
          "model_module": "@jupyter-widgets/controls",
          "model_name": "HTMLModel",
          "model_module_version": "1.5.0",
          "state": {
            "_dom_classes": [],
            "_model_module": "@jupyter-widgets/controls",
            "_model_module_version": "1.5.0",
            "_model_name": "HTMLModel",
            "_view_count": null,
            "_view_module": "@jupyter-widgets/controls",
            "_view_module_version": "1.5.0",
            "_view_name": "HTMLView",
            "description": "",
            "description_tooltip": null,
            "layout": "IPY_MODEL_923b5780ebd54a86a98dd519e2a96826",
            "placeholder": "​",
            "style": "IPY_MODEL_2cb7755af6ba47dc8ab2883d14552515",
            "value": "100%"
          }
        },
        "9fdbaa1e1dff445f896db26818cefce1": {
          "model_module": "@jupyter-widgets/controls",
          "model_name": "FloatProgressModel",
          "model_module_version": "1.5.0",
          "state": {
            "_dom_classes": [],
            "_model_module": "@jupyter-widgets/controls",
            "_model_module_version": "1.5.0",
            "_model_name": "FloatProgressModel",
            "_view_count": null,
            "_view_module": "@jupyter-widgets/controls",
            "_view_module_version": "1.5.0",
            "_view_name": "ProgressView",
            "bar_style": "success",
            "description": "",
            "description_tooltip": null,
            "layout": "IPY_MODEL_b5fd3dee14a947ddb5936a0ea2a84cde",
            "max": 7312,
            "min": 0,
            "orientation": "horizontal",
            "style": "IPY_MODEL_b7ee8768de194c57bae5d43ae49cc61f",
            "value": 7312
          }
        },
        "f543b3e3449d4b68bba2aac0d66224ba": {
          "model_module": "@jupyter-widgets/controls",
          "model_name": "HTMLModel",
          "model_module_version": "1.5.0",
          "state": {
            "_dom_classes": [],
            "_model_module": "@jupyter-widgets/controls",
            "_model_module_version": "1.5.0",
            "_model_name": "HTMLModel",
            "_view_count": null,
            "_view_module": "@jupyter-widgets/controls",
            "_view_module_version": "1.5.0",
            "_view_name": "HTMLView",
            "description": "",
            "description_tooltip": null,
            "layout": "IPY_MODEL_26d56982cd5c4125bd348350be65db0d",
            "placeholder": "​",
            "style": "IPY_MODEL_d1ea3109c78547aba3ddb274b75ccd28",
            "value": " 7312/7312 [00:00&lt;00:00, 16058.91it/s]"
          }
        },
        "3715fafa11374259a55591f710e9b51f": {
          "model_module": "@jupyter-widgets/base",
          "model_name": "LayoutModel",
          "model_module_version": "1.2.0",
          "state": {
            "_model_module": "@jupyter-widgets/base",
            "_model_module_version": "1.2.0",
            "_model_name": "LayoutModel",
            "_view_count": null,
            "_view_module": "@jupyter-widgets/base",
            "_view_module_version": "1.2.0",
            "_view_name": "LayoutView",
            "align_content": null,
            "align_items": null,
            "align_self": null,
            "border": null,
            "bottom": null,
            "display": null,
            "flex": null,
            "flex_flow": null,
            "grid_area": null,
            "grid_auto_columns": null,
            "grid_auto_flow": null,
            "grid_auto_rows": null,
            "grid_column": null,
            "grid_gap": null,
            "grid_row": null,
            "grid_template_areas": null,
            "grid_template_columns": null,
            "grid_template_rows": null,
            "height": null,
            "justify_content": null,
            "justify_items": null,
            "left": null,
            "margin": null,
            "max_height": null,
            "max_width": null,
            "min_height": null,
            "min_width": null,
            "object_fit": null,
            "object_position": null,
            "order": null,
            "overflow": null,
            "overflow_x": null,
            "overflow_y": null,
            "padding": null,
            "right": null,
            "top": null,
            "visibility": null,
            "width": null
          }
        },
        "923b5780ebd54a86a98dd519e2a96826": {
          "model_module": "@jupyter-widgets/base",
          "model_name": "LayoutModel",
          "model_module_version": "1.2.0",
          "state": {
            "_model_module": "@jupyter-widgets/base",
            "_model_module_version": "1.2.0",
            "_model_name": "LayoutModel",
            "_view_count": null,
            "_view_module": "@jupyter-widgets/base",
            "_view_module_version": "1.2.0",
            "_view_name": "LayoutView",
            "align_content": null,
            "align_items": null,
            "align_self": null,
            "border": null,
            "bottom": null,
            "display": null,
            "flex": null,
            "flex_flow": null,
            "grid_area": null,
            "grid_auto_columns": null,
            "grid_auto_flow": null,
            "grid_auto_rows": null,
            "grid_column": null,
            "grid_gap": null,
            "grid_row": null,
            "grid_template_areas": null,
            "grid_template_columns": null,
            "grid_template_rows": null,
            "height": null,
            "justify_content": null,
            "justify_items": null,
            "left": null,
            "margin": null,
            "max_height": null,
            "max_width": null,
            "min_height": null,
            "min_width": null,
            "object_fit": null,
            "object_position": null,
            "order": null,
            "overflow": null,
            "overflow_x": null,
            "overflow_y": null,
            "padding": null,
            "right": null,
            "top": null,
            "visibility": null,
            "width": null
          }
        },
        "2cb7755af6ba47dc8ab2883d14552515": {
          "model_module": "@jupyter-widgets/controls",
          "model_name": "DescriptionStyleModel",
          "model_module_version": "1.5.0",
          "state": {
            "_model_module": "@jupyter-widgets/controls",
            "_model_module_version": "1.5.0",
            "_model_name": "DescriptionStyleModel",
            "_view_count": null,
            "_view_module": "@jupyter-widgets/base",
            "_view_module_version": "1.2.0",
            "_view_name": "StyleView",
            "description_width": ""
          }
        },
        "b5fd3dee14a947ddb5936a0ea2a84cde": {
          "model_module": "@jupyter-widgets/base",
          "model_name": "LayoutModel",
          "model_module_version": "1.2.0",
          "state": {
            "_model_module": "@jupyter-widgets/base",
            "_model_module_version": "1.2.0",
            "_model_name": "LayoutModel",
            "_view_count": null,
            "_view_module": "@jupyter-widgets/base",
            "_view_module_version": "1.2.0",
            "_view_name": "LayoutView",
            "align_content": null,
            "align_items": null,
            "align_self": null,
            "border": null,
            "bottom": null,
            "display": null,
            "flex": null,
            "flex_flow": null,
            "grid_area": null,
            "grid_auto_columns": null,
            "grid_auto_flow": null,
            "grid_auto_rows": null,
            "grid_column": null,
            "grid_gap": null,
            "grid_row": null,
            "grid_template_areas": null,
            "grid_template_columns": null,
            "grid_template_rows": null,
            "height": null,
            "justify_content": null,
            "justify_items": null,
            "left": null,
            "margin": null,
            "max_height": null,
            "max_width": null,
            "min_height": null,
            "min_width": null,
            "object_fit": null,
            "object_position": null,
            "order": null,
            "overflow": null,
            "overflow_x": null,
            "overflow_y": null,
            "padding": null,
            "right": null,
            "top": null,
            "visibility": null,
            "width": null
          }
        },
        "b7ee8768de194c57bae5d43ae49cc61f": {
          "model_module": "@jupyter-widgets/controls",
          "model_name": "ProgressStyleModel",
          "model_module_version": "1.5.0",
          "state": {
            "_model_module": "@jupyter-widgets/controls",
            "_model_module_version": "1.5.0",
            "_model_name": "ProgressStyleModel",
            "_view_count": null,
            "_view_module": "@jupyter-widgets/base",
            "_view_module_version": "1.2.0",
            "_view_name": "StyleView",
            "bar_color": null,
            "description_width": ""
          }
        },
        "26d56982cd5c4125bd348350be65db0d": {
          "model_module": "@jupyter-widgets/base",
          "model_name": "LayoutModel",
          "model_module_version": "1.2.0",
          "state": {
            "_model_module": "@jupyter-widgets/base",
            "_model_module_version": "1.2.0",
            "_model_name": "LayoutModel",
            "_view_count": null,
            "_view_module": "@jupyter-widgets/base",
            "_view_module_version": "1.2.0",
            "_view_name": "LayoutView",
            "align_content": null,
            "align_items": null,
            "align_self": null,
            "border": null,
            "bottom": null,
            "display": null,
            "flex": null,
            "flex_flow": null,
            "grid_area": null,
            "grid_auto_columns": null,
            "grid_auto_flow": null,
            "grid_auto_rows": null,
            "grid_column": null,
            "grid_gap": null,
            "grid_row": null,
            "grid_template_areas": null,
            "grid_template_columns": null,
            "grid_template_rows": null,
            "height": null,
            "justify_content": null,
            "justify_items": null,
            "left": null,
            "margin": null,
            "max_height": null,
            "max_width": null,
            "min_height": null,
            "min_width": null,
            "object_fit": null,
            "object_position": null,
            "order": null,
            "overflow": null,
            "overflow_x": null,
            "overflow_y": null,
            "padding": null,
            "right": null,
            "top": null,
            "visibility": null,
            "width": null
          }
        },
        "d1ea3109c78547aba3ddb274b75ccd28": {
          "model_module": "@jupyter-widgets/controls",
          "model_name": "DescriptionStyleModel",
          "model_module_version": "1.5.0",
          "state": {
            "_model_module": "@jupyter-widgets/controls",
            "_model_module_version": "1.5.0",
            "_model_name": "DescriptionStyleModel",
            "_view_count": null,
            "_view_module": "@jupyter-widgets/base",
            "_view_module_version": "1.2.0",
            "_view_name": "StyleView",
            "description_width": ""
          }
        },
        "572e91c5bc9145069c5bc51942c93cdb": {
          "model_module": "@jupyter-widgets/controls",
          "model_name": "HBoxModel",
          "model_module_version": "1.5.0",
          "state": {
            "_dom_classes": [],
            "_model_module": "@jupyter-widgets/controls",
            "_model_module_version": "1.5.0",
            "_model_name": "HBoxModel",
            "_view_count": null,
            "_view_module": "@jupyter-widgets/controls",
            "_view_module_version": "1.5.0",
            "_view_name": "HBoxView",
            "box_style": "",
            "children": [
              "IPY_MODEL_ba0c86f1151943fe89ad9e19b0a87026",
              "IPY_MODEL_179663db44534f309de10684e0a9ed49",
              "IPY_MODEL_a99cbbab2f9a4964bc2bf719d24f400b"
            ],
            "layout": "IPY_MODEL_bd2858be1b0545d481d788ced29a2d73"
          }
        },
        "ba0c86f1151943fe89ad9e19b0a87026": {
          "model_module": "@jupyter-widgets/controls",
          "model_name": "HTMLModel",
          "model_module_version": "1.5.0",
          "state": {
            "_dom_classes": [],
            "_model_module": "@jupyter-widgets/controls",
            "_model_module_version": "1.5.0",
            "_model_name": "HTMLModel",
            "_view_count": null,
            "_view_module": "@jupyter-widgets/controls",
            "_view_module_version": "1.5.0",
            "_view_name": "HTMLView",
            "description": "",
            "description_tooltip": null,
            "layout": "IPY_MODEL_f920faa5de3149fc8892787aa7553053",
            "placeholder": "​",
            "style": "IPY_MODEL_55b87f067e024bb3a844337b069b8a27",
            "value": "100%"
          }
        },
        "179663db44534f309de10684e0a9ed49": {
          "model_module": "@jupyter-widgets/controls",
          "model_name": "FloatProgressModel",
          "model_module_version": "1.5.0",
          "state": {
            "_dom_classes": [],
            "_model_module": "@jupyter-widgets/controls",
            "_model_module_version": "1.5.0",
            "_model_name": "FloatProgressModel",
            "_view_count": null,
            "_view_module": "@jupyter-widgets/controls",
            "_view_module_version": "1.5.0",
            "_view_name": "ProgressView",
            "bar_style": "success",
            "description": "",
            "description_tooltip": null,
            "layout": "IPY_MODEL_747ffe35135340af81fafa434bf8398d",
            "max": 7360,
            "min": 0,
            "orientation": "horizontal",
            "style": "IPY_MODEL_4b627c041bf040a4904c9d1dbe38f58a",
            "value": 7360
          }
        },
        "a99cbbab2f9a4964bc2bf719d24f400b": {
          "model_module": "@jupyter-widgets/controls",
          "model_name": "HTMLModel",
          "model_module_version": "1.5.0",
          "state": {
            "_dom_classes": [],
            "_model_module": "@jupyter-widgets/controls",
            "_model_module_version": "1.5.0",
            "_model_name": "HTMLModel",
            "_view_count": null,
            "_view_module": "@jupyter-widgets/controls",
            "_view_module_version": "1.5.0",
            "_view_name": "HTMLView",
            "description": "",
            "description_tooltip": null,
            "layout": "IPY_MODEL_e39e931ff67f4a5fac93b598a66f6fe4",
            "placeholder": "​",
            "style": "IPY_MODEL_6e8a316d464c4d1689da825cc6f64fe1",
            "value": " 7360/7360 [00:00&lt;00:00, 23506.18it/s]"
          }
        },
        "bd2858be1b0545d481d788ced29a2d73": {
          "model_module": "@jupyter-widgets/base",
          "model_name": "LayoutModel",
          "model_module_version": "1.2.0",
          "state": {
            "_model_module": "@jupyter-widgets/base",
            "_model_module_version": "1.2.0",
            "_model_name": "LayoutModel",
            "_view_count": null,
            "_view_module": "@jupyter-widgets/base",
            "_view_module_version": "1.2.0",
            "_view_name": "LayoutView",
            "align_content": null,
            "align_items": null,
            "align_self": null,
            "border": null,
            "bottom": null,
            "display": null,
            "flex": null,
            "flex_flow": null,
            "grid_area": null,
            "grid_auto_columns": null,
            "grid_auto_flow": null,
            "grid_auto_rows": null,
            "grid_column": null,
            "grid_gap": null,
            "grid_row": null,
            "grid_template_areas": null,
            "grid_template_columns": null,
            "grid_template_rows": null,
            "height": null,
            "justify_content": null,
            "justify_items": null,
            "left": null,
            "margin": null,
            "max_height": null,
            "max_width": null,
            "min_height": null,
            "min_width": null,
            "object_fit": null,
            "object_position": null,
            "order": null,
            "overflow": null,
            "overflow_x": null,
            "overflow_y": null,
            "padding": null,
            "right": null,
            "top": null,
            "visibility": null,
            "width": null
          }
        },
        "f920faa5de3149fc8892787aa7553053": {
          "model_module": "@jupyter-widgets/base",
          "model_name": "LayoutModel",
          "model_module_version": "1.2.0",
          "state": {
            "_model_module": "@jupyter-widgets/base",
            "_model_module_version": "1.2.0",
            "_model_name": "LayoutModel",
            "_view_count": null,
            "_view_module": "@jupyter-widgets/base",
            "_view_module_version": "1.2.0",
            "_view_name": "LayoutView",
            "align_content": null,
            "align_items": null,
            "align_self": null,
            "border": null,
            "bottom": null,
            "display": null,
            "flex": null,
            "flex_flow": null,
            "grid_area": null,
            "grid_auto_columns": null,
            "grid_auto_flow": null,
            "grid_auto_rows": null,
            "grid_column": null,
            "grid_gap": null,
            "grid_row": null,
            "grid_template_areas": null,
            "grid_template_columns": null,
            "grid_template_rows": null,
            "height": null,
            "justify_content": null,
            "justify_items": null,
            "left": null,
            "margin": null,
            "max_height": null,
            "max_width": null,
            "min_height": null,
            "min_width": null,
            "object_fit": null,
            "object_position": null,
            "order": null,
            "overflow": null,
            "overflow_x": null,
            "overflow_y": null,
            "padding": null,
            "right": null,
            "top": null,
            "visibility": null,
            "width": null
          }
        },
        "55b87f067e024bb3a844337b069b8a27": {
          "model_module": "@jupyter-widgets/controls",
          "model_name": "DescriptionStyleModel",
          "model_module_version": "1.5.0",
          "state": {
            "_model_module": "@jupyter-widgets/controls",
            "_model_module_version": "1.5.0",
            "_model_name": "DescriptionStyleModel",
            "_view_count": null,
            "_view_module": "@jupyter-widgets/base",
            "_view_module_version": "1.2.0",
            "_view_name": "StyleView",
            "description_width": ""
          }
        },
        "747ffe35135340af81fafa434bf8398d": {
          "model_module": "@jupyter-widgets/base",
          "model_name": "LayoutModel",
          "model_module_version": "1.2.0",
          "state": {
            "_model_module": "@jupyter-widgets/base",
            "_model_module_version": "1.2.0",
            "_model_name": "LayoutModel",
            "_view_count": null,
            "_view_module": "@jupyter-widgets/base",
            "_view_module_version": "1.2.0",
            "_view_name": "LayoutView",
            "align_content": null,
            "align_items": null,
            "align_self": null,
            "border": null,
            "bottom": null,
            "display": null,
            "flex": null,
            "flex_flow": null,
            "grid_area": null,
            "grid_auto_columns": null,
            "grid_auto_flow": null,
            "grid_auto_rows": null,
            "grid_column": null,
            "grid_gap": null,
            "grid_row": null,
            "grid_template_areas": null,
            "grid_template_columns": null,
            "grid_template_rows": null,
            "height": null,
            "justify_content": null,
            "justify_items": null,
            "left": null,
            "margin": null,
            "max_height": null,
            "max_width": null,
            "min_height": null,
            "min_width": null,
            "object_fit": null,
            "object_position": null,
            "order": null,
            "overflow": null,
            "overflow_x": null,
            "overflow_y": null,
            "padding": null,
            "right": null,
            "top": null,
            "visibility": null,
            "width": null
          }
        },
        "4b627c041bf040a4904c9d1dbe38f58a": {
          "model_module": "@jupyter-widgets/controls",
          "model_name": "ProgressStyleModel",
          "model_module_version": "1.5.0",
          "state": {
            "_model_module": "@jupyter-widgets/controls",
            "_model_module_version": "1.5.0",
            "_model_name": "ProgressStyleModel",
            "_view_count": null,
            "_view_module": "@jupyter-widgets/base",
            "_view_module_version": "1.2.0",
            "_view_name": "StyleView",
            "bar_color": null,
            "description_width": ""
          }
        },
        "e39e931ff67f4a5fac93b598a66f6fe4": {
          "model_module": "@jupyter-widgets/base",
          "model_name": "LayoutModel",
          "model_module_version": "1.2.0",
          "state": {
            "_model_module": "@jupyter-widgets/base",
            "_model_module_version": "1.2.0",
            "_model_name": "LayoutModel",
            "_view_count": null,
            "_view_module": "@jupyter-widgets/base",
            "_view_module_version": "1.2.0",
            "_view_name": "LayoutView",
            "align_content": null,
            "align_items": null,
            "align_self": null,
            "border": null,
            "bottom": null,
            "display": null,
            "flex": null,
            "flex_flow": null,
            "grid_area": null,
            "grid_auto_columns": null,
            "grid_auto_flow": null,
            "grid_auto_rows": null,
            "grid_column": null,
            "grid_gap": null,
            "grid_row": null,
            "grid_template_areas": null,
            "grid_template_columns": null,
            "grid_template_rows": null,
            "height": null,
            "justify_content": null,
            "justify_items": null,
            "left": null,
            "margin": null,
            "max_height": null,
            "max_width": null,
            "min_height": null,
            "min_width": null,
            "object_fit": null,
            "object_position": null,
            "order": null,
            "overflow": null,
            "overflow_x": null,
            "overflow_y": null,
            "padding": null,
            "right": null,
            "top": null,
            "visibility": null,
            "width": null
          }
        },
        "6e8a316d464c4d1689da825cc6f64fe1": {
          "model_module": "@jupyter-widgets/controls",
          "model_name": "DescriptionStyleModel",
          "model_module_version": "1.5.0",
          "state": {
            "_model_module": "@jupyter-widgets/controls",
            "_model_module_version": "1.5.0",
            "_model_name": "DescriptionStyleModel",
            "_view_count": null,
            "_view_module": "@jupyter-widgets/base",
            "_view_module_version": "1.2.0",
            "_view_name": "StyleView",
            "description_width": ""
          }
        }
      }
    }
  },
  "nbformat": 4,
  "nbformat_minor": 0
}